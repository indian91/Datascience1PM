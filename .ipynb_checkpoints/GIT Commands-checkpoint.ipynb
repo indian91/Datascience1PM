{
 "cells": [
  {
   "cell_type": "markdown",
   "metadata": {},
   "source": [
    "        \n",
    "        git init\n",
    "        \n",
    "        git add filename\n",
    "        \n",
    "        \n",
    "        git status\n",
    "        \n",
    "        git commit -m \"message\"\n",
    "        \n",
    "        git remote add origin_name github_link\n",
    "        \n",
    "        \n",
    "        git push origin_name master\n",
    "        \n",
    "        git clone github_link\n",
    "        \n",
    "        git pull origin master"
   ]
  },
  {
   "cell_type": "code",
   "execution_count": null,
   "metadata": {},
   "outputs": [],
   "source": []
  }
 ],
 "metadata": {
  "kernelspec": {
   "display_name": "Python 3",
   "language": "python",
   "name": "python3"
  },
  "language_info": {
   "codemirror_mode": {
    "name": "ipython",
    "version": 3
   },
   "file_extension": ".py",
   "mimetype": "text/x-python",
   "name": "python",
   "nbconvert_exporter": "python",
   "pygments_lexer": "ipython3",
   "version": "3.7.3"
  }
 },
 "nbformat": 4,
 "nbformat_minor": 2
}
