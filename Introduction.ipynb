{
 "cells": [
  {
   "cell_type": "markdown",
   "metadata": {},
   "source": [
    "        Data Type \n",
    "            \n",
    "            Number(int,float,complex)\n",
    "            \n",
    "            String\n",
    "            \n",
    "            List\n",
    "            \n",
    "            Tuple\n",
    "            \n",
    "            Dictionary\n",
    "            \n",
    "            Sets\n",
    "            \n",
    "            Frozenset\n",
    "            \n",
    "            bool\n",
    "            \n",
    "        Core python --> \n",
    "                \n",
    "                1. Open Sourcce\n",
    "                \n",
    "                Dynamic \n",
    "                \n",
    "                Library Part"
   ]
  },
  {
   "cell_type": "markdown",
   "metadata": {},
   "source": [
    "        Q.1 What is difference Value and Variable ?"
   ]
  },
  {
   "cell_type": "markdown",
   "metadata": {},
   "source": [
    "        variable: It is the storage containr which stores our values \n",
    "        \n",
    "        value: actual data"
   ]
  },
  {
   "cell_type": "markdown",
   "metadata": {},
   "source": [
    "\n",
    "\n",
    "        x = 5\n",
    "        \n",
    "        \n",
    "        x = 5.5\n",
    "        \n",
    "        type(x)  ---> int , float"
   ]
  },
  {
   "cell_type": "code",
   "execution_count": 1,
   "metadata": {},
   "outputs": [],
   "source": [
    "x = '5'"
   ]
  },
  {
   "cell_type": "code",
   "execution_count": 2,
   "metadata": {},
   "outputs": [
    {
     "data": {
      "text/plain": [
       "str"
      ]
     },
     "execution_count": 2,
     "metadata": {},
     "output_type": "execute_result"
    }
   ],
   "source": [
    "type(x)"
   ]
  },
  {
   "cell_type": "markdown",
   "metadata": {},
   "source": [
    "<h1>Hello World</h1>"
   ]
  },
  {
   "cell_type": "markdown",
   "metadata": {},
   "source": [
    "# Hello World"
   ]
  },
  {
   "cell_type": "markdown",
   "metadata": {},
   "source": [
    "###### Hello Wolrd"
   ]
  },
  {
   "cell_type": "markdown",
   "metadata": {},
   "source": [
    "<a href=\"https://www.grras.com\">Grras</a>"
   ]
  },
  {
   "cell_type": "markdown",
   "metadata": {},
   "source": [
    "- Name\n",
    "- Course\n",
    "- Age\n",
    "- Email"
   ]
  },
  {
   "cell_type": "markdown",
   "metadata": {},
   "source": [
    "`Introduction`"
   ]
  },
  {
   "cell_type": "code",
   "execution_count": 5,
   "metadata": {},
   "outputs": [],
   "source": [
    "import psutil"
   ]
  },
  {
   "cell_type": "code",
   "execution_count": 6,
   "metadata": {},
   "outputs": [],
   "source": [
    "import time"
   ]
  },
  {
   "cell_type": "code",
   "execution_count": null,
   "metadata": {},
   "outputs": [
    {
     "name": "stdout",
     "output_type": "stream",
     "text": [
      "11.9\n",
      "8.0\n",
      "9.3\n",
      "8.0\n",
      "11.0\n",
      "11.2\n",
      "26.1\n",
      "7.4\n",
      "6.8\n",
      "12.2\n",
      "13.5\n",
      "13.6\n",
      "18.1\n",
      "12.3\n",
      "12.3\n",
      "14.3\n",
      "8.6\n",
      "14.0\n",
      "17.5\n"
     ]
    }
   ],
   "source": [
    "while True:\n",
    "    \n",
    "    time.sleep(1)\n",
    "    print(psutil.cpu_percent())"
   ]
  },
  {
   "cell_type": "code",
   "execution_count": null,
   "metadata": {},
   "outputs": [],
   "source": []
  }
 ],
 "metadata": {
  "kernelspec": {
   "display_name": "Python 3",
   "language": "python",
   "name": "python3"
  },
  "language_info": {
   "codemirror_mode": {
    "name": "ipython",
    "version": 3
   },
   "file_extension": ".py",
   "mimetype": "text/x-python",
   "name": "python",
   "nbconvert_exporter": "python",
   "pygments_lexer": "ipython3",
   "version": "3.7.3"
  }
 },
 "nbformat": 4,
 "nbformat_minor": 2
}
