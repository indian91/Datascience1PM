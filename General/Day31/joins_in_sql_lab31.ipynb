{
 "cells": [
  {
   "cell_type": "markdown",
   "metadata": {
    "slideshow": {
     "slide_type": "slide"
    }
   },
   "source": [
    "## SQL JOIN"
   ]
  },
  {
   "cell_type": "markdown",
   "metadata": {
    "slideshow": {
     "slide_type": "fragment"
    }
   },
   "source": [
    "- SQL Join is used to fetch data from two or more tables, which is joined to appear as single set of data. It is used for combining column from two or more tables by using values common to both tables."
   ]
  },
  {
   "cell_type": "markdown",
   "metadata": {
    "slideshow": {
     "slide_type": "fragment"
    }
   },
   "source": [
    " - JOIN Keyword is used in SQL queries for joining two or more tables. Minimum required condition for joining table, is (n-1) where n, is number of tables. A table can also join to itself, which is known as, Self Join."
   ]
  },
  {
   "cell_type": "markdown",
   "metadata": {
    "slideshow": {
     "slide_type": "slide"
    }
   },
   "source": [
    "<img src='https://drive.google.com/uc?id=1nEWUZxbj3evyWa3r69V7rDWpoEfPRgib' height=500 width=500>  "
   ]
  },
  {
   "cell_type": "markdown",
   "metadata": {
    "slideshow": {
     "slide_type": "slide"
    }
   },
   "source": [
    "## Types of JOIN"
   ]
  },
  {
   "cell_type": "markdown",
   "metadata": {
    "slideshow": {
     "slide_type": "fragment"
    }
   },
   "source": [
    "- Following are the types of JOIN that we can use in SQL:\n",
    "\n",
    "    1. Inner\n",
    "    2. Outer\n",
    "    3. Left\n",
    "    4. Right"
   ]
  },
  {
   "cell_type": "markdown",
   "metadata": {
    "slideshow": {
     "slide_type": "slide"
    }
   },
   "source": [
    "### Cross JOIN or Cartesian Product"
   ]
  },
  {
   "cell_type": "markdown",
   "metadata": {
    "slideshow": {
     "slide_type": "fragment"
    }
   },
   "source": [
    "- This type of JOIN returns the cartesian product of rows from the tables in Join.\n",
    "- It will return a table which consists of records which combines each row from the first table with each row of the second table."
   ]
  },
  {
   "cell_type": "markdown",
   "metadata": {
    "slideshow": {
     "slide_type": "slide"
    }
   },
   "source": [
    "##### Cross JOIN Syntax "
   ]
  },
  {
   "cell_type": "code",
   "execution_count": null,
   "metadata": {
    "slideshow": {
     "slide_type": "fragment"
    }
   },
   "outputs": [],
   "source": [
    "SELECT column-name-list\n",
    "FROM \n",
    "table-name1 CROSS JOIN table-name2;"
   ]
  },
  {
   "cell_type": "markdown",
   "metadata": {
    "slideshow": {
     "slide_type": "slide"
    }
   },
   "source": [
    "#### Example of Cross JOIN\n",
    "Following is the class table"
   ]
  },
  {
   "cell_type": "markdown",
   "metadata": {
    "slideshow": {
     "slide_type": "fragment"
    }
   },
   "source": [
    "<img src='https://drive.google.com/uc?id=1-Yt8yL8Td0I5DWf40E2wPD4YQB33HUDA' height=500 width=800>  \n",
    "and the class_info table,"
   ]
  },
  {
   "cell_type": "markdown",
   "metadata": {
    "slideshow": {
     "slide_type": "slide"
    }
   },
   "source": [
    "<img src='https://drive.google.com/uc?id=1kHndAV7oD_zgrMCm8hNg65jWyURaFMYo' height=500 width=800>  \n",
    "Cross JOIN query will be,"
   ]
  },
  {
   "cell_type": "code",
   "execution_count": null,
   "metadata": {
    "slideshow": {
     "slide_type": "slide"
    }
   },
   "outputs": [],
   "source": [
    "SELECT * FROM \n",
    "class CROSS JOIN class_info;"
   ]
  },
  {
   "cell_type": "markdown",
   "metadata": {
    "slideshow": {
     "slide_type": "fragment"
    }
   },
   "source": [
    "The resultset table will look like,\n",
    "<img src='https://drive.google.com/uc?id=1A8sx9XHBdrfWSmgzTXqlaMNKiMFDwWrh' height=500 width=800>  "
   ]
  },
  {
   "cell_type": "markdown",
   "metadata": {
    "slideshow": {
     "slide_type": "slide"
    }
   },
   "source": [
    "**Note: This join returns the cross product of all the records present in both the tables.**"
   ]
  },
  {
   "cell_type": "markdown",
   "metadata": {
    "slideshow": {
     "slide_type": "slide"
    }
   },
   "source": [
    "### INNER Join or EQUI Join"
   ]
  },
  {
   "cell_type": "markdown",
   "metadata": {
    "slideshow": {
     "slide_type": "fragment"
    }
   },
   "source": [
    "This is a simple JOIN in which the result is based on matched data as per the equality condition specified in the SQL query."
   ]
  },
  {
   "cell_type": "markdown",
   "metadata": {
    "slideshow": {
     "slide_type": "slide"
    }
   },
   "source": [
    "#### Inner Join Syntax"
   ]
  },
  {
   "cell_type": "code",
   "execution_count": null,
   "metadata": {
    "slideshow": {
     "slide_type": "fragment"
    }
   },
   "outputs": [],
   "source": [
    "SELECT column-name-list FROM \n",
    "table-name1 INNER JOIN table-name2 \n",
    "WHERE table-name1.column-name = table-name2.column-name;"
   ]
  },
  {
   "cell_type": "markdown",
   "metadata": {
    "slideshow": {
     "slide_type": "slide"
    }
   },
   "source": [
    "#### Example of INNER JOIN\n",
    "Consider a class table,"
   ]
  },
  {
   "cell_type": "markdown",
   "metadata": {
    "slideshow": {
     "slide_type": "fragment"
    }
   },
   "source": [
    "<img src='https://drive.google.com/uc?id=1n5Xc8F8GO2wkgBD5jgw2aZQEt5XKQ4eZ' height=500 width=800>  \n",
    "and the class_info table,"
   ]
  },
  {
   "cell_type": "markdown",
   "metadata": {
    "slideshow": {
     "slide_type": "slide"
    }
   },
   "source": [
    "<img src='https://drive.google.com/uc?id=1RsgcA02oElXj1KyeWRBt8EPtLDpYWSXw' height=500 width=800>  \n",
    "Inner JOIN query will be,"
   ]
  },
  {
   "cell_type": "code",
   "execution_count": null,
   "metadata": {
    "slideshow": {
     "slide_type": "slide"
    }
   },
   "outputs": [],
   "source": [
    "SELECT * from class INNER JOIN class_info where class.id = class_info.id;"
   ]
  },
  {
   "cell_type": "markdown",
   "metadata": {
    "slideshow": {
     "slide_type": "fragment"
    }
   },
   "source": [
    "The resultset table will look like,\n",
    "<img src='https://drive.google.com/uc?id=1I6FpRaX7M4ZWAAp826yDerGIng-7vnUf' height=500 width=800>  "
   ]
  },
  {
   "cell_type": "markdown",
   "metadata": {
    "slideshow": {
     "slide_type": "slide"
    }
   },
   "source": [
    "### Natural JOIN"
   ]
  },
  {
   "cell_type": "markdown",
   "metadata": {
    "slideshow": {
     "slide_type": "fragment"
    }
   },
   "source": [
    "- Natural Join is a type of Inner join which is based on column having same name and same datatype present in both the tables to be joined."
   ]
  },
  {
   "cell_type": "markdown",
   "metadata": {
    "slideshow": {
     "slide_type": "slide"
    }
   },
   "source": [
    "#### The syntax for Natural Join:"
   ]
  },
  {
   "cell_type": "code",
   "execution_count": null,
   "metadata": {
    "slideshow": {
     "slide_type": "fragment"
    }
   },
   "outputs": [],
   "source": [
    "SELECT * FROM \n",
    "table-name1 NATURAL JOIN table-name2;"
   ]
  },
  {
   "cell_type": "markdown",
   "metadata": {
    "slideshow": {
     "slide_type": "slide"
    }
   },
   "source": [
    "#### Example of Natural JOIN\n",
    "Here is the class table,"
   ]
  },
  {
   "cell_type": "markdown",
   "metadata": {
    "slideshow": {
     "slide_type": "fragment"
    }
   },
   "source": [
    "<img src='https://drive.google.com/uc?id=1n5Xc8F8GO2wkgBD5jgw2aZQEt5XKQ4eZ' height=500 width=800>  \n",
    "and the class_info table,"
   ]
  },
  {
   "cell_type": "markdown",
   "metadata": {
    "slideshow": {
     "slide_type": "slide"
    }
   },
   "source": [
    "<img src='https://drive.google.com/uc?id=1RsgcA02oElXj1KyeWRBt8EPtLDpYWSXw' height=500 width=800>  \n",
    "Natural join query will be,"
   ]
  },
  {
   "cell_type": "code",
   "execution_count": null,
   "metadata": {
    "slideshow": {
     "slide_type": "slide"
    }
   },
   "outputs": [],
   "source": [
    "SELECT * from class NATURAL JOIN class_info; "
   ]
  },
  {
   "cell_type": "markdown",
   "metadata": {
    "slideshow": {
     "slide_type": "fragment"
    }
   },
   "source": [
    "The resultset table will look like,\n",
    "<img src='https://drive.google.com/uc?id=1fh-zivBYX1msGwget8bnpkMYDd9lVnGb' height=500 width=800>  "
   ]
  },
  {
   "cell_type": "markdown",
   "metadata": {
    "slideshow": {
     "slide_type": "slide"
    }
   },
   "source": [
    "**Note: Both the tables being joined have ID column(same name and same datatype), hence the records for which value of ID matches in both the tables will be the result of Natural Join of these two tables.**"
   ]
  },
  {
   "cell_type": "markdown",
   "metadata": {
    "slideshow": {
     "slide_type": "slide"
    }
   },
   "source": [
    "### OUTER JOIN"
   ]
  },
  {
   "cell_type": "markdown",
   "metadata": {
    "slideshow": {
     "slide_type": "fragment"
    }
   },
   "source": [
    "- Outer Join is based on both matched and unmatched data. Outer Joins subdivide further into,\n",
    "\n",
    "    1. Left Outer Join\n",
    "    2. Right Outer Join\n",
    "    3. Full Outer Join"
   ]
  },
  {
   "cell_type": "markdown",
   "metadata": {
    "slideshow": {
     "slide_type": "slide"
    }
   },
   "source": [
    "### 1. LEFT Outer Join"
   ]
  },
  {
   "cell_type": "markdown",
   "metadata": {
    "slideshow": {
     "slide_type": "fragment"
    }
   },
   "source": [
    "- The left outer join returns a resultset table with the matched data from the two tables and then the remaining rows of the left table and null from the right table's columns."
   ]
  },
  {
   "cell_type": "markdown",
   "metadata": {
    "slideshow": {
     "slide_type": "slide"
    }
   },
   "source": [
    "#### Syntax for Left Outer Join"
   ]
  },
  {
   "cell_type": "code",
   "execution_count": null,
   "metadata": {
    "slideshow": {
     "slide_type": "fragment"
    }
   },
   "outputs": [],
   "source": [
    "SELECT column-name-list FROM \n",
    "table-name1 LEFT OUTER JOIN table-name2\n",
    "ON table-name1.column-name = table-name2.column-name;"
   ]
  },
  {
   "cell_type": "markdown",
   "metadata": {
    "slideshow": {
     "slide_type": "fragment"
    }
   },
   "source": [
    "**Note: To specify a condition, we use the ON keyword with Outer Join.**"
   ]
  },
  {
   "cell_type": "markdown",
   "metadata": {
    "slideshow": {
     "slide_type": "slide"
    }
   },
   "source": [
    "#### Left outer Join Syntax for Oracle:"
   ]
  },
  {
   "cell_type": "code",
   "execution_count": null,
   "metadata": {
    "slideshow": {
     "slide_type": "fragment"
    }
   },
   "outputs": [],
   "source": [
    "SELECT column-name-list FROM \n",
    "table-name1, table-name2 on table-name1.column-name = table-name2.column-name(+)"
   ]
  },
  {
   "cell_type": "markdown",
   "metadata": {
    "slideshow": {
     "slide_type": "slide"
    }
   },
   "source": [
    "#### Example of Left Outer Join\n",
    "Here is the class table,"
   ]
  },
  {
   "cell_type": "markdown",
   "metadata": {
    "slideshow": {
     "slide_type": "fragment"
    }
   },
   "source": [
    "<img src='https://drive.google.com/uc?id=1r1WHRoJ7OriM-bJjOGC3Ut1-AlbJeEHB' height=500 width=800>  \n",
    "and the class_info table,"
   ]
  },
  {
   "cell_type": "markdown",
   "metadata": {
    "slideshow": {
     "slide_type": "slide"
    }
   },
   "source": [
    "<img src='https://drive.google.com/uc?id=1p-WEQWaiiHnaoljx1fmXRyhINAnpT5qN' height=500 width=800>  \n",
    "Left Outer Join query will be,"
   ]
  },
  {
   "cell_type": "code",
   "execution_count": null,
   "metadata": {
    "slideshow": {
     "slide_type": "slide"
    }
   },
   "outputs": [],
   "source": [
    "SELECT * FROM class LEFT OUTER JOIN class_info ON (class.id = class_info.id);"
   ]
  },
  {
   "cell_type": "markdown",
   "metadata": {
    "slideshow": {
     "slide_type": "fragment"
    }
   },
   "source": [
    "The resultset table will look like,\n",
    "<img src='https://drive.google.com/uc?id=1GYucQ2dLFfzcXsjtZ2IunlXEmgRRBmFb' height=500 width=800>  "
   ]
  },
  {
   "cell_type": "markdown",
   "metadata": {
    "slideshow": {
     "slide_type": "slide"
    }
   },
   "source": [
    "### 2. RIGHT Outer Join"
   ]
  },
  {
   "cell_type": "markdown",
   "metadata": {
    "slideshow": {
     "slide_type": "fragment"
    }
   },
   "source": [
    "- The right outer join returns a resultset table with the matched data from the two tables being joined, then the remaining rows of the right table and null for the remaining left table's columns."
   ]
  },
  {
   "cell_type": "markdown",
   "metadata": {
    "slideshow": {
     "slide_type": "slide"
    }
   },
   "source": [
    "#### Syntax for Right Outer Join"
   ]
  },
  {
   "cell_type": "code",
   "execution_count": null,
   "metadata": {
    "slideshow": {
     "slide_type": "fragment"
    }
   },
   "outputs": [],
   "source": [
    "SELECT column-name-list FROM \n",
    "table-name1 RIGHT OUTER JOIN table-name2 \n",
    "ON table-name1.column-name = table-name2.column-name;"
   ]
  },
  {
   "cell_type": "markdown",
   "metadata": {
    "slideshow": {
     "slide_type": "slide"
    }
   },
   "source": [
    "#### Right outer Join Syntax for Oracle"
   ]
  },
  {
   "cell_type": "code",
   "execution_count": null,
   "metadata": {
    "slideshow": {
     "slide_type": "fragment"
    }
   },
   "outputs": [],
   "source": [
    "SELECT column-name-list FROM \n",
    "table-name1, table-name2 \n",
    "ON table-name1.column-name(+) = table-name2.column-name;"
   ]
  },
  {
   "cell_type": "markdown",
   "metadata": {
    "slideshow": {
     "slide_type": "slide"
    }
   },
   "source": [
    "#### Example of Right Outer Join\n",
    "Once again the class table,"
   ]
  },
  {
   "cell_type": "markdown",
   "metadata": {
    "slideshow": {
     "slide_type": "fragment"
    }
   },
   "source": [
    "<img src='https://drive.google.com/uc?id=1r1WHRoJ7OriM-bJjOGC3Ut1-AlbJeEHB' height=500 width=800>  \n",
    "and the class_info table,"
   ]
  },
  {
   "cell_type": "markdown",
   "metadata": {
    "slideshow": {
     "slide_type": "slide"
    }
   },
   "source": [
    "<img src='https://drive.google.com/uc?id=1p-WEQWaiiHnaoljx1fmXRyhINAnpT5qN' height=500 width=800>  \n",
    "Right Outer Join query will be,"
   ]
  },
  {
   "cell_type": "code",
   "execution_count": null,
   "metadata": {
    "slideshow": {
     "slide_type": "slide"
    }
   },
   "outputs": [],
   "source": [
    "SELECT * FROM class RIGHT OUTER JOIN class_info ON (class.id = class_info.id);"
   ]
  },
  {
   "cell_type": "markdown",
   "metadata": {
    "slideshow": {
     "slide_type": "fragment"
    }
   },
   "source": [
    "The resultant table will look like,\n",
    "<img src='https://drive.google.com/uc?id=1pUgeZAQAd-Bw0TfWXJQSI8e9cu1FytqX' height=500 width=800>  "
   ]
  },
  {
   "cell_type": "markdown",
   "metadata": {
    "slideshow": {
     "slide_type": "slide"
    }
   },
   "source": [
    "### 3. Full Outer Join"
   ]
  },
  {
   "cell_type": "markdown",
   "metadata": {
    "slideshow": {
     "slide_type": "fragment"
    }
   },
   "source": [
    "- The full outer join returns a resultset table with the matched data of two table then remaining rows of both left table and then the right table."
   ]
  },
  {
   "cell_type": "markdown",
   "metadata": {
    "slideshow": {
     "slide_type": "slide"
    }
   },
   "source": [
    "### Syntax of Full Outer Join"
   ]
  },
  {
   "cell_type": "code",
   "execution_count": null,
   "metadata": {
    "slideshow": {
     "slide_type": "fragment"
    }
   },
   "outputs": [],
   "source": [
    "SELECT column-name-list FROM \n",
    "table-name1 FULL OUTER JOIN table-name2\n",
    "ON table-name1.column-name = table-name2.column-name;"
   ]
  },
  {
   "cell_type": "markdown",
   "metadata": {
    "slideshow": {
     "slide_type": "slide"
    }
   },
   "source": [
    "#### Example of Full outer join is,\n",
    "The class table,"
   ]
  },
  {
   "cell_type": "markdown",
   "metadata": {
    "slideshow": {
     "slide_type": "fragment"
    }
   },
   "source": [
    "<img src='https://drive.google.com/uc?id=1r1WHRoJ7OriM-bJjOGC3Ut1-AlbJeEHB' height=500 width=800>  \n",
    "and the class_info table,"
   ]
  },
  {
   "cell_type": "markdown",
   "metadata": {
    "slideshow": {
     "slide_type": "slide"
    }
   },
   "source": [
    "<img src='https://drive.google.com/uc?id=1p-WEQWaiiHnaoljx1fmXRyhINAnpT5qN' height=500 width=800>  \n",
    "Full Outer Join query will be like,"
   ]
  },
  {
   "cell_type": "code",
   "execution_count": null,
   "metadata": {
    "slideshow": {
     "slide_type": "slide"
    }
   },
   "outputs": [],
   "source": [
    "SELECT * FROM class FULL OUTER JOIN class_info ON (class.id = class_info.id);"
   ]
  },
  {
   "cell_type": "markdown",
   "metadata": {
    "slideshow": {
     "slide_type": "fragment"
    }
   },
   "source": [
    "The resultset table will look like,\n",
    "<img src='https://drive.google.com/uc?id=1q6Zw-CiAIP_M96Fp5yhRIyjTGeKQ52La' height=500 width=800>  "
   ]
  },
  {
   "cell_type": "markdown",
   "metadata": {
    "slideshow": {
     "slide_type": "slide"
    }
   },
   "source": [
    "#### DO it YourSelf"
   ]
  },
  {
   "cell_type": "markdown",
   "metadata": {
    "slideshow": {
     "slide_type": "fragment"
    }
   },
   "source": [
    "**Note : All Question is related to join your task is to apply join according to the question so that you will get the right answers.**"
   ]
  },
  {
   "cell_type": "code",
   "execution_count": null,
   "metadata": {
    "slideshow": {
     "slide_type": "slide"
    }
   },
   "outputs": [],
   "source": [
    "# Ques:\n",
    "    You need to create a table according to the diagram and apply the join condition so that it will produce the same\n",
    "    output. You have given two table CUSTOMERS Table and ORDERS Table. In this table ID and OID is primary key and the \n",
    "    Order table CUSTOMER_ID is a foreign key.\n",
    "    \n",
    "    Table1:  CUSTOMERS Table\n",
    "        +----+----------+-----+-----------+----------+\n",
    "        | ID | NAME     | AGE | ADDRESS   | SALARY   |\n",
    "        +----+----------+-----+-----------+----------+\n",
    "        |  1 | Ramesh   |  32 | Ahmedabad |  2000.00 |\n",
    "        |  2 | Khilan   |  25 | Delhi     |  1500.00 |\n",
    "        |  3 | kaushik  |  23 | Kota      |  2000.00 |\n",
    "        |  4 | Chaitali |  25 | Mumbai    |  6500.00 |\n",
    "        |  5 | Hardik   |  27 | Bhopal    |  8500.00 |\n",
    "        |  6 | Komal    |  22 | MP        |  4500.00 |\n",
    "        |  7 | Muffy    |  24 | Indore    | 10000.00 |\n",
    "        +----+----------+-----+-----------+----------+\n",
    "        \n",
    "    Table 2 − ORDERS Table\n",
    "        +-----+---------------------+-------------+--------+\n",
    "        |OID  | DATE                | CUSTOMER_ID | AMOUNT |\n",
    "        +-----+---------------------+-------------+--------+\n",
    "        | 102 | 2009-10-08 00:00:00 |           3 |   3000 |\n",
    "        | 100 | 2009-10-08 00:00:00 |           3 |   1500 |\n",
    "        | 101 | 2009-11-20 00:00:00 |           2 |   1560 |\n",
    "        | 103 | 2008-05-20 00:00:00 |           4 |   2060 |\n",
    "        +-----+---------------------+-------------+--------+\n",
    "        \n",
    "# Output:\n",
    "    +----+----------+-----+--------+\n",
    "    | ID | NAME     | AGE | AMOUNT |\n",
    "    +----+----------+-----+--------+\n",
    "    |  3 | kaushik  |  23 |   3000 |\n",
    "    |  3 | kaushik  |  23 |   1500 |\n",
    "    |  2 | Khilan   |  25 |   1560 |\n",
    "    |  4 | Chaitali |  25 |   2060 |\n",
    "    +----+----------+-----+--------+\n"
   ]
  },
  {
   "cell_type": "code",
   "execution_count": null,
   "metadata": {
    "slideshow": {
     "slide_type": "slide"
    }
   },
   "outputs": [],
   "source": [
    "# Ques: \n",
    "    You need to create a table according to the diagram and apply the join condition so that it will produce the same\n",
    "    output. You have given two table CUSTOMERS Table and ORDERS Table. In this table ID and OID is primary key and the \n",
    "    Order table CUSTOMER_ID is a foreign key.\n",
    "    \n",
    "    Table 1 − CUSTOMERS Table is as follows.\n",
    "        +----+----------+-----+-----------+----------+\n",
    "        | ID | NAME     | AGE | ADDRESS   | SALARY   |\n",
    "        +----+----------+-----+-----------+----------+\n",
    "        |  1 | Ramesh   |  32 | Ahmedabad |  2000.00 |\n",
    "        |  2 | Khilan   |  25 | Delhi     |  1500.00 |\n",
    "        |  3 | kaushik  |  23 | Kota      |  2000.00 |\n",
    "        |  4 | Chaitali |  25 | Mumbai    |  6500.00 |\n",
    "        |  5 | Hardik   |  27 | Bhopal    |  8500.00 |\n",
    "        |  6 | Komal    |  22 | MP        |  4500.00 |\n",
    "        |  7 | Muffy    |  24 | Indore    | 10000.00 |\n",
    "        +----+----------+-----+-----------+----------+\n",
    "\n",
    "    Table 2 − Orders Table is as follows.\n",
    "        +-----+---------------------+-------------+--------+\n",
    "        | OID | DATE                | CUSTOMER_ID | AMOUNT |\n",
    "        +-----+---------------------+-------------+--------+\n",
    "        | 102 | 2009-10-08 00:00:00 |           3 |   3000 |\n",
    "        | 100 | 2009-10-08 00:00:00 |           3 |   1500 |\n",
    "        | 101 | 2009-11-20 00:00:00 |           2 |   1560 |\n",
    "        | 103 | 2008-05-20 00:00:00 |           4 |   2060 |\n",
    "        +-----+---------------------+-------------+--------+\n",
    "        \n",
    "        \n",
    "# Output:\n",
    "    +----+----------+--------+---------------------+\n",
    "    | ID | NAME     | AMOUNT | DATE                |\n",
    "    +----+----------+--------+---------------------+\n",
    "    |  1 | Ramesh   |   NULL | NULL                |\n",
    "    |  2 | Khilan   |   1560 | 2009-11-20 00:00:00 |\n",
    "    |  3 | kaushik  |   3000 | 2009-10-08 00:00:00 |\n",
    "    |  3 | kaushik  |   1500 | 2009-10-08 00:00:00 |\n",
    "    |  4 | Chaitali |   2060 | 2008-05-20 00:00:00 |\n",
    "    |  5 | Hardik   |   NULL | NULL                |\n",
    "    |  6 | Komal    |   NULL | NULL                |\n",
    "    |  7 | Muffy    |   NULL | NULL                |\n",
    "    +----+----------+--------+---------------------+"
   ]
  },
  {
   "cell_type": "code",
   "execution_count": null,
   "metadata": {
    "slideshow": {
     "slide_type": "slide"
    }
   },
   "outputs": [],
   "source": [
    "# Ques: \n",
    "    You need to create a table according to the diagram and apply the join condition so that it will produce the same\n",
    "    output. You have given two table CUSTOMERS Table and ORDERS Table. In this table ID and OID is primary key and the \n",
    "    Order table CUSTOMER_ID is a foreign key.\n",
    "    \n",
    "    Table 1 − CUSTOMERS Table is as follows.\n",
    "        +----+----------+-----+-----------+----------+\n",
    "        | ID | NAME     | AGE | ADDRESS   | SALARY   |\n",
    "        +----+----------+-----+-----------+----------+\n",
    "        |  1 | Ramesh   |  32 | Ahmedabad |  2000.00 |\n",
    "        |  2 | Khilan   |  25 | Delhi     |  1500.00 |\n",
    "        |  3 | kaushik  |  23 | Kota      |  2000.00 |\n",
    "        |  4 | Chaitali |  25 | Mumbai    |  6500.00 |\n",
    "        |  5 | Hardik   |  27 | Bhopal    |  8500.00 |\n",
    "        |  6 | Komal    |  22 | MP        |  4500.00 |\n",
    "        |  7 | Muffy    |  24 | Indore    | 10000.00 |\n",
    "        +----+----------+-----+-----------+----------+\n",
    "\n",
    "    Table 2 − ORDERS Table is as follows.\n",
    "        +-----+---------------------+-------------+--------+\n",
    "        |OID  | DATE                | CUSTOMER_ID | AMOUNT |\n",
    "        +-----+---------------------+-------------+--------+\n",
    "        | 102 | 2009-10-08 00:00:00 |           3 |   3000 |\n",
    "        | 100 | 2009-10-08 00:00:00 |           3 |   1500 |\n",
    "        | 101 | 2009-11-20 00:00:00 |           2 |   1560 |\n",
    "        | 103 | 2008-05-20 00:00:00 |           4 |   2060 |\n",
    "        +-----+---------------------+-------------+--------+\n",
    "\n",
    "# Output:\n",
    "    +------+----------+--------+---------------------+\n",
    "    | ID   | NAME     | AMOUNT | DATE                |\n",
    "    +------+----------+--------+---------------------+\n",
    "    |    3 | kaushik  |   3000 | 2009-10-08 00:00:00 |\n",
    "    |    3 | kaushik  |   1500 | 2009-10-08 00:00:00 |\n",
    "    |    2 | Khilan   |   1560 | 2009-11-20 00:00:00 |\n",
    "    |    4 | Chaitali |   2060 | 2008-05-20 00:00:00 |\n",
    "    +------+----------+--------+---------------------+"
   ]
  },
  {
   "cell_type": "code",
   "execution_count": null,
   "metadata": {
    "slideshow": {
     "slide_type": "slide"
    }
   },
   "outputs": [],
   "source": [
    "# Ques: \n",
    "    You need to create a table according to the diagram and apply the join condition so that it will produce the same\n",
    "    output. You have given one table CUSTOMERS Table . In this table ID is primary key.\n",
    "    \n",
    "    Table 1 − CUSTOMERS Table is as follows.\n",
    "        +----+----------+-----+-----------+----------+\n",
    "        | ID | NAME     | AGE | ADDRESS   | SALARY   |\n",
    "        +----+----------+-----+-----------+----------+\n",
    "        |  1 | Ramesh   |  32 | Ahmedabad |  2000.00 |\n",
    "        |  2 | Khilan   |  25 | Delhi     |  1500.00 |\n",
    "        |  3 | kaushik  |  23 | Kota      |  2000.00 |\n",
    "        |  4 | Chaitali |  25 | Mumbai    |  6500.00 |\n",
    "        |  5 | Hardik   |  27 | Bhopal    |  8500.00 |\n",
    "        |  6 | Komal    |  22 | MP        |  4500.00 |\n",
    "        |  7 | Muffy    |  24 | Indore    | 10000.00 |\n",
    "        +----+----------+-----+-----------+----------+\n",
    "        \n",
    "        \n",
    "Output:\n",
    "    +----+----------+---------+\n",
    "    | ID | NAME     | SALARY  |\n",
    "    +----+----------+---------+\n",
    "    |  2 | Ramesh   | 1500.00 |\n",
    "    |  2 | kaushik  | 1500.00 |\n",
    "    |  1 | Chaitali | 2000.00 |\n",
    "    |  2 | Chaitali | 1500.00 |\n",
    "    |  3 | Chaitali | 2000.00 |\n",
    "    |  6 | Chaitali | 4500.00 |\n",
    "    |  1 | Hardik   | 2000.00 |\n",
    "    |  2 | Hardik   | 1500.00 |\n",
    "    |  3 | Hardik   | 2000.00 |\n",
    "    |  4 | Hardik   | 6500.00 |\n",
    "    |  6 | Hardik   | 4500.00 |\n",
    "    |  1 | Komal    | 2000.00 |\n",
    "    |  2 | Komal    | 1500.00 |\n",
    "    |  3 | Komal    | 2000.00 |\n",
    "    |  1 | Muffy    | 2000.00 |\n",
    "    |  2 | Muffy    | 1500.00 |\n",
    "    |  3 | Muffy    | 2000.00 |\n",
    "    |  4 | Muffy    | 6500.00 |\n",
    "    |  5 | Muffy    | 8500.00 |\n",
    "    |  6 | Muffy    | 4500.00 |\n",
    "    +----+----------+---------+"
   ]
  },
  {
   "cell_type": "code",
   "execution_count": null,
   "metadata": {
    "slideshow": {
     "slide_type": "slide"
    }
   },
   "outputs": [],
   "source": [
    "# Ques: \n",
    "    You need to create a table according to the diagram and apply the join condition so that it will produce the same\n",
    "    output. You have given two table CUSTOMERS Table and ORDERS Table. In this table ID and OID is primary key and the \n",
    "    Order table CUSTOMER_ID is a foreign key.\n",
    "    \n",
    "    \n",
    "    Table 1 − CUSTOMERS table is as follows.\n",
    "        +----+----------+-----+-----------+----------+\n",
    "        | ID | NAME     | AGE | ADDRESS   | SALARY   |\n",
    "        +----+----------+-----+-----------+----------+\n",
    "        |  1 | Ramesh   |  32 | Ahmedabad |  2000.00 |\n",
    "        |  2 | Khilan   |  25 | Delhi     |  1500.00 |\n",
    "        |  3 | kaushik  |  23 | Kota      |  2000.00 |\n",
    "        |  4 | Chaitali |  25 | Mumbai    |  6500.00 |\n",
    "        |  5 | Hardik   |  27 | Bhopal    |  8500.00 |\n",
    "        |  6 | Komal    |  22 | MP        |  4500.00 |\n",
    "        |  7 | Muffy    |  24 | Indore    | 10000.00 |\n",
    "        +----+----------+-----+-----------+----------+\n",
    "        \n",
    "        \n",
    "    Table 2: ORDERS Table is as follows\n",
    "        +-----+---------------------+-------------+--------+\n",
    "        |OID  | DATE                | CUSTOMER_ID | AMOUNT |\n",
    "        +-----+---------------------+-------------+--------+\n",
    "        | 102 | 2009-10-08 00:00:00 |           3 |   3000 |\n",
    "        | 100 | 2009-10-08 00:00:00 |           3 |   1500 |\n",
    "        | 101 | 2009-11-20 00:00:00 |           2 |   1560 |\n",
    "        | 103 | 2008-05-20 00:00:00 |           4 |   2060 |\n",
    "        +-----+---------------------+-------------+--------+\n",
    "\n",
    "\n",
    "# Output:\n",
    "    +----+----------+--------+---------------------+\n",
    "    | ID | NAME     | AMOUNT | DATE                |\n",
    "    +----+----------+--------+---------------------+\n",
    "    |  1 | Ramesh   |   3000 | 2009-10-08 00:00:00 |\n",
    "    |  1 | Ramesh   |   1500 | 2009-10-08 00:00:00 |\n",
    "    |  1 | Ramesh   |   1560 | 2009-11-20 00:00:00 |\n",
    "    |  1 | Ramesh   |   2060 | 2008-05-20 00:00:00 |\n",
    "    |  2 | Khilan   |   3000 | 2009-10-08 00:00:00 |\n",
    "    |  2 | Khilan   |   1500 | 2009-10-08 00:00:00 |\n",
    "    |  2 | Khilan   |   1560 | 2009-11-20 00:00:00 |\n",
    "    |  2 | Khilan   |   2060 | 2008-05-20 00:00:00 |\n",
    "    |  3 | kaushik  |   3000 | 2009-10-08 00:00:00 |\n",
    "    |  3 | kaushik  |   1500 | 2009-10-08 00:00:00 |\n",
    "    |  3 | kaushik  |   1560 | 2009-11-20 00:00:00 |\n",
    "    |  3 | kaushik  |   2060 | 2008-05-20 00:00:00 |\n",
    "    |  4 | Chaitali |   3000 | 2009-10-08 00:00:00 |\n",
    "    |  4 | Chaitali |   1500 | 2009-10-08 00:00:00 |\n",
    "    |  4 | Chaitali |   1560 | 2009-11-20 00:00:00 |\n",
    "    |  4 | Chaitali |   2060 | 2008-05-20 00:00:00 |\n",
    "    |  5 | Hardik   |   3000 | 2009-10-08 00:00:00 |\n",
    "    |  5 | Hardik   |   1500 | 2009-10-08 00:00:00 |\n",
    "    |  5 | Hardik   |   1560 | 2009-11-20 00:00:00 |\n",
    "    |  5 | Hardik   |   2060 | 2008-05-20 00:00:00 |\n",
    "    |  6 | Komal    |   3000 | 2009-10-08 00:00:00 |\n",
    "    |  6 | Komal    |   1500 | 2009-10-08 00:00:00 |\n",
    "    |  6 | Komal    |   1560 | 2009-11-20 00:00:00 |\n",
    "    |  6 | Komal    |   2060 | 2008-05-20 00:00:00 |\n",
    "    |  7 | Muffy    |   3000 | 2009-10-08 00:00:00 |\n",
    "    |  7 | Muffy    |   1500 | 2009-10-08 00:00:00 |\n",
    "    |  7 | Muffy    |   1560 | 2009-11-20 00:00:00 |\n",
    "    |  7 | Muffy    |   2060 | 2008-05-20 00:00:00 |\n",
    "    +----+----------+--------+---------------------+"
   ]
  }
 ],
 "metadata": {
  "celltoolbar": "Slideshow",
  "kernelspec": {
   "display_name": "Python 3",
   "language": "python",
   "name": "python3"
  },
  "language_info": {
   "codemirror_mode": {
    "name": "ipython",
    "version": 3
   },
   "file_extension": ".py",
   "mimetype": "text/x-python",
   "name": "python",
   "nbconvert_exporter": "python",
   "pygments_lexer": "ipython3",
   "version": "3.7.3"
  }
 },
 "nbformat": 4,
 "nbformat_minor": 2
}
