{
 "cells": [
  {
   "cell_type": "markdown",
   "metadata": {
    "slideshow": {
     "slide_type": "slide"
    }
   },
   "source": [
    "## Socket Programming in Python"
   ]
  },
  {
   "cell_type": "markdown",
   "metadata": {
    "slideshow": {
     "slide_type": "slide"
    }
   },
   "source": [
    "### What is socket programming?"
   ]
  },
  {
   "cell_type": "markdown",
   "metadata": {
    "slideshow": {
     "slide_type": "fragment"
    }
   },
   "source": [
    "- Socket programming is a way of connecting two nodes on a network to communicate with each other."
   ]
  },
  {
   "cell_type": "markdown",
   "metadata": {
    "slideshow": {
     "slide_type": "fragment"
    }
   },
   "source": [
    "- One socket(node) listens on a particular port at an IP, while other socket reaches out to the other to form a connection."
   ]
  },
  {
   "cell_type": "markdown",
   "metadata": {
    "slideshow": {
     "slide_type": "fragment"
    }
   },
   "source": [
    "- Server forms the listener socket while client reaches out to the server."
   ]
  },
  {
   "cell_type": "markdown",
   "metadata": {
    "slideshow": {
     "slide_type": "slide"
    }
   },
   "source": [
    "<img src='https://drive.google.com/uc?id=18Ku9sUcTD9BTTqtRaRueEBezP4X-r3er' height=500 width=700> "
   ]
  },
  {
   "cell_type": "markdown",
   "metadata": {
    "slideshow": {
     "slide_type": "slide"
    }
   },
   "source": [
    "<img src='https://drive.google.com/uc?id=11A2o7rKrDUmrSvyxO61pAKwRZ5sNEV2x' height=500 width=700> "
   ]
  },
  {
   "cell_type": "markdown",
   "metadata": {
    "slideshow": {
     "slide_type": "slide"
    }
   },
   "source": [
    "### Address Family:"
   ]
  },
  {
   "cell_type": "markdown",
   "metadata": {
    "slideshow": {
     "slide_type": "fragment"
    }
   },
   "source": [
    "- All network protocols are associated with a specific address family."
   ]
  },
  {
   "cell_type": "markdown",
   "metadata": {
    "slideshow": {
     "slide_type": "fragment"
    }
   },
   "source": [
    "- An address family provides basic services to the protocol implementation to allow it to function within a specific network environment. "
   ]
  },
  {
   "cell_type": "markdown",
   "metadata": {
    "slideshow": {
     "slide_type": "fragment"
    }
   },
   "source": [
    "- These services may include packet fragmentation and reassembly, routing, addressing, and basic transport."
   ]
  },
  {
   "cell_type": "markdown",
   "metadata": {
    "slideshow": {
     "slide_type": "slide"
    }
   },
   "source": [
    "#### Some Important Adress Family:"
   ]
  },
  {
   "cell_type": "markdown",
   "metadata": {
    "slideshow": {
     "slide_type": "fragment"
    }
   },
   "source": [
    "    Name                   Purpose                 \n",
    "    AF_UNIX, AF_LOCAL      Local communication              \n",
    "    AF_INET                IPv4 Internet protocols       ##Note: Mostly used AF_INET, AF_INET6 in python\n",
    "    AF_INET6               IPv6 Internet protocols\n",
    "    AF_IPX                 IPX - Novell protocols\n",
    "    AF_NETLINK             Kernel user interface device    \n",
    "    AF_X25                 ITU-T X.25 / ISO-8208 protocol \n",
    "    AF_AX25                Amateur radio AX.25 protocol\n",
    "    AF_ATMPVC              Access to raw ATM PVCs\n",
    "    AF_APPLETALK           Appletalk                      \n",
    "    AF_PACKET              Low level packet interface "
   ]
  },
  {
   "cell_type": "markdown",
   "metadata": {
    "slideshow": {
     "slide_type": "slide"
    }
   },
   "source": [
    "## Protocol"
   ]
  },
  {
   "cell_type": "markdown",
   "metadata": {
    "slideshow": {
     "slide_type": "fragment"
    }
   },
   "source": [
    "- A protocol is a standard set of rules that allow electronic devices to communicate with each other. "
   ]
  },
  {
   "cell_type": "markdown",
   "metadata": {
    "slideshow": {
     "slide_type": "fragment"
    }
   },
   "source": [
    "- These rules include what type of data may be transmitted, what commands are used to send and receive data, and how data transfers are confirmed. You can think of a protocol as a spoken language."
   ]
  },
  {
   "cell_type": "markdown",
   "metadata": {
    "slideshow": {
     "slide_type": "slide"
    }
   },
   "source": [
    "### Types of Protocols"
   ]
  },
  {
   "cell_type": "markdown",
   "metadata": {
    "slideshow": {
     "slide_type": "fragment"
    }
   },
   "source": [
    "- Transmission Control Protocol (TCP)\n",
    "- Internet Protocol (IP)\n",
    "- User Datagram Protocol (UDP)\n",
    "- Post office Protocol (POP)\n",
    "- Simple mail transport Protocol (SMTP)\n",
    "- File Transfer Protocol (FTP)\n",
    "- Hyper Text Transfer Protocol (HTTP)\n",
    "- Hyper Text Transfer Protocol Secure (HTTPS)\n",
    "\n",
    "**Note: We mainly discuss about TCP and UDP**"
   ]
  },
  {
   "cell_type": "markdown",
   "metadata": {
    "slideshow": {
     "slide_type": "slide"
    }
   },
   "source": [
    "### Difference between UDP and TCP"
   ]
  },
  {
   "cell_type": "markdown",
   "metadata": {
    "slideshow": {
     "slide_type": "fragment"
    }
   },
   "source": [
    "<img src='https://drive.google.com/uc?id=1fc1r_5w5HWNg4gXfDdM-uxXGWOr1Zrxh' height=500 width=800> "
   ]
  },
  {
   "cell_type": "markdown",
   "metadata": {
    "slideshow": {
     "slide_type": "slide"
    }
   },
   "source": [
    "### Important Commands "
   ]
  },
  {
   "cell_type": "markdown",
   "metadata": {
    "slideshow": {
     "slide_type": "fragment"
    }
   },
   "source": [
    "- ipconfig\n",
    "- ping"
   ]
  },
  {
   "cell_type": "code",
   "execution_count": 5,
   "metadata": {
    "slideshow": {
     "slide_type": "slide"
    }
   },
   "outputs": [
    {
     "name": "stdout",
     "output_type": "stream",
     "text": [
      "\n",
      "Windows IP Configuration\n",
      "\n",
      "\n",
      "Ethernet adapter Ethernet:\n",
      "\n",
      "   Media State . . . . . . . . . . . : Media disconnected\n",
      "   Connection-specific DNS Suffix  . : \n",
      "\n",
      "Wireless LAN adapter Local Area Connection* 9:\n",
      "\n",
      "   Media State . . . . . . . . . . . : Media disconnected\n",
      "   Connection-specific DNS Suffix  . : \n",
      "\n",
      "Ethernet adapter VMware Network Adapter VMnet1:\n",
      "\n",
      "   Connection-specific DNS Suffix  . : \n",
      "   Link-local IPv6 Address . . . . . : fe80::b511:7802:8fdc:46c5%14\n",
      "   IPv4 Address. . . . . . . . . . . : 192.168.198.1\n",
      "   Subnet Mask . . . . . . . . . . . : 255.255.255.0\n",
      "   Default Gateway . . . . . . . . . : \n",
      "\n",
      "Ethernet adapter VMware Network Adapter VMnet8:\n",
      "\n",
      "   Connection-specific DNS Suffix  . : \n",
      "   Link-local IPv6 Address . . . . . : fe80::f090:785:6657:b36c%21\n",
      "   IPv4 Address. . . . . . . . . . . : 192.168.248.1\n",
      "   Subnet Mask . . . . . . . . . . . : 255.255.255.0\n",
      "   Default Gateway . . . . . . . . . : \n",
      "\n",
      "Wireless LAN adapter Wi-Fi:\n",
      "\n",
      "   Connection-specific DNS Suffix  . : \n",
      "   IPv6 Address. . . . . . . . . . . : 2409:4052:e96:f18f:f504:e924:73be:e706\n",
      "   Temporary IPv6 Address. . . . . . : 2409:4052:e96:f18f:f41e:f52a:8986:d0d8\n",
      "   Link-local IPv6 Address . . . . . : fe80::f504:e924:73be:e706%22\n",
      "   IPv4 Address. . . . . . . . . . . : 192.168.43.119\n",
      "   Subnet Mask . . . . . . . . . . . : 255.255.255.0\n",
      "   Default Gateway . . . . . . . . . : fe80::703a:51ff:fe5c:45ee%22\n",
      "                                       192.168.43.1\n"
     ]
    }
   ],
   "source": [
    "!ipconfig     # exclamation mark (!) --> to use cli commands"
   ]
  },
  {
   "cell_type": "code",
   "execution_count": 6,
   "metadata": {
    "slideshow": {
     "slide_type": "fragment"
    }
   },
   "outputs": [
    {
     "name": "stdout",
     "output_type": "stream",
     "text": [
      "\n",
      "Pinging 8.8.8.8 with 32 bytes of data:\n",
      "Reply from 8.8.8.8: bytes=32 time=40ms TTL=108\n",
      "Reply from 8.8.8.8: bytes=32 time=53ms TTL=108\n",
      "Reply from 8.8.8.8: bytes=32 time=56ms TTL=108\n",
      "Reply from 8.8.8.8: bytes=32 time=60ms TTL=108\n",
      "\n",
      "Ping statistics for 8.8.8.8:\n",
      "    Packets: Sent = 4, Received = 4, Lost = 0 (0% loss),\n",
      "Approximate round trip times in milli-seconds:\n",
      "    Minimum = 40ms, Maximum = 60ms, Average = 52ms\n"
     ]
    }
   ],
   "source": [
    "!ping 8.8.8.8   # 8.8.8.8 --> google IP    \n",
    "# Note: www.google.com == 8.8.8.8"
   ]
  },
  {
   "cell_type": "markdown",
   "metadata": {
    "slideshow": {
     "slide_type": "slide"
    }
   },
   "source": [
    "### Python Library for Socket Programming"
   ]
  },
  {
   "cell_type": "code",
   "execution_count": null,
   "metadata": {
    "slideshow": {
     "slide_type": "fragment"
    }
   },
   "outputs": [],
   "source": [
    "import socket\n",
    "stk = socket.socket(socket.AF_INET, socket.SOCK_STREAM)   ##AF_INET, SOCK_STREAM --> Adress Family"
   ]
  },
  {
   "cell_type": "markdown",
   "metadata": {
    "slideshow": {
     "slide_type": "fragment"
    }
   },
   "source": [
    "**Note: Here we made a socket instance and passed it two parameters. The first parameter is AF_INET and the second one is SOCK_STREAM. AF_INET refers to the address family ipv4. The SOCK_STREAM means connection oriented TCP protocol.**"
   ]
  },
  {
   "cell_type": "markdown",
   "metadata": {
    "slideshow": {
     "slide_type": "slide"
    }
   },
   "source": [
    "## A simple server-client program :"
   ]
  },
  {
   "cell_type": "markdown",
   "metadata": {
    "slideshow": {
     "slide_type": "slide"
    }
   },
   "source": [
    "<img src='https://drive.google.com/uc?id=17redZmpS8JxvvayT66dSZ3FsJ-_sO1xz'> "
   ]
  },
  {
   "cell_type": "markdown",
   "metadata": {
    "slideshow": {
     "slide_type": "slide"
    }
   },
   "source": [
    "<img src='https://drive.google.com/uc?id=1oX1rqo-oqZQNz9fh_WgWLpCiqBbk62bL' height=500 width =700> "
   ]
  },
  {
   "cell_type": "markdown",
   "metadata": {
    "slideshow": {
     "slide_type": "slide"
    }
   },
   "source": [
    "### Server Side Code:"
   ]
  },
  {
   "cell_type": "code",
   "execution_count": null,
   "metadata": {
    "slideshow": {
     "slide_type": "fragment"
    }
   },
   "outputs": [],
   "source": [
    "%%writefile server.py\n",
    "\n",
    "### server_file\n",
    "\n",
    "import socket\n",
    "\n",
    "server = socket.socket(socket.AF_INET,socket.SOCK_STREAM)  #AF_INET --> IPv4, SOCK_STREAM --> TCP Protocol\n",
    "ip = \"192.168.1.4\"\n",
    "port = 1234\n",
    "\n",
    "server.bind((ip,port))\n",
    "print(f\"\\n The server socket is created at ip {ip} and port {port}\")\n",
    "server.listen()\n",
    "print(\"\\n Server is ready to listen......\")\n",
    "client_socket,client_addr = server.accept()  #accept will return 2 things 1 --> client socket, client address\n",
    "print(f\"\\n Client is at ip {client_addr[0]} and port {client_addr[1]}\")\n",
    "\n",
    "client_socket.send(\"Hey You are connected....Welcome\".encode())   ## Encode --> convert text to binary\n",
    "\n",
    "msg = client_socket.recv(1024).decode()\n",
    "print(\"\\n Client : \",msg)\n",
    "#plain text is not exchanged i.e normal string will not be exchanged"
   ]
  },
  {
   "cell_type": "markdown",
   "metadata": {
    "slideshow": {
     "slide_type": "slide"
    }
   },
   "source": [
    "### Client Side Code:"
   ]
  },
  {
   "cell_type": "code",
   "execution_count": null,
   "metadata": {
    "slideshow": {
     "slide_type": "fragment"
    }
   },
   "outputs": [],
   "source": [
    "%%writefile client1.py\n",
    "\n",
    "import socket\n",
    "\n",
    "sock = socket.socket(socket.AF_INET,socket.SOCK_STREAM)  #AF_INET --> IPv4, SOCK_STREAM --> TCP Protocol\n",
    "ip = \"192.168.1.4\"\n",
    "port = 1234\n",
    "\n",
    "sock.connect((ip,port))\n",
    "print(f\"\\n Connected to server at ip {ip} and port {port}\")\n",
    "\n",
    "msg = sock.recv(1024).decode()        ## Decode --> convert binary to text\n",
    "print(\"\\n Server : \",msg)\n",
    "\n",
    "sock.send(\"Thankyou\".encode())"
   ]
  },
  {
   "cell_type": "markdown",
   "metadata": {
    "slideshow": {
     "slide_type": "slide"
    }
   },
   "source": [
    "## Complete message passing between Server and Client"
   ]
  },
  {
   "cell_type": "markdown",
   "metadata": {
    "slideshow": {
     "slide_type": "slide"
    }
   },
   "source": [
    "### Server Side Code:"
   ]
  },
  {
   "cell_type": "code",
   "execution_count": null,
   "metadata": {
    "slideshow": {
     "slide_type": "fragment"
    }
   },
   "outputs": [],
   "source": [
    "%%writefile server_chat.py\n",
    "\n",
    "import socket\n",
    "\n",
    "server = socket.socket(socket.AF_INET,socket.SOCK_STREAM)  #AF_INET --> IPv4, SOCK_STREAM --> TCP Protocol\n",
    "ip = \"192.168.1.4\"\n",
    "port = 1234\n",
    "\n",
    "server.bind((ip,port))\n",
    "print(f\"\\n The server socket is created at ip {ip} and port {port}\")\n",
    "server.listen()\n",
    "print(\"\\n Server is ready to listen......\")\n",
    "client_socket,client_addr = server.accept()  #accept will return 2 things 1 --> client socket, client address\n",
    "print(f\"\\n Client is at ip {client_addr[0]} and port {client_addr[1]}\")\n",
    "\n",
    "client_socket.send(\"Hey You are connected....Welcome\".encode())\n",
    "\n",
    "msg = client_socket.recv(1024).decode()\n",
    "print(\"\\n Client : \",msg)\n",
    "\n",
    "l = [\"bye\",\"byebye\",\"bubye\",\"bye bye\",\"tata\",\"see you\"]\n",
    "while True:\n",
    "    ser_msg = input(\"Server ---> \".ljust(50))\n",
    "    client_socket.send(ser_msg.encode())\n",
    "    if ser_msg.strip().lower() in l:\n",
    "        print(\"\\n Server doesn't want to talk to you anymore....\")\n",
    "        client_socket.close()\n",
    "        break\n",
    "    client_msg = client_socket.recv(1024).decode()\n",
    "    print(f\"Client ---> {client_msg}\".rjust(50))\n",
    "    if client_msg.strip().lower() in l:\n",
    "        print(\"\\n Client doesn't want to talk to you anymore\")\n",
    "        client_socket.close()\n",
    "        break"
   ]
  },
  {
   "cell_type": "markdown",
   "metadata": {
    "slideshow": {
     "slide_type": "slide"
    }
   },
   "source": [
    "### Client Side Code:"
   ]
  },
  {
   "cell_type": "code",
   "execution_count": null,
   "metadata": {
    "slideshow": {
     "slide_type": "fragment"
    }
   },
   "outputs": [],
   "source": [
    "%%writefile client_chat.py\n",
    "\n",
    "import socket\n",
    "\n",
    "sock = socket.socket(socket.AF_INET,socket.SOCK_STREAM)  #AF_INET --> IPv4, SOCK_STREAM --> TCP Protocol\n",
    "ip = \"192.168.1.4\"\n",
    "port = 1234\n",
    "\n",
    "sock.connect((ip,port))\n",
    "print(f\"\\n Connected to server at ip {ip} and port {port}\")\n",
    "\n",
    "msg = sock.recv(1024).decode()\n",
    "print(\"\\n Server : \",msg)\n",
    "\n",
    "sock.send(\"Thankyou\".encode())\n",
    "l = [\"bye\",\"byebye\",\"bubye\",\"bye bye\",\"tata\",\"see you\"]\n",
    "while True:\n",
    "    ser_msg = sock.recv(1024).decode().strip().lower()\n",
    "    print(f\"Server ---> {ser_msg}\".rjust(50))\n",
    "    if ser_msg in l:\n",
    "        print(\"\\n Server doesn't want to talk to you anymore\")\n",
    "        break\n",
    "    client_msg = input(\"Client ---> \".ljust(50))\n",
    "    sock.send(client_msg.encode())\n",
    "    if client_msg in l:\n",
    "        print(\"\\n Client doesn't want to talk to you anymore\")\n",
    "        break"
   ]
  },
  {
   "cell_type": "code",
   "execution_count": null,
   "metadata": {
    "slideshow": {
     "slide_type": "slide"
    }
   },
   "outputs": [],
   "source": [
    "## Try it YourSelf\n",
    "# Ques: \n",
    "    Create a File Sharing System using the Socket Programming. You need to write a script of server side code and client\n",
    "    side code where they can exchange the file based on some condition like in client side client give the file name with \n",
    "    path that is get by server side and based on some condition it will transfer the file.\n",
    "    \n",
    "    Conditions:\n",
    "                       file sharing system\n",
    "            - Client                            - Server\n",
    "\n",
    "            - path(file)                        - send client that file\n",
    "\n",
    "            - client send server --> C://batches//one.jpg\n",
    "            - Server will check whether that file exists or not\n",
    "            - Server will send the file to the client if it exists\n",
    "            - Server will send message to client that so and so file does not exists if it does not client\n",
    "            take input at client side that where it wants to save its file\n",
    "            \n",
    "            - read file --> server (bytes mode)\n",
    "            - write file --> client (bytes mode)"
   ]
  }
 ],
 "metadata": {
  "celltoolbar": "Slideshow",
  "kernelspec": {
   "display_name": "Python 3",
   "language": "python",
   "name": "python3"
  },
  "language_info": {
   "codemirror_mode": {
    "name": "ipython",
    "version": 3
   },
   "file_extension": ".py",
   "mimetype": "text/x-python",
   "name": "python",
   "nbconvert_exporter": "python",
   "pygments_lexer": "ipython3",
   "version": "3.7.3"
  }
 },
 "nbformat": 4,
 "nbformat_minor": 2
}
