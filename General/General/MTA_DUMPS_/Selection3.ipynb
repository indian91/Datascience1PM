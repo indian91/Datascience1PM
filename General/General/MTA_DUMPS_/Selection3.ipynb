{
 "cells": [
  {
   "cell_type": "code",
   "execution_count": null,
   "metadata": {
    "slideshow": {
     "slide_type": "slide"
    }
   },
   "outputs": [],
   "source": [
    "Ques: You are developing a Python application for your company.\n",
    "    You write the following code.\n",
    "        \n",
    "        numList = [1,2,3,4,5]\n",
    "        alphaList = ['a','b','c','d','e']\n",
    "        print(numList is alphaList)\n",
    "        print(numList == alphaList)\n",
    "        numList = alphaList\n",
    "        print(numList is alphaList)\n",
    "        print(numList == alphaList)\n",
    "    Use the drop down menus to select the answer choice that answers each question based on the information presented in the segment.\n",
    "       \n",
    "        What is displayed after the first print?\n",
    "        What is displayed after the second print?\n",
    "        What is displayed after the third print?\n",
    "        What is display after the forth print?\n",
    "        \n",
    "# Ans: \n",
    "        False , False, True, True\n",
    "        \n"
   ]
  },
  {
   "cell_type": "code",
   "execution_count": null,
   "metadata": {
    "slideshow": {
     "slide_type": "slide"
    }
   },
   "outputs": [],
   "source": [
    "Ques: Southridge video needs a way to determine the cost that a customer will pay to renting a DVD. The cost in dependend on the time of day the DVD is returned.\n",
    "        However, there are also special rates of Thursdays and Sundays. The free structure is show is the following list:\n",
    "          - The coast is $ 1.59 per night \n",
    "          - if tha DVD is returned after 8 p.m. the customer will be changed an extra day.\n",
    "          - if the video is rented on the Sunday, the customer gets 30% off for as long as they keep the video.\n",
    "          - if the video is rented on the Tuesday, the customer get 50% off for as long as they keep the video.\n",
    "        You need to write code to meet the requirements.\n",
    "        How should you complete the code? To answer, select the prepared code segment in the answer area.\n",
    "        \n",
    "        NOTE: Each correct section is worth 1 point.\n",
    "        \n",
    "    days_rented = int(input(\"How many days eas video rented?\"))\n",
    "    day_rented = input(\"what day was the video rented?\").capitalize()\n",
    "    cost_per_day = 1.59\n",
    "    if ontime # fill in the blanks: (!='n' , =='n' , =='y' )\n",
    "        days_rented += 1\n",
    "    if day_rented # fill in the blanks: (== \"Sunday\" , >='Sunday' , is 'Sunday' )\n",
    "        total = (day_rented*cost_per_day)*0.7\n",
    "    elif day_rented # fill in the blanks: (== 'Thursday' , <= 'Thursday' , is 'Thursday')\n",
    "        total = (day_rented*cost_per_day)*0.5\n",
    "        \n",
    "# Ans:\n",
    "    days_rented = int(input(\"How many days eas video rented?\"))\n",
    "    day_rented = input(\"what day was the video rented?\").capitalize()\n",
    "    cost_per_day = 1.59\n",
    "    if ontime == 'n':\n",
    "        days_rented += 1\n",
    "    if day_rented == \"Sunday\":\n",
    "        total = (day_rented*cost_per_day)*0.7\n",
    "    elif day_rented == 'Thursday':\n",
    "        total = (day_rented*cost_per_day)*0.5\n",
    "        \n",
    "        "
   ]
  }
 ],
 "metadata": {
  "celltoolbar": "Slideshow",
  "kernelspec": {
   "display_name": "Python 3",
   "language": "python",
   "name": "python3"
  },
  "language_info": {
   "codemirror_mode": {
    "name": "ipython",
    "version": 3
   },
   "file_extension": ".py",
   "mimetype": "text/x-python",
   "name": "python",
   "nbconvert_exporter": "python",
   "pygments_lexer": "ipython3",
   "version": "3.7.3"
  }
 },
 "nbformat": 4,
 "nbformat_minor": 2
}
