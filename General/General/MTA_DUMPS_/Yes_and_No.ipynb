{
 "cells": [
  {
   "cell_type": "markdown",
   "metadata": {
    "slideshow": {
     "slide_type": "slide"
    }
   },
   "source": [
    "# Yes and NO"
   ]
  },
  {
   "cell_type": "code",
   "execution_count": null,
   "metadata": {
    "slideshow": {
     "slide_type": "slide"
    }
   },
   "outputs": [],
   "source": [
    "Ques: You ceate a function to calculate the power of a number by using pyhton.\n",
    "    You need to ensure that the function is documented with comments.\n",
    "    You create the following code line numbers are included for reference only.\n",
    "    \n",
    "    01. # The calc_power function calculates exponents.and\n",
    "    02. # x is the base\n",
    "    03. # y is the exponent\n",
    "    04. # The value of x raised to you y power is returned\n",
    "    05. def calc_power(x,y):\n",
    "    06.     comment = '# Return the value'\n",
    "    07.     return x**y # raise x to the y power\n",
    "    \n",
    "    For each of the following statement select yes if statement is true, otherwise select no.\n",
    "    ine 07 contains an inline comment. \n",
    "                                                                Yes    No\n",
    "    Lines 01 through 04 will be ignored for syntax checking.    # fill in the blanks as which is right\n",
    "    The pound sign(#) is optional for line 02 and 03.           # fill in the blanks as which is right     \n",
    "    The string in line 06 will be interpreted as a comment.     # fill in the blanks as which is right     \n",
    "    Line 07 contains an inline comment.                         # fill in the blanks as which is right\n",
    "      \n",
    "# Ans: \n",
    "    Yes : 1,4\n",
    "    No : 2,3"
   ]
  },
  {
   "cell_type": "code",
   "execution_count": null,
   "metadata": {
    "slideshow": {
     "slide_type": "slide"
    }
   },
   "outputs": [],
   "source": [
    "Ques: You are creating a Python program that compare numbers.\n",
    "    You create the following code line numbers and including the reference only\n",
    "        \n",
    "    01. num1=eval(input(\"Please enter the first number: \"))    \n",
    "    02. num2=eval(input(\"please enter the second number: \"))\n",
    "    03. if num1 ==num2:\n",
    "    04.     print(\"The two numbers are equal.\")\n",
    "    05. if num1 <=num2:\n",
    "    06.     print(\"Number 1 is less then number2.\")\n",
    "    07. if num1 > num2:\n",
    "    08.     print(\"Number 1 is greater then number2\")\n",
    "    09. if num1 = num2:\n",
    "    10.     print(\"The two numbers are the same.\")\n",
    "        \n",
    "    You need to ensoure that the comparions are accurate.\n",
    " \n",
    "    The print statement at LINE 4 will not print if the two numbers are equal in value.\n",
    "    The print statement at LINE 6 will only print if num1 is less than num2\n",
    "    The print statement at LINE 8 will only print if num1 is greater than nnum2.\n",
    "    The statement at line 09 is an invalid comparison.\n",
    "        \n",
    "# Ans:       \n",
    "    Yes: 1,3,4\n",
    "    No: 2\n",
    "        \n",
    "        \n"
   ]
  },
  {
   "cell_type": "code",
   "execution_count": null,
   "metadata": {
    "slideshow": {
     "slide_type": "slide"
    }
   },
   "outputs": [],
   "source": [
    "Ques: You are writing a function the players score in a game.\n",
    "    The function has the following requirements.\n",
    "        - If no value is specified for points then points start at one\n",
    "        - If bonus is true, then points must be doubled.\n",
    "        \n",
    "    You write the following code line numbers are included for reference only.\n",
    "        \n",
    "        01. def increment_score(score, bonus, points):\n",
    "        02.     if bonus == True:\n",
    "        03.         points *= 2\n",
    "        04.     score += points\n",
    "        05.     return score\n",
    "        06. points = 3\n",
    "        07. score = 10\n",
    "        \n",
    "        To meet the requirement line one must be changes to the following\n",
    "         def increment_score(score, bonus, points=1)\n",
    "        \n",
    "        once any parameter is defined with a default value any parameters to the \n",
    "        right must also be defined with default values.\n",
    "        \n",
    "        It line 01 is not changed and she function is called with only two\n",
    "        parameter the value of the thrd parameter will be home. \n",
    "        \n",
    "        Line 01 will also modify the value of the variable points decleared at line 06.\n",
    "        \n",
    "#     Ans: \n",
    "        Yes : 1,2\n",
    "        No: 3,4\n",
    "        \n",
    "\n"
   ]
  },
  {
   "cell_type": "code",
   "execution_count": null,
   "metadata": {
    "slideshow": {
     "slide_type": "slide"
    }
   },
   "outputs": [],
   "source": [
    "Ques: For each of the following statements, select Yes if the statement is true. Otherwise, select No.\n",
    " \n",
    "A try statement can have one or more accept clauses\n",
    "A try statement can have a finally clause without except clause.\n",
    "A try statement can have a finally clause and an except clauses.\n",
    "A try statement can have one or more finally clauses\n",
    "        \n",
    "# Ans:\n",
    "      Yes: 1,2,3\n",
    "      No: 4\n",
    "\n",
    "        \n"
   ]
  },
  {
   "cell_type": "code",
   "execution_count": null,
   "metadata": {
    "slideshow": {
     "slide_type": "slide"
    }
   },
   "outputs": [],
   "source": [
    "Ques: During school holidays, you volunteer to explain some basic progamming concepts to your younger sibilings.\n",
    "      You want to introduce the concept of data type in Python. You create the following three code segments\n",
    "        \n",
    "    # code segment 1\n",
    "    x1 = '20'\n",
    "    y1 = 3\n",
    "    a = x1 * y1\n",
    "    \n",
    "    # code segment 2\n",
    "    x2 = 6\n",
    "    x2 = 4\n",
    "    b = x2 / y2\n",
    "        \n",
    "        \n",
    "    After executing code segment 1, the datatype of value a is str\n",
    "    After executing code segment 2, the code type of variable b is float\n",
    "    After executing code segment 3 the datatype of variable c is int\n",
    "        \n",
    "# Ans:\n",
    "        Yes: 1,2\n",
    "        No: 3\n",
    "        \n",
    " "
   ]
  },
  {
   "cell_type": "code",
   "execution_count": null,
   "metadata": {
    "slideshow": {
     "slide_type": "slide"
    }
   },
   "outputs": [],
   "source": [
    "Ques: You ceate a function to calculate the power of a number by using pyhton.\n",
    "    You need to ensure that the function is documented with comments.\n",
    "    You create the following code line numbers are included for reference only.\n",
    "    \n",
    "    01. # The calc_power function calculates exponents.and\n",
    "    02. # x is the base\n",
    "    03. # y is the exponent\n",
    "    04. # The value of x raised to you y power is returned\n",
    "    05. def calc_power(x,y):\n",
    "    06.     comment = '# Return the value'\n",
    "    07.     return x**y # raise x to the y power\n",
    "    \n",
    "    For each of the following statement select yes if statement is true, otherwise select no.\n",
    "    ine 07 contains an inline comment. \n",
    "                                                                Yes    No\n",
    "    Lines 01 through 04 will be ignored for syntax checking.    # fill in the blanks as which is right\n",
    "    The pound sign(#) is optional for line 02 and 03.           # fill in the blanks as which is right     \n",
    "    The string in line 06 will be interpreted as a comment.     # fill in the blanks as which is right     \n",
    "    Line 07 contains an inline comment.                         # fill in the blanks as which is right\n",
    "      \n",
    "# Ans: \n",
    "    Yes : 1,4\n",
    "    No : 2,3"
   ]
  }
 ],
 "metadata": {
  "celltoolbar": "Slideshow",
  "kernelspec": {
   "display_name": "Python 3",
   "language": "python",
   "name": "python3"
  },
  "language_info": {
   "codemirror_mode": {
    "name": "ipython",
    "version": 3
   },
   "file_extension": ".py",
   "mimetype": "text/x-python",
   "name": "python",
   "nbconvert_exporter": "python",
   "pygments_lexer": "ipython3",
   "version": "3.7.3"
  }
 },
 "nbformat": 4,
 "nbformat_minor": 2
}
