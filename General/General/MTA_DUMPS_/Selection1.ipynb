{
 "cells": [
  {
   "cell_type": "code",
   "execution_count": null,
   "metadata": {
    "slideshow": {
     "slide_type": "slide"
    }
   },
   "outputs": [],
   "source": [
    "Ques: Relecloud Virtual learning asks you to debug some code that is causing problems with their payroll. They ask you to find the second of the payroll error.\n",
    "    The following variables have been decleared.\n",
    "    employee_pay = [15000, 120000, 35000, 45000]\n",
    "    count = 0\n",
    "    sum=0\n",
    "    \n",
    "    There are two errors in the following code.\n",
    "    \n",
    "    for index in range(0, len(employee_pay)-1):\n",
    "        count += 1\n",
    "        sum += employee_pay[index]\n",
    "    average = sum//count\n",
    "    print(\"The total payroll is:\", sum)\n",
    "    print(\"The average salary is:\", average)\n",
    "    \n",
    "    \n",
    "#  Ans: \n",
    " for index in range(len(employee_pay)):\n",
    "    count += 1\n",
    "        sum += employee_pay[index]\n",
    "    average = sum/count\n",
    "    print(\"The total payroll is:\", sum)\n",
    "    print(\"The average salary is:\", average)\n",
    "        \n"
   ]
  },
  {
   "cell_type": "code",
   "execution_count": null,
   "metadata": {
    "slideshow": {
     "slide_type": "slide"
    }
   },
   "outputs": [],
   "source": [
    "Ques: You are creating a function to calculate admission fees by using Python. Admission fees are calculated based on the following rules.\n",
    "        - Anyone under age 5= free admission\n",
    "        - Anyone age 5 or older who is in school=10 USD \n",
    "        - Anyone age 5 to 17 who is not in school= 20 USD\n",
    "        - Anyone older than age 17 who is not school = 50 USD\n",
    "    How should you complete the code? To answer, select the appropriate code segments in the answer area.\n",
    "    \n",
    "    def admission_fee(age, school):\n",
    "        rate= 0\n",
    "        # fill in the blanks\n",
    "            rate=10\n",
    "        \n",
    "            # fill in the blanks\n",
    "                rate=20\n",
    "            else:\n",
    "                rate=50\n",
    "        return rate\n",
    "    \n",
    "    \n",
    "# Ans:\n",
    "    def admission_fee(age, school):\n",
    "        rate= 0\n",
    "        if age>=5 and school==True:\n",
    "            rate=10\n",
    "        elif age>=5 and school==False:\n",
    "            if age<=17:\n",
    "                rate=20\n",
    "            else:\n",
    "                rate=50\n",
    "        return rate\n",
    "    \n",
    "    \n"
   ]
  },
  {
   "cell_type": "code",
   "execution_count": null,
   "metadata": {
    "slideshow": {
     "slide_type": "slide"
    }
   },
   "outputs": [],
   "source": [
    "Ques: Wingtip Toys is creating an interactive Times Table Helper program intened for elementary school children.\n",
    "    You need to complete a function that computers and display all multiplication table combinations from 2 to 12.\n",
    "    How should you complete the code? To answer, select the appropriate code segment in the answer area.\n",
    "    \n",
    "    # Display times tables 2 - 12 \n",
    "    def times_table():\n",
    "        # fill in the blanks\n",
    "            # fill in the blanks\n",
    "                print(row * col, end=\" \")\n",
    "            print()\n",
    "            \n",
    "    # main\n",
    "    times_table()\n",
    "    \n",
    "# Ans:\n",
    "    # Display times tables 2 - 12 \n",
    "    def times_table():\n",
    "        for col in range(2,13):\n",
    "            for row in range(2,13):\n",
    "                print(row * col, end=\" \")\n",
    "            print()\n",
    "            \n",
    "    # main\n",
    "    times_table()\n",
    "    \n",
    "\n"
   ]
  },
  {
   "cell_type": "code",
   "execution_count": null,
   "metadata": {
    "slideshow": {
     "slide_type": "slide"
    }
   },
   "outputs": [],
   "source": [
    "Ques: You are creating that accepts user input. The program must cast the input into an integer. You must properly handle the error if the code cannot cast the input to an integer.\n",
    "    How should you complete the code? To answer, select the appropriate code segment in the answer area.\n",
    "    \n",
    "    while True:\n",
    "        # fill in the blanks\n",
    "            x = int(input(\"Please enter a number:\"))\n",
    "            break\n",
    "        # fill in the blanks ValueError:\n",
    "            print(\"Not a valid number. Try again....\")\n",
    "    \n",
    "# Ans: \n",
    "    while True:\n",
    "        try:\n",
    "            x = int(input(\"Please enter a number:\"))\n",
    "            break\n",
    "        except ValueError:\n",
    "            print(\"Not a valid number. Try again....\")\n",
    "    \n",
    "    \n",
    "    \n",
    "    \n"
   ]
  },
  {
   "cell_type": "code",
   "execution_count": null,
   "metadata": {
    "slideshow": {
     "slide_type": "slide"
    }
   },
   "outputs": [],
   "source": [
    "Ques: You develop a Python application for your company.\n",
    "    How should you complete the code so that the print statements are accurate? To answer, select the appropriate code segments in the answer area.\n",
    "       \n",
    "    numList=[1,2,3,4,5]\n",
    "    alphaList=['a','b','c','d','e']\n",
    "    # fill in the blanks\n",
    "        print(\"The Value in numList are equal to alphaList\")\n",
    "    # fill in the blanks\n",
    "        print(\"The values in numList are not equal to alphaList\")\n",
    "\n",
    "\n",
    "# Ans:\n",
    "    numList=[1,2,3,4,5]\n",
    "    alphaList=['a','b','c','d','e']\n",
    "    if numList==alphaList:\n",
    "        print(\"The Value in numList are equal to alphaList\")\n",
    "    else:\n",
    "        print(\"The values in numList are not equal to alphaList\")\n",
    "    \n",
    "\n",
    "\n"
   ]
  },
  {
   "cell_type": "code",
   "execution_count": null,
   "metadata": {
    "slideshow": {
     "slide_type": "slide"
    }
   },
   "outputs": [],
   "source": [
    "Ques: You are writing a Pyhton program to ask the user to enter a number and determine if the number is 1 digit 2 digit or more than 2 digit long.\n",
    "    you need to write  the program. \n",
    "    How should you complete the code? To answer, select the appropriate code segment in the answer area.\n",
    "    \n",
    "    num=int(input(\"Enter a number with 1 or 2 digits: \"))\n",
    "    digit = '0'\n",
    "    # fill in the blanks\n",
    "        digit='1'\n",
    "    # fill in the blanks\n",
    "        digit = '2'\n",
    "    # fill in the blanks\n",
    "        digit = '>2'\n",
    "    print(digit+\" digit.\")\n",
    "    \n",
    "# Ans: \n",
    "    num=int(input(\"Enter a number with 1 or 2 digits: \"))\n",
    "    digit = '0'\n",
    "    if num>-10 and num<10:\n",
    "        digit='1'\n",
    "    elif num>-100 and num<100:\n",
    "        digit = '2'\n",
    "    else:\n",
    "        digit = '>2'\n",
    "    print(digit+\" digit.\")\n",
    "    \n",
    "    \n",
    "    \n"
   ]
  },
  {
   "cell_type": "code",
   "execution_count": null,
   "metadata": {
    "slideshow": {
     "slide_type": "slide"
    }
   },
   "outputs": [],
   "source": [
    "Ques: You are developing a Python application for an online game.\n",
    "    You need to create a function that meet the following criteria.\n",
    "        - The function is name update_score.\n",
    "        - The function receive the current score and a value\n",
    "        - The function adds the value to the current score\n",
    "        - The function return the new score\n",
    "    \n",
    "    How should you complete the code? To answer, select the appropriate code segment in the answer area.\n",
    "    \n",
    "    # fill in the blanks:\n",
    "        current += value\n",
    "        # fill in the blanks\n",
    "    \n",
    "    \n",
    "# Ans:\n",
    "    def update_score(current, value):\n",
    "        current += value\n",
    "        return current\n",
    "    \n",
    "    \n",
    "    \n"
   ]
  },
  {
   "cell_type": "code",
   "execution_count": null,
   "metadata": {
    "slideshow": {
     "slide_type": "slide"
    }
   },
   "outputs": [],
   "source": [
    "Ques: A coworker wrote a program that inputs name into a database. Unfortunately, the program received the letter in each name.\n",
    "    You need to write a Python function that output the characters in a name in the correct order.\n",
    "    How should you complete the code to answer select the appropriate code segment in the answer area.\n",
    "    \n",
    "    Note: Each correct selection is wroth one point.\n",
    "    \n",
    "    #Function reverse characters in a string.\n",
    "    # return new String in reversed order.\n",
    "    \n",
    "    def reverse_name(backwards_name):\n",
    "        forward_name = '':\n",
    "        for index in # fill in the blanks:\n",
    "            forward_name += # fill in the blanks:\n",
    "        return forward_name\n",
    "    print(reverse_name('leinad'))#test case\n",
    "    \n",
    "    \n",
    "# Ans:\n",
    "    #Function reverse characters in a string.\n",
    "    # return new String in reversed order.\n",
    "    \n",
    "    def reverse_name(backwards_name):\n",
    "        forward_name = '':\n",
    "        for index in range(len(backwards_name)-1,-1,-1):\n",
    "            forward_name += backwards_name[index-1]\n",
    "        return forward_name\n",
    "    print(reverse_name('leinad'))#test case\n",
    "    \n"
   ]
  },
  {
   "cell_type": "code",
   "execution_count": null,
   "metadata": {
    "slideshow": {
     "slide_type": "slide"
    }
   },
   "outputs": [],
   "source": [
    "    \n",
    "Ques: Adventure works cycles sales are so excptional that they decide to give a bonus to all employees. Who do not make more than $150,000. The following formula applies \n",
    "    to each employee based on their base salary and a flat bonus.\n",
    "    \n",
    "    New salary = current salary * 103% + a - $500 bonus. \n",
    "    \n",
    "    You write code that read the employee salaries into a variable name salary_list.\n",
    "    You need to complete the code that applies an increased to each eligible employees salary.\n",
    "    How should be you complete the code> To answer, select the appropriate code segment in the answer area.   \n",
    "\n",
    "    Note: Each correct selection is wroth one point. \n",
    "    \n",
    "    # Else salary in the list is updated based on increase imployees making.\n",
    "    # $150,000 or more will not get a raise.\n",
    "    # salary list is populated from employee database code not shown.\n",
    "    \n",
    "    # fill in the blanks:\n",
    "        if salary_list[index]>=150000:\n",
    "           # fill in the blanks\n",
    "        salary_list[index] = (salary_list[index]*1.03)+500\n",
    "    \n",
    "    \n",
    "# Ans:\n",
    "    # Else salary in the list is updated based on increase imployees making.\n",
    "    # $150,000 or more will not get a raise.\n",
    "    # salary list is populated from employee database code not shown.\n",
    "    \n",
    "    for index in range(len(salary_list)):\n",
    "        if salary_list[index]>=150000:\n",
    "            continue\n",
    "        salary_list[index] = (salary_list[index]*1.03)+500\n",
    "    \n",
    "    \n",
    "    \n"
   ]
  },
  {
   "cell_type": "code",
   "execution_count": null,
   "metadata": {
    "slideshow": {
     "slide_type": "slide"
    }
   },
   "outputs": [],
   "source": [
    "Ques: You write the following code.\n",
    "    a = 'Config1'\n",
    "    print(a)\n",
    "    b=a\n",
    "    a+='Config2'\n",
    "    print(a)\n",
    "    print(b)\n",
    "    \n",
    "    Use the drop-down menus to select the answer choice that a answer each question based on the information presented in the code segment.\n",
    "    \n",
    "    What is display after the first print?          # fill in the blanks:\n",
    "    What is display after the second print?         # fill in the blanks:\n",
    "    What is display after the second print?         # fill in the blanks:\n",
    "    \n",
    "    \n",
    "# Ans: \n",
    "    What is display after the first print?          Config1\n",
    "    What is display after the second print?         Config1Config1\n",
    "    What is display after the second print?         Config2\n",
    "    \n",
    "    \n",
    "    \n"
   ]
  },
  {
   "cell_type": "code",
   "execution_count": null,
   "metadata": {
    "slideshow": {
     "slide_type": "slide"
    }
   },
   "outputs": [],
   "source": [
    "Ques: You are waiting a function to perform self division.\n",
    "    You need to ensure that the denominator and numerator are passed to the function and that the denominator is not zero.\n",
    "    How should you complete the code? To answer select the program code segment in the answer area.\n",
    "    \n",
    "    def self_divide(numerator, denominator):\n",
    "        # fill in the blanks:\n",
    "            print('A required value is missing.')\n",
    "        # fill in the blanks:\n",
    "            print(\"The denominator is zero.\")\n",
    "        else:\n",
    "            return numerator/denominator\n",
    "    \n",
    "    \n",
    "# Ans: \n",
    "    def self_divide(numerator, denominator):\n",
    "        if numerator is None or denominator is None:\n",
    "            print('A required value is missing.')\n",
    "        elif denominator != 0:\n",
    "            print(\"The denominator is zero.\")\n",
    "        else:\n",
    "            return numerator/denominator\n",
    "    \n",
    "    \n"
   ]
  },
  {
   "cell_type": "code",
   "execution_count": null,
   "metadata": {
    "slideshow": {
     "slide_type": "slide"
    }
   },
   "outputs": [],
   "source": [
    "Ques: You are writing a function tht returns the datatype of the value that is passes in you write the following code line numbers and \n",
    "    included the reference only.\n",
    "    \n",
    "    01. def checkType(value):\n",
    "    02.     detaType = type(value)\n",
    "    03.     return dataType\n",
    "    04. print(checkType(True))\n",
    "    04. print(checkType(1.0))\n",
    "    04. print(checkType(1))\n",
    "    04. print(checkType('True'))\n",
    "    \n",
    "    Use the drop-down menus to select the answer choice that answer each question based on the information presented in the code segment.\n",
    "    \n",
    "    What is printed at line 04?     # fill in the blanks\n",
    "    What is printed at line 05?     # fill in the blanks\n",
    "    What is printed at line 06?     # fill in the blanks\n",
    "    What is printed at line 07?     # fill in the blanks\n",
    "    \n",
    "# Ans: \n",
    "    What is printed at line 04?     <class 'bool'>\n",
    "    What is printed at line 05?     <class 'float'>\n",
    "    What is printed at line 06?     <class 'int'>\n",
    "    What is printed at line 07?     <class'str'>\n",
    "    \n"
   ]
  },
  {
   "cell_type": "code",
   "execution_count": null,
   "metadata": {
    "slideshow": {
     "slide_type": "slide"
    }
   },
   "outputs": [],
   "source": [
    "Ques: You are writing a program that calculates a user's year of birth. The program asks users for their age and the current year, then outputs the user's year of birth. You write the following code.\n",
    "    Line numbers are included for reference only.    \n",
    "    \n",
    "    01. age = input('Enter your age: ')\n",
    "    02. year = input(\"Enter the four digit year: \")\n",
    "    03. born = eval(year) - eval(age)\n",
    "    04. message = \"You were born in \" + str(born)\n",
    "    05. print(message)\n",
    "\n",
    "    You need to ensure that the program uses the appropriate data types.\n",
    "    What data types are used? Use the drop-down menus to select the answer choice that answer each question based on the information presented in the code segment. \n",
    "    \n",
    "    What data type is age in line 01?          # fill in the blanks\n",
    "    What data type is born in line 03?         # fill in the blanks\n",
    "    What data type is message in line 04?      # fill in the blanks\n",
    "    \n",
    "# Ans:\n",
    "    What data type is age in line 01?          str\n",
    "    What data type is born in line 03?         int\n",
    "    What data type is message in line 04?      str\n",
    "    \n",
    "\n"
   ]
  },
  {
   "cell_type": "code",
   "execution_count": null,
   "metadata": {
    "slideshow": {
     "slide_type": "slide"
    }
   },
   "outputs": [],
   "source": [
    "Ques: You develop a Python application for your company.\n",
    "    You have the following code. Line numbers are included for reference only.\n",
    "    \n",
    "    01. def main(a,b,c,d):\n",
    "    02.     value = a+b*c-d\n",
    "    03.     return value\n",
    "    \n",
    "    Use the drop-down menus to select the answer choice that answers each question based on the information presented in the code segment.\n",
    "    \n",
    "# Ans:\n",
    "    Which part of the expression will be evaluated first?              b*c\n",
    "    Which operation will be evaluated second?                          addition\n",
    "    Which expression is equivalent to the expression in the function?  (a+(b*c))-d"
   ]
  }
 ],
 "metadata": {
  "celltoolbar": "Slideshow",
  "kernelspec": {
   "display_name": "Python 3",
   "language": "python",
   "name": "python3"
  },
  "language_info": {
   "codemirror_mode": {
    "name": "ipython",
    "version": 3
   },
   "file_extension": ".py",
   "mimetype": "text/x-python",
   "name": "python",
   "nbconvert_exporter": "python",
   "pygments_lexer": "ipython3",
   "version": "3.7.3"
  }
 },
 "nbformat": 4,
 "nbformat_minor": 2
}
