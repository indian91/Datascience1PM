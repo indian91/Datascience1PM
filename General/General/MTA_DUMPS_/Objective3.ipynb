{
 "cells": [
  {
   "cell_type": "markdown",
   "metadata": {
    "slideshow": {
     "slide_type": "slide"
    }
   },
   "source": [
    "## Objectie3"
   ]
  },
  {
   "cell_type": "code",
   "execution_count": null,
   "metadata": {
    "slideshow": {
     "slide_type": "slide"
    }
   },
   "outputs": [],
   "source": [
    "Ques: Adventure Works Cycles is creating a program that allows customers to log the number of miles biked. The program will send message based messages based on how many miles the customer logs.\n",
    "    You create the following Python code line numbers are included for reference only.\n",
    "    \n",
    "    01. \n",
    "    02.     name=input(\"What is your name?\")\n",
    "    03.     return name\n",
    "    04.     \n",
    "    05.     calories = miles * calories_per_mile\n",
    "    06.     return calories\n",
    "    07. disance = int(input('How many miles did you bike this weeek? '))\n",
    "    08. burn_rate = 50\n",
    "    09. biker = get_name()\n",
    "    10. calories_burned =  calc_calories(distance, burn_rate)\n",
    "    11. print(biker,\", you burned about \", calories_burned,\" calories.\")\n",
    "    \n",
    "    You need to define the two required functions.\n",
    "    \n",
    "    A. 01. def get_name():\n",
    "    B. 01. def get_name(biker):\n",
    "    C. 01. def get_name(name):\n",
    "    D. 04. def calc_salories():\n",
    "    E. 04. def calc_salories(miles, burn_rate):\n",
    "    F. 04. def calc_salories(miles, calories_per_mile):\n",
    "\n",
    "# Ans : A, F\n",
    "\n"
   ]
  },
  {
   "cell_type": "code",
   "execution_count": null,
   "metadata": {
    "slideshow": {
     "slide_type": "slide"
    }
   },
   "outputs": [],
   "source": [
    "Ques: You are creating a function that reads a data file and prints each line of the file.\n",
    "    You write the following code. Line numbers are included for reference only\n",
    "    \n",
    "    01. import os\n",
    "    02. def read_file(file):\n",
    "    03.     line = None\n",
    "    04.     if os.path.isfile(file):\n",
    "    05.         data = open(file,'r')\n",
    "    06.     while line !='':\n",
    "    07.         line = data.readline()\n",
    "    08.         print(line)\n",
    "    \n",
    "    The code attempts to read the file even if the file does not exits.\n",
    "    You need to correct the code.\n",
    "    \n",
    "    A. Line01\n",
    "    B. Line02\n",
    "    C. Line03\n",
    "    D. Line04\n",
    "    E. Line05\n",
    "    F. Line06\n",
    "    G. Line07\n",
    "    H. Line08\n",
    "    \n",
    "# Ans: F, G, H"
   ]
  },
  {
   "cell_type": "code",
   "execution_count": null,
   "metadata": {
    "slideshow": {
     "slide_type": "slide"
    }
   },
   "outputs": [],
   "source": [
    "Ques: You develeop a python application for your school.\n",
    "    You need to read and write data to a text file. if the file does not exist. it must be created if the file has content the content must be removed.\n",
    "    Which code should you use?\n",
    "    \n",
    "    A. open(\"local_data\",\"r+\")\n",
    "    B. open(\"local_data\",\"w\")\n",
    "    C. open(\"local_data\",\"r\")\n",
    "    D. open(\"local_data\",\"w+\")\n",
    "\n",
    "# Ans : D"
   ]
  },
  {
   "cell_type": "code",
   "execution_count": null,
   "metadata": {
    "slideshow": {
     "slide_type": "slide"
    }
   },
   "outputs": [],
   "source": [
    "Ques: You develop a Python application for your company.\n",
    "    A list named employees contains 200 employee names, the last five being company management. You need to slice the list to display all employees excluding management.\n",
    "    Which two code segment should you use? Each corret answer presents a complete solution. Choose two\n",
    "    \n",
    "    A. employees[1:-5]\n",
    "    B. employees[0:-5]\n",
    "    C. employees[:-5]\n",
    "    D. employees[0:-4]\n",
    "    E. employees[1:-4]\n",
    "\n",
    "# Ans: B,C"
   ]
  },
  {
   "cell_type": "code",
   "execution_count": null,
   "metadata": {
    "slideshow": {
     "slide_type": "slide"
    }
   },
   "outputs": [],
   "source": [
    "Ques: You are writing code that generates a random integer with a minimum value of 5 and a maximum value of 11.\n",
    "    Which two function should you use? Each correct answer presents a complete solution. Choose two\n",
    "    \n",
    "    A. random.randint(5,12)\n",
    "        \n",
    "    B. random.randrange(5, 11, 1)\n",
    "    \n",
    "    C. random.randrange(5, 12, 1)\n",
    "    \n",
    "    D. random.randint(5, 11)  \n",
    "\n",
    "# Ans: A, C"
   ]
  }
 ],
 "metadata": {
  "celltoolbar": "Slideshow",
  "kernelspec": {
   "display_name": "Python 3",
   "language": "python",
   "name": "python3"
  },
  "language_info": {
   "codemirror_mode": {
    "name": "ipython",
    "version": 3
   },
   "file_extension": ".py",
   "mimetype": "text/x-python",
   "name": "python",
   "nbconvert_exporter": "python",
   "pygments_lexer": "ipython3",
   "version": "3.7.3"
  }
 },
 "nbformat": 4,
 "nbformat_minor": 2
}
