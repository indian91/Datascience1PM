{
 "cells": [
  {
   "cell_type": "code",
   "execution_count": null,
   "metadata": {
    "slideshow": {
     "slide_type": "slide"
    }
   },
   "outputs": [],
   "source": [
    "Ques: You are creating a function that manipulates a number. The Function has the following requirements.\n",
    "        - A float is passed into the function.\n",
    "        - The function must the absoluted value of the float.\n",
    "        - Any decimal points after the integer must be removed\n",
    "    Which two math function should you use ? Each correct answer is part of the solution. Choose two.\n",
    "    \n",
    "    A. math.fabs(x)\n",
    "    B. math.frexp(x)\n",
    "    C. math.floor(x)\n",
    "    D. math.fmod(x)\n",
    "\n",
    "# Ans: B, C"
   ]
  },
  {
   "cell_type": "code",
   "execution_count": null,
   "metadata": {
    "slideshow": {
     "slide_type": "slide"
    }
   },
   "outputs": [],
   "source": [
    "Ques: You work on a team that is developing a game for AdventureWorks\n",
    "    You need to write code that generates a random number that meets the following requirements\n",
    "        - The number is a multiple of 5\n",
    "        - The lowest number is 5\n",
    "        - The highest number is 100\n",
    "    Which two code segments will meet the requirements? Each correct answer presents a complete solution Choose two\n",
    "    \n",
    "    A. from random import randint\n",
    "        print(randint(0,20)*5)\n",
    "    \n",
    "    B. from random import randint\n",
    "        print(randint(1,20)*5)\n",
    "    \n",
    "    C. from random import randrange\n",
    "        print(randrange(5, 105, 5))\n",
    "    \n",
    "    D. from random import randint\n",
    "        print(randrange(5, 105, 5))\n",
    "        \n",
    "# Ans: B, C"
   ]
  },
  {
   "cell_type": "code",
   "execution_count": null,
   "metadata": {
    "slideshow": {
     "slide_type": "slide"
    }
   },
   "outputs": [],
   "source": [
    "Ques: You are writing code that generates a random integer with a minimum value of 5 and a maximum value of 11.\n",
    "    Which two function should you use? Each correct answer presents a complete solution. Choose two\n",
    "    \n",
    "    A. random.randint(5,12)\n",
    "        \n",
    "    B. random.randrange(5, 11, 1)\n",
    "    \n",
    "    C. random.randrange(5, 12, 1)\n",
    "    \n",
    "    D. random.randint(5, 11)\n",
    "\n",
    "# Ans: B, D"
   ]
  },
  {
   "cell_type": "code",
   "execution_count": null,
   "metadata": {
    "slideshow": {
     "slide_type": "slide"
    }
   },
   "outputs": [],
   "source": [
    "Ques: North Traders has hired you as an intern on the coding team that that e-commerece application.\n",
    "    You must write a script that asks the for a value must be used as a whole number in a calculation even if the user enters a decimal value.\n",
    "    you need to write the code to meet the requirements\n",
    "    Which code segment sould you use?\n",
    "    \n",
    "    A. totalItems = float(input('How many items whould you like?'))\n",
    "    B. totalItems = int(input('How many items whould you like?'))\n",
    "    C. totalItems = str(input('How many items whould you like?'))\n",
    "    D. totalItems = input('How many items whould you like?')\n",
    "    \n",
    "# Ans: A"
   ]
  },
  {
   "cell_type": "code",
   "execution_count": null,
   "metadata": {
    "slideshow": {
     "slide_type": "slide"
    }
   },
   "outputs": [],
   "source": [
    "Ques: You are an application that uses the sqrt function. The program must reference the function using the name squareRoot.     \n",
    "    You need to import the function.\n",
    "    Which code segment should you use?\n",
    "    \n",
    "    A. from math import sqrt as squareRoot\n",
    "    B. import sqrt fom import sqrt as squareRoot\n",
    "    C. from math.sqrt as squareRoot\n",
    "    D. import math.sqrt as squareRoot\n",
    "\n",
    "# Ans: A"
   ]
  },
  {
   "cell_type": "code",
   "execution_count": null,
   "metadata": {
    "slideshow": {
     "slide_type": "slide"
    }
   },
   "outputs": [],
   "source": [
    "Ques: You are creating a Pyhton that showns a congratulation message to employees on their on their service anniversary.    \n",
    "    You need to calculates the number of years of service and print a congratulatory message.\n",
    "    You have written the following code line numbers are included for reference only\n",
    "    \n",
    "    01. start = input(\"How old are you on your start date?\")\n",
    "    02. end = input(\"how old are you today?\")\n",
    "    03.\n",
    "    \n",
    "    You need to complete the program\n",
    "    Which code should you use at line 03?\n",
    "    \n",
    "    A. print(\"Congratulations on \"+(int(end)+int(start)) + \" years of serviec!\")\n",
    "    \n",
    "    B. print(\"Congratulations on \"+str(int(end)+int(start)) + \" years of serviec!\")\n",
    "    \n",
    "    C. print(\"Congratulations on \"+int(end-start) + \" years of serviec!\")\n",
    "    \n",
    "    D. print(\"Congratulations on \"+str(end-start) + \" years of serviec!\")\n",
    "\n",
    "# Ans: A"
   ]
  },
  {
   "cell_type": "code",
   "execution_count": null,
   "metadata": {
    "slideshow": {
     "slide_type": "slide"
    }
   },
   "outputs": [],
   "source": [
    "    \n",
    "Ques: You develop a Python application for your company.\n",
    "    A list named employees contains 200 employee names, the last five being company management. You need to slice the list to display all employees excluding management.\n",
    "    Which two code segment should you use? Each corret answer presents a complete solution. Choose two\n",
    "    \n",
    "    A. employees[1:-5]\n",
    "    B. employees[0:-5]\n",
    "    C. employees[:-5]\n",
    "    D. employees[0:-4]\n",
    "    E. employees[1:-4]\n",
    "    \n",
    "# Ans: B,C"
   ]
  },
  {
   "cell_type": "code",
   "execution_count": null,
   "metadata": {
    "slideshow": {
     "slide_type": "slide"
    }
   },
   "outputs": [],
   "source": [
    "Ques: This Question requires that you evaluate the underlined text to determine if it is correct.\n",
    "    You write the following code.\n",
    "    \n",
    "    import sys\n",
    "    try:\n",
    "        file_in=open('in.txt','r')\n",
    "        file_out=open('out.txt','w+')\n",
    "    except IOError:\n",
    "        print(\"cannot open\",file_name)\n",
    "    else:\n",
    "        i=1\n",
    "        for line in file_in:\n",
    "            print(line.rstrip())\n",
    "            file_out.write(\"line\"+str(i)+': '+line)\n",
    "            i+= 1\n",
    "        file_in.close()                \n",
    "        file_out.close()\n",
    "    \n",
    "    A. No Change in needed.\n",
    "    B. The code runs but generates a logic error\n",
    "    C. The code will generate a runtime error\n",
    "    D. The code will generate a syntax error\n",
    "    \n",
    "# Ans: A"
   ]
  },
  {
   "cell_type": "code",
   "execution_count": null,
   "metadata": {
    "slideshow": {
     "slide_type": "slide"
    }
   },
   "outputs": [],
   "source": [
    "Ques: You develep a Python applcation for your company.\n",
    "    You want to add notes to your code so other term members will understand it.\n",
    "    What should you do?\n",
    "    \n",
    "    A. Place the notes after the last line of code separated by a blank line.\n",
    "    B. Place the notes after the '#' sign on any line.\n",
    "    C. Place the notes before the first line of code seperated by a blank line.\n",
    "    D. Place the notes inside of parameteres on any line.\n",
    "\n",
    "# Ans: B"
   ]
  },
  {
   "cell_type": "code",
   "execution_count": null,
   "metadata": {
    "slideshow": {
     "slide_type": "slide"
    }
   },
   "outputs": [],
   "source": [
    "Ques: Evaluate the following Python arithmetic expression\n",
    "    (3*(1+2)**2 - (2**2)*3) \n",
    "    What a the result?\n",
    "\n",
    "    A. 3\n",
    "    B. 13\n",
    "    C. 15\n",
    "    D. 69\n",
    "\n",
    "# Ans: C"
   ]
  },
  {
   "cell_type": "code",
   "execution_count": null,
   "metadata": {
    "slideshow": {
     "slide_type": "slide"
    }
   },
   "outputs": [],
   "source": [
    "Ques: You develop a Python application for your company.\n",
    "    You need to accept input from the user and print that information to the user screen.\n",
    "    You have started with the following code line numbers are included for reference only.\n",
    "    \n",
    "    01. print(\"What is your name?\")\n",
    "    02. \n",
    "    03. print(name)\n",
    "    \n",
    "    Which code should you write at line 02?\n",
    "    \n",
    "    A. input(\"name\")\n",
    "    B. name = input\n",
    "    C. name = input()\n",
    "    D. input(name)\n",
    "\n",
    "# Ans: C"
   ]
  },
  {
   "cell_type": "code",
   "execution_count": null,
   "metadata": {
    "slideshow": {
     "slide_type": "slide"
    }
   },
   "outputs": [],
   "source": [
    "Ques: You are writing a Python Program to automate inventory. Your first task is to read a file of inventory transaction. The file contains sales from the previous day, including the item id, price and \n",
    "quality.\n",
    "The following shows a sample of the data from the file.\n",
    "\n",
    "10, 200, 5\n",
    "20, 100, 1\n",
    "    \n",
    "The code must meet the following requirements:\n",
    "    - Each line of the file must be read and printed\n",
    "    - If a blank line is encountered, it must be ignored\n",
    "    - When all lines have been read, the file must be closed\n",
    "    \n",
    "You create the following code line numbers are included for reference only.\n",
    "\n",
    "01.  inventory = open('inventory.txt','r') ## Incomplete\n",
    "\n",
    "  \n",
    "    A. 05. if line != '':\n",
    "       06.  if line != \"\":\n",
    "    \n",
    "    A. 05. if line != '\\n':\n",
    "       06.  if line != \"\":\n",
    "    \n",
    "    A. 05. if line != '\\n':\n",
    "       06.  if line != None:\n",
    "    \n",
    "    A. 05. if line != '':\n",
    "       06.  if line != '\\n':\n",
    "    \n",
    "# Ans: A"
   ]
  },
  {
   "cell_type": "code",
   "execution_count": null,
   "metadata": {
    "slideshow": {
     "slide_type": "slide"
    }
   },
   "outputs": [],
   "source": [
    "Ques: Adventure Works Cycles is creating a program that allows customers to log the number of miles biked. The program will send message based messages based on how many miles the customer logs.\n",
    "    You create the following Python code line numbers are included for reference only.\n",
    "    \n",
    "    01. \n",
    "    02.     name=input(\"What is your name?\")\n",
    "    03.     return name\n",
    "    04.     \n",
    "    05.     calories = miles * calories_per_mile\n",
    "    06.     return calories\n",
    "    07. disance = int(input('How many miles did you bike this weeek? '))\n",
    "    08. burn_rate = 50\n",
    "    09. biker = get_name()\n",
    "    10. calories_burned =  calc_calories(distance, burn_rate)\n",
    "    11. print(biker,\", you burned about \", calories_burned,\" calories.\")\n",
    "    \n",
    "    You need to define the two required functions.\n",
    "    \n",
    "    A. 01. def get_name():\n",
    "    B. 01. def get_name(biker):\n",
    "    C. 01. def get_name(name):\n",
    "    D. 04. def calc_salories():\n",
    "    E. 04. def calc_salories(miles, burn_rate):\n",
    "    F. 04. def calc_salories(miles, calories_per_mile):\n",
    "        \n",
    "# Ans: A, F"
   ]
  },
  {
   "cell_type": "code",
   "execution_count": null,
   "metadata": {
    "slideshow": {
     "slide_type": "slide"
    }
   },
   "outputs": [],
   "source": [
    "Ques: You are creating a function that reads a data file and prints each line of the file.\n",
    "    You write the following code. Line numbers are included for reference only\n",
    "    \n",
    "    01. def read_file(file):\n",
    "    02.     line = None\n",
    "    03.     if os.path.isfile(file):\n",
    "    04.         data = open(file,'r')\n",
    "    05.     while line !='':\n",
    "    06.         line = data.readline()\n",
    "    07.         print(line)\n",
    "    \n",
    "    The code attempts to read the file even if the file does not exits.\n",
    "    You need to correct the code.\n",
    "    \n",
    "    A. Line01\n",
    "    B. Line02\n",
    "    C. Line03\n",
    "    D. Line04\n",
    "    E. Line05\n",
    "    F. Line06\n",
    "    G. Line07\n",
    "    H. Line08\n",
    "    \n",
    "# Ans: F, G, H"
   ]
  },
  {
   "cell_type": "code",
   "execution_count": null,
   "metadata": {
    "slideshow": {
     "slide_type": "slide"
    }
   },
   "outputs": [],
   "source": [
    "Ques: You develeop a python application for your school.\n",
    "    You need to read and write data to a text file. if the file does not exist. it must be created if the file has content the content must be removed.\n",
    "    Which code should you use?\n",
    "    \n",
    "    A. open(\"local_data\",\"r+\")\n",
    "    B. open(\"local_data\",\"w\")\n",
    "    C. open(\"local_data\",\"r\")\n",
    "    D. open(\"local_data\",\"w+\")\n",
    "    \n",
    "# Ans: D"
   ]
  }
 ],
 "metadata": {
  "celltoolbar": "Slideshow",
  "kernelspec": {
   "display_name": "Python 3",
   "language": "python",
   "name": "python3"
  },
  "language_info": {
   "codemirror_mode": {
    "name": "ipython",
    "version": 3
   },
   "file_extension": ".py",
   "mimetype": "text/x-python",
   "name": "python",
   "nbconvert_exporter": "python",
   "pygments_lexer": "ipython3",
   "version": "3.8.3"
  }
 },
 "nbformat": 4,
 "nbformat_minor": 2
}
