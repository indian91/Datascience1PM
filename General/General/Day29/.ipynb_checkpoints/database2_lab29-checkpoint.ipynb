{
 "cells": [
  {
   "cell_type": "markdown",
   "metadata": {
    "slideshow": {
     "slide_type": "slide"
    }
   },
   "source": [
    "## Introduction to Database Keys"
   ]
  },
  {
   "cell_type": "markdown",
   "metadata": {
    "slideshow": {
     "slide_type": "fragment"
    }
   },
   "source": [
    "- Keys are very important part of Relational database model. They are used to establish and identify relationships between tables and also to uniquely identify any record or row of data inside a table."
   ]
  },
  {
   "cell_type": "markdown",
   "metadata": {
    "slideshow": {
     "slide_type": "fragment"
    }
   },
   "source": [
    "- A Key can be a single attribute or a group of attributes, where the combination may act as a key."
   ]
  },
  {
   "cell_type": "markdown",
   "metadata": {
    "slideshow": {
     "slide_type": "slide"
    }
   },
   "source": [
    "<img src='https://drive.google.com/uc?id=1ljWST2EA_DXs3kzBvWgr0rEycHAgcfRd' height=500 width=800>     "
   ]
  },
  {
   "cell_type": "markdown",
   "metadata": {
    "slideshow": {
     "slide_type": "slide"
    }
   },
   "source": [
    "### Why we need a Key?"
   ]
  },
  {
   "cell_type": "markdown",
   "metadata": {
    "slideshow": {
     "slide_type": "fragment"
    }
   },
   "source": [
    "- In real world applications, number of tables required for storing the data is huge, and the different tables are related to each other as well."
   ]
  },
  {
   "cell_type": "markdown",
   "metadata": {
    "slideshow": {
     "slide_type": "fragment"
    }
   },
   "source": [
    "- The tables store a lot of data in them. Tables generally extends to thousands of records stored in them, unsorted and unorganised."
   ]
  },
  {
   "cell_type": "markdown",
   "metadata": {
    "slideshow": {
     "slide_type": "fragment"
    }
   },
   "source": [
    "- Now to fetch any particular record from such dataset, you will have to apply some conditions, but what if there is duplicate data present and every time you try to fetch some data by applying certain condition, you get the wrong data. How many trials before you get the right data?\n",
    "\n",
    "**To avoid all this, Keys are defined to easily identify any row of data in a table.**"
   ]
  },
  {
   "cell_type": "markdown",
   "metadata": {
    "slideshow": {
     "slide_type": "slide"
    }
   },
   "source": [
    "### Simple Example: Student table, with fields student_id, name, phone and age.\n",
    "- All the database keys are define using this example."
   ]
  },
  {
   "cell_type": "markdown",
   "metadata": {
    "slideshow": {
     "slide_type": "fragment"
    }
   },
   "source": [
    "    student_id     name      phone         age\n",
    "    1              Akon      9876723452    17\n",
    "    2              Akon      9991165674    19\n",
    "    3              Bkon      7898756543    18\n",
    "    4              Ckon      8987867898    19\n",
    "    5              Dkon      9990080080    17"
   ]
  },
  {
   "cell_type": "markdown",
   "metadata": {
    "slideshow": {
     "slide_type": "slide"
    }
   },
   "source": [
    "### 1. Super Key:"
   ]
  },
  {
   "cell_type": "markdown",
   "metadata": {
    "slideshow": {
     "slide_type": "fragment"
    }
   },
   "source": [
    "- Super Key is defined as a set of attributes within a table that can uniquely identify each record within a table. Super Key is a superset of Candidate key."
   ]
  },
  {
   "cell_type": "markdown",
   "metadata": {
    "slideshow": {
     "slide_type": "fragment"
    }
   },
   "source": [
    "- In the table defined above super key would include student_id, (student_id, name), phone etc."
   ]
  },
  {
   "cell_type": "markdown",
   "metadata": {
    "slideshow": {
     "slide_type": "slide"
    }
   },
   "source": [
    "### 2. Candidate Key:"
   ]
  },
  {
   "cell_type": "markdown",
   "metadata": {
    "slideshow": {
     "slide_type": "fragment"
    }
   },
   "source": [
    "- Candidate keys are defined as the minimal set of fields which can uniquely identify each record in a table. It is an attribute or a set of attributes that can act as a Primary Key for a table to uniquely identify each record in that table. There can be more than one candidate key."
   ]
  },
  {
   "cell_type": "markdown",
   "metadata": {
    "slideshow": {
     "slide_type": "fragment"
    }
   },
   "source": [
    "- In our example, student_id and phone both are candidate keys for table Student.\n",
    "    - A candiate key can never be NULL or empty. And its value should be unique.\n",
    "    - There can be more than one candidate keys for a table.\n",
    "    - A candidate key can be a combination of more than one columns(attributes)."
   ]
  },
  {
   "cell_type": "markdown",
   "metadata": {
    "slideshow": {
     "slide_type": "slide"
    }
   },
   "source": [
    "### 3. Primary Key"
   ]
  },
  {
   "cell_type": "markdown",
   "metadata": {
    "slideshow": {
     "slide_type": "fragment"
    }
   },
   "source": [
    "- Primary key is a candidate key that is most appropriate to become the main key for any table. It is a key that can uniquely identify each record in a table."
   ]
  },
  {
   "cell_type": "markdown",
   "metadata": {
    "slideshow": {
     "slide_type": "fragment"
    }
   },
   "source": [
    "- For the table Student we can make the student_id column as the primary key."
   ]
  },
  {
   "cell_type": "markdown",
   "metadata": {
    "slideshow": {
     "slide_type": "slide"
    }
   },
   "source": [
    "### 4. Composite Key"
   ]
  },
  {
   "cell_type": "markdown",
   "metadata": {
    "slideshow": {
     "slide_type": "fragment"
    }
   },
   "source": [
    "- Key that consists of two or more attributes that uniquely identify any record in a table is called Composite key. But the attributes which together form the Composite key are not a key independentely or individually."
   ]
  },
  {
   "cell_type": "markdown",
   "metadata": {
    "slideshow": {
     "slide_type": "fragment"
    }
   },
   "source": [
    "- In this table student_id and subject_id together will form the primary key, hence it is a composite key."
   ]
  },
  {
   "cell_type": "markdown",
   "metadata": {
    "slideshow": {
     "slide_type": "slide"
    }
   },
   "source": [
    "### 5. Secondary or Alternative key"
   ]
  },
  {
   "cell_type": "markdown",
   "metadata": {
    "slideshow": {
     "slide_type": "fragment"
    }
   },
   "source": [
    "- The candidate key which are not selected as primary key are known as secondary keys or alternative keys."
   ]
  },
  {
   "cell_type": "markdown",
   "metadata": {
    "slideshow": {
     "slide_type": "slide"
    }
   },
   "source": [
    "### 6.  Non-key Attributes"
   ]
  },
  {
   "cell_type": "markdown",
   "metadata": {
    "slideshow": {
     "slide_type": "fragment"
    }
   },
   "source": [
    "- Non-key attributes are the attributes or fields of a table, other than candidate key attributes/fields in a table."
   ]
  },
  {
   "cell_type": "markdown",
   "metadata": {
    "slideshow": {
     "slide_type": "slide"
    }
   },
   "source": [
    "### 7. Non-prime Attributes"
   ]
  },
  {
   "cell_type": "markdown",
   "metadata": {
    "slideshow": {
     "slide_type": "fragment"
    }
   },
   "source": [
    "- Non-prime Attributes are attributes other than Primary Key attribute(s).."
   ]
  },
  {
   "cell_type": "markdown",
   "metadata": {
    "slideshow": {
     "slide_type": "slide"
    }
   },
   "source": [
    "## Introduction to SQL"
   ]
  },
  {
   "cell_type": "markdown",
   "metadata": {
    "slideshow": {
     "slide_type": "fragment"
    }
   },
   "source": [
    "- Structure Query Language(SQL) is a database query language used for storing and managing data in Relational DBMS."
   ]
  },
  {
   "cell_type": "markdown",
   "metadata": {
    "slideshow": {
     "slide_type": "fragment"
    }
   },
   "source": [
    "- SQL was the first commercial language introduced for E.F Codd's Relational model of database."
   ]
  },
  {
   "cell_type": "markdown",
   "metadata": {
    "slideshow": {
     "slide_type": "fragment"
    }
   },
   "source": [
    "- Now almost all RDBMS(MySql, Oracle, Infomix, Sybase, MS Access) use SQL as the standard database query language."
   ]
  },
  {
   "cell_type": "markdown",
   "metadata": {
    "slideshow": {
     "slide_type": "fragment"
    }
   },
   "source": [
    "- SQL is used to perform all types of data operations in RDBMS."
   ]
  },
  {
   "cell_type": "markdown",
   "metadata": {
    "slideshow": {
     "slide_type": "slide"
    }
   },
   "source": [
    "## SQL Command\n",
    "    - SQL defines following ways to manipulate data stored in an RDBMS there are five typs of Commands."
   ]
  },
  {
   "cell_type": "markdown",
   "metadata": {
    "slideshow": {
     "slide_type": "slide"
    }
   },
   "source": [
    "### 1. DDL: Data Definition Language"
   ]
  },
  {
   "cell_type": "markdown",
   "metadata": {
    "slideshow": {
     "slide_type": "fragment"
    }
   },
   "source": [
    "- This includes changes to the structure of the table like creation of table, altering table, deleting a table etc."
   ]
  },
  {
   "cell_type": "markdown",
   "metadata": {
    "slideshow": {
     "slide_type": "fragment"
    }
   },
   "source": [
    "- All DDL commands are auto-committed. That means it saves all the changes permanently in the database."
   ]
  },
  {
   "cell_type": "markdown",
   "metadata": {
    "slideshow": {
     "slide_type": "slide"
    }
   },
   "source": [
    "    Command           Description\n",
    "    create      :     to create new table or database\n",
    "    alter       :     for alteration\n",
    "    truncate    :     delete data from table\n",
    "    drop        :     to drop a table\n",
    "    rename      :     to rename a table"
   ]
  },
  {
   "cell_type": "markdown",
   "metadata": {
    "slideshow": {
     "slide_type": "slide"
    }
   },
   "source": [
    "### 2. DML: Data Manipulation Language"
   ]
  },
  {
   "cell_type": "markdown",
   "metadata": {
    "slideshow": {
     "slide_type": "fragment"
    }
   },
   "source": [
    "- DML commands are used for manipulating the data stored in the table and not the table itself."
   ]
  },
  {
   "cell_type": "markdown",
   "metadata": {
    "slideshow": {
     "slide_type": "fragment"
    }
   },
   "source": [
    "- DML commands are not auto-committed. It means changes are not permanent to database, they can be rolled back."
   ]
  },
  {
   "cell_type": "markdown",
   "metadata": {
    "slideshow": {
     "slide_type": "slide"
    }
   },
   "source": [
    "    Command\t         Description\n",
    "    insert          to insert a new row\n",
    "    update          to update existing row\n",
    "    delete          to delete a row\n",
    "    merge           merging two rows or two tables"
   ]
  },
  {
   "cell_type": "markdown",
   "metadata": {
    "slideshow": {
     "slide_type": "slide"
    }
   },
   "source": [
    "### 3. TCL: Transaction Control Language"
   ]
  },
  {
   "cell_type": "markdown",
   "metadata": {
    "slideshow": {
     "slide_type": "fragment"
    }
   },
   "source": [
    "- These commands are to keep a check on other commands and their affect on the database. "
   ]
  },
  {
   "cell_type": "markdown",
   "metadata": {
    "slideshow": {
     "slide_type": "fragment"
    }
   },
   "source": [
    "- These commands can annul changes made by other commands by rolling the data back to its original state. "
   ]
  },
  {
   "cell_type": "markdown",
   "metadata": {
    "slideshow": {
     "slide_type": "fragment"
    }
   },
   "source": [
    "- It can also make any temporary change permanent."
   ]
  },
  {
   "cell_type": "markdown",
   "metadata": {
    "slideshow": {
     "slide_type": "slide"
    }
   },
   "source": [
    "     Command\t               Description\n",
    "     commit                   to permanently save\n",
    "     rollback                 to undo change\n",
    "     savepoint                to save temporarily"
   ]
  },
  {
   "cell_type": "markdown",
   "metadata": {
    "slideshow": {
     "slide_type": "slide"
    }
   },
   "source": [
    "### 4. DCL: Data Control Language"
   ]
  },
  {
   "cell_type": "markdown",
   "metadata": {
    "slideshow": {
     "slide_type": "fragment"
    }
   },
   "source": [
    "- Data control language are the commands to grant and take back authority from any database user."
   ]
  },
  {
   "cell_type": "markdown",
   "metadata": {
    "slideshow": {
     "slide_type": "fragment"
    }
   },
   "source": [
    "    Command\t      Description\n",
    "    grant         grant permission of right\n",
    "    revoke        take back permission."
   ]
  },
  {
   "cell_type": "markdown",
   "metadata": {
    "slideshow": {
     "slide_type": "slide"
    }
   },
   "source": [
    "### 5. DQL: Data Query Language"
   ]
  },
  {
   "cell_type": "markdown",
   "metadata": {
    "slideshow": {
     "slide_type": "fragment"
    }
   },
   "source": [
    "- Data query language is used to fetch data from tables based on conditions that we can easily apply."
   ]
  },
  {
   "cell_type": "markdown",
   "metadata": {
    "slideshow": {
     "slide_type": "fragment"
    }
   },
   "source": [
    "    Command\t      Description\n",
    "    select\t      retrieve records from one or more table"
   ]
  },
  {
   "cell_type": "markdown",
   "metadata": {
    "slideshow": {
     "slide_type": "slide"
    }
   },
   "source": [
    "## Sql Command in Short:"
   ]
  },
  {
   "cell_type": "markdown",
   "metadata": {
    "slideshow": {
     "slide_type": "fragment"
    }
   },
   "source": [
    "                1. DDL --> Data definition Lang.\n",
    "                            Schema --> Overall structure of your table\n",
    "                            1. create\n",
    "                            2. alter --> columns update (add col, remove col, col data type change)\n",
    "                            3. drop --> Data delete and table delete \n",
    "                            4. truncate --> data delete \n",
    "                            5. rename\n",
    "                            6. comment\n",
    "                            \n",
    "                2. DML --> Data Manipulation Lang.\n",
    "                            1. insert\n",
    "                            2. update --> to change data\n",
    "                            3. delete --> delete particular row\n",
    "                            \n",
    "                3. DCL --> Data Control Lang.\n",
    "                            1. Grant (to give permissions)  \n",
    "                            2. Revoke (to take back permissions)\n",
    "                            SELECT, INSERT --> take back\n",
    "                            \n",
    "                4. TCL --> Transaction Control Lang.\n",
    "                            1. commit --> permanently save the data\n",
    "                            2. savepoint \n",
    "                            3. rollback\n",
    "                            \n",
    "                5. DQL --> Data Quary Language.\n",
    "                            1. Select "
   ]
  },
  {
   "cell_type": "markdown",
   "metadata": {
    "slideshow": {
     "slide_type": "slide"
    }
   },
   "source": [
    "### Entity Relationship Diagram"
   ]
  },
  {
   "cell_type": "markdown",
   "metadata": {
    "slideshow": {
     "slide_type": "fragment"
    }
   },
   "source": [
    "- ER Diagram is a visual representation of data that describes how data is related to each other."
   ]
  },
  {
   "cell_type": "markdown",
   "metadata": {
    "slideshow": {
     "slide_type": "fragment"
    }
   },
   "source": [
    "- In ER Model, we disintegrate data into entities, attributes and setup relationships between entities, all this can be represented visually using the ER diagram."
   ]
  },
  {
   "cell_type": "markdown",
   "metadata": {
    "slideshow": {
     "slide_type": "slide"
    }
   },
   "source": [
    "### Components of ER Diagram\n",
    "<img src='https://drive.google.com/uc?id=1jxC9Um28WUMUVC29SZpc6CfDhb6UeYp1' height=500 width=800> "
   ]
  },
  {
   "cell_type": "markdown",
   "metadata": {
    "slideshow": {
     "slide_type": "slide"
    }
   },
   "source": [
    "### Symbols of ER Diagram\n",
    "<img src='https://drive.google.com/uc?id=1jhIcSnvlMc7sd9QuitfVm53EE7BRJ0tz' height=500 width=800> "
   ]
  },
  {
   "cell_type": "markdown",
   "metadata": {
    "slideshow": {
     "slide_type": "slide"
    }
   },
   "source": [
    "### Comapany ER-Diagram Example \n",
    "<img src='https://drive.google.com/uc?id=1XfRmabjW2W8lrNKgIGkrxPmCnta5TEOX' height=500 width=800> "
   ]
  },
  {
   "cell_type": "code",
   "execution_count": null,
   "metadata": {
    "slideshow": {
     "slide_type": "slide"
    }
   },
   "outputs": [],
   "source": [
    "### Do it YourSelf \n",
    "# Ques:\n",
    "    An ________ is a set of entities of the same type that share the same properties, or attributes.\n",
    "\n",
    "# Options\n",
    "    a) Entity set\n",
    "    b) Attribute set\n",
    "    c) Relation set\n",
    "    d) Entity model"
   ]
  },
  {
   "cell_type": "code",
   "execution_count": null,
   "metadata": {
    "slideshow": {
     "slide_type": "slide"
    }
   },
   "outputs": [],
   "source": [
    "# Ques:\n",
    "    Which of the following can be a multivalued attribute?\n",
    "    \n",
    "# Options\n",
    "    a) Phone_number\n",
    "    b) Name\n",
    "    c) Date_of_birth\n",
    "    d) All of the mentioned"
   ]
  },
  {
   "cell_type": "code",
   "execution_count": null,
   "metadata": {
    "slideshow": {
     "slide_type": "slide"
    }
   },
   "outputs": [],
   "source": [
    "# Ques:\n",
    "    Which of the following is a single valued attribute.\n",
    "\n",
    "# Options\n",
    "    a) Register_number\n",
    "    b) Address\n",
    "    c) SUBJECT_TAKEN\n",
    "    d) Reference"
   ]
  },
  {
   "cell_type": "code",
   "execution_count": null,
   "metadata": {
    "slideshow": {
     "slide_type": "slide"
    }
   },
   "outputs": [],
   "source": [
    "# Ques:\n",
    "    Which one of the following is a set of one or more attributes taken collectively to uniquely identify a record?\n",
    "    \n",
    "# Options\n",
    "    a) Candidate key\n",
    "    b) Sub key\n",
    "    c) Super key\n",
    "    d) Foreign key"
   ]
  },
  {
   "cell_type": "code",
   "execution_count": null,
   "metadata": {
    "slideshow": {
     "slide_type": "slide"
    }
   },
   "outputs": [],
   "source": [
    "# Ques:\n",
    "    Consider attributes ID, CITY and NAME. Which one of this can be considered as a super key?\n",
    "    \n",
    "# Options\n",
    "    a) NAME\n",
    "    b) ID\n",
    "    c) CITY\n",
    "    d) CITY, ID"
   ]
  },
  {
   "cell_type": "code",
   "execution_count": null,
   "metadata": {
    "slideshow": {
     "slide_type": "slide"
    }
   },
   "outputs": [],
   "source": [
    "# Ques:\n",
    "    The entity relationship set is represented in E-R diagram as?\n",
    "\n",
    "# Options\n",
    "    a) Double diamonds\n",
    "    b) Undivided rectangles\n",
    "    c) Dashed lines\n",
    "    d) Diamond"
   ]
  },
  {
   "cell_type": "code",
   "execution_count": null,
   "metadata": {
    "slideshow": {
     "slide_type": "slide"
    }
   },
   "outputs": [],
   "source": [
    "# Ques:\n",
    "    We indicate roles in E-R diagrams by labeling the lines that connect ___________ to __________\n",
    "    \n",
    "# Options\n",
    "    a) Diamond , diamond\n",
    "    b) Rectangle, diamond\n",
    "    c) Rectangle, rectangle\n",
    "    d) Diamond, rectangle"
   ]
  },
  {
   "cell_type": "code",
   "execution_count": null,
   "metadata": {
    "slideshow": {
     "slide_type": "slide"
    }
   },
   "outputs": [],
   "source": [
    "## All Answers:     ## line by line\n",
    "a, a, a, b, b, d, d"
   ]
  }
 ],
 "metadata": {
  "celltoolbar": "Slideshow",
  "kernelspec": {
   "display_name": "Python 3",
   "language": "python",
   "name": "python3"
  },
  "language_info": {
   "codemirror_mode": {
    "name": "ipython",
    "version": 3
   },
   "file_extension": ".py",
   "mimetype": "text/x-python",
   "name": "python",
   "nbconvert_exporter": "python",
   "pygments_lexer": "ipython3",
   "version": "3.7.3"
  }
 },
 "nbformat": 4,
 "nbformat_minor": 2
}
