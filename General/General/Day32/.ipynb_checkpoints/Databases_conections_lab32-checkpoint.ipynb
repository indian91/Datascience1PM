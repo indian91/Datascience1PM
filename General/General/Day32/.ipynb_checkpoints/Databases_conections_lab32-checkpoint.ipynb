{
 "cells": [
  {
   "cell_type": "markdown",
   "metadata": {
    "slideshow": {
     "slide_type": "slide"
    }
   },
   "source": [
    "## MySQL Database Access"
   ]
  },
  {
   "cell_type": "markdown",
   "metadata": {
    "slideshow": {
     "slide_type": "fragment"
    }
   },
   "source": [
    "- The Python standard for database interfaces is the Python DB-API. "
   ]
  },
  {
   "cell_type": "markdown",
   "metadata": {
    "slideshow": {
     "slide_type": "fragment"
    }
   },
   "source": [
    "- Most Python database interfaces adhere to this standard."
   ]
  },
  {
   "cell_type": "markdown",
   "metadata": {
    "slideshow": {
     "slide_type": "fragment"
    }
   },
   "source": [
    "- You can choose the right database for your application. "
   ]
  },
  {
   "cell_type": "markdown",
   "metadata": {
    "slideshow": {
     "slide_type": "slide"
    }
   },
   "source": [
    "- Python Database API supports a wide range of database servers such as −"
   ]
  },
  {
   "cell_type": "markdown",
   "metadata": {
    "slideshow": {
     "slide_type": "fragment"
    }
   },
   "source": [
    "1.  GadFly\n",
    "2.  mSQL\n",
    "3.  MySQL\n",
    "4.  PostgreSQL\n",
    "5.  Microsoft SQL Server 2000\n",
    "6.  Informix\n",
    "7.  Interbase\n",
    "8.  Oracle\n",
    "9.  Sybase\n",
    "10. SQLite"
   ]
  },
  {
   "cell_type": "markdown",
   "metadata": {
    "slideshow": {
     "slide_type": "slide"
    }
   },
   "source": [
    "- Python Database Interfaces and APIs. You must download a separate DB API module for each database you need to access."
   ]
  },
  {
   "cell_type": "markdown",
   "metadata": {
    "slideshow": {
     "slide_type": "fragment"
    }
   },
   "source": [
    "- For example, if you need to access an Oracle database as well as a MySQL database, you must download both the Oracle and the MySQL database modules."
   ]
  },
  {
   "cell_type": "markdown",
   "metadata": {
    "slideshow": {
     "slide_type": "slide"
    }
   },
   "source": [
    "- The DB API provides a minimal standard for working with databases using Python structures and syntax wherever possible. This API includes the following −\n",
    "\n",
    "    - Importing the API module.\n",
    "    - Acquiring a connection with the database.\n",
    "    - Issuing SQL statements and stored procedures.\n",
    "    - Closing the connection"
   ]
  },
  {
   "cell_type": "markdown",
   "metadata": {
    "slideshow": {
     "slide_type": "fragment"
    }
   },
   "source": [
    "- Python has an in-built support for SQLite."
   ]
  },
  {
   "cell_type": "markdown",
   "metadata": {
    "slideshow": {
     "slide_type": "slide"
    }
   },
   "source": [
    "**Note: First Learn About PyMySQL then sqlite3, sqlalchemy.**"
   ]
  },
  {
   "cell_type": "markdown",
   "metadata": {
    "slideshow": {
     "slide_type": "slide"
    }
   },
   "source": [
    "### What is PyMySQL ?"
   ]
  },
  {
   "cell_type": "markdown",
   "metadata": {
    "slideshow": {
     "slide_type": "fragment"
    }
   },
   "source": [
    "- PyMySQL is an interface for connecting to a MySQL database server from Python."
   ]
  },
  {
   "cell_type": "markdown",
   "metadata": {
    "slideshow": {
     "slide_type": "fragment"
    }
   },
   "source": [
    "- It implements the Python Database API v2.0 and contains a pure-Python MySQL client library."
   ]
  },
  {
   "cell_type": "markdown",
   "metadata": {
    "slideshow": {
     "slide_type": "fragment"
    }
   },
   "source": [
    "- The goal of PyMySQL is to be a drop-in replacement for MySQLdb."
   ]
  },
  {
   "cell_type": "markdown",
   "metadata": {
    "slideshow": {
     "slide_type": "slide"
    }
   },
   "source": [
    "### Install PyMySQL?"
   ]
  },
  {
   "cell_type": "code",
   "execution_count": null,
   "metadata": {
    "slideshow": {
     "slide_type": "fragment"
    }
   },
   "outputs": [],
   "source": [
    "pip install pymysql    ### Command for installing PyMySQL --> In shell"
   ]
  },
  {
   "cell_type": "markdown",
   "metadata": {
    "slideshow": {
     "slide_type": "slide"
    }
   },
   "source": [
    "### Connecting to MySQL\n",
    "- The proper way to get an instance of this class is to call connect() method. This method establishes a connection to the MySQL database and accepts several arguments:"
   ]
  },
  {
   "cell_type": "markdown",
   "metadata": {
    "slideshow": {
     "slide_type": "fragment"
    }
   },
   "source": [
    "#### Parameters :\n",
    "    host – Host where the database server is located\n",
    "    user – Username to log in as\n",
    "    password – Password to use.\n",
    "    database – Database to use, None to not use a particular one.\n",
    "    port – MySQL port to use, default is usually OK. (default: 3306)"
   ]
  },
  {
   "cell_type": "code",
   "execution_count": 4,
   "metadata": {
    "slideshow": {
     "slide_type": "slide"
    }
   },
   "outputs": [],
   "source": [
    "# To connect MySQL database\n",
    "## import pymysql liraries\n",
    "import pymysql\n",
    "\n",
    "# Open database connection\n",
    "conn = pymysql.connect( \n",
    "    host='localhost', \n",
    "    user='root',  \n",
    "    password = \"123\", \n",
    "    db='student',     ## You need to create student table\n",
    "    ) \n",
    "\n",
    "# prepare a cursor object using cursor() method\n",
    "db = conn.cursor() \n",
    "\n",
    "# Select query \n",
    "db.execute(\"select * from STUDENT\") \n",
    "\n",
    "## Fetch all the code from cur\n",
    "output = db.fetchall() \n",
    "      \n",
    "for i in output: \n",
    "    print(i) \n",
    "    \n",
    "# To close the connection\n",
    "conn.close() \n",
    "\n",
    "\"\"\"Note: You can do all the this which is you can do in the Mysql. You need to write the your querie inside the execute()\n",
    "method and it will execute you quesries\"\"\""
   ]
  },
  {
   "cell_type": "markdown",
   "metadata": {
    "slideshow": {
     "slide_type": "slide"
    }
   },
   "source": [
    "### Creating Database Table"
   ]
  },
  {
   "cell_type": "markdown",
   "metadata": {
    "slideshow": {
     "slide_type": "fragment"
    }
   },
   "source": [
    "- Once a database connection is established, we are ready to create tables or records into the database tables using execute method of the created cursor."
   ]
  },
  {
   "cell_type": "markdown",
   "metadata": {
    "slideshow": {
     "slide_type": "slide"
    }
   },
   "source": [
    "### INSERT Operation"
   ]
  },
  {
   "cell_type": "markdown",
   "metadata": {
    "slideshow": {
     "slide_type": "fragment"
    }
   },
   "source": [
    "- The INSERT Operation is required when you want to create your records into a database table."
   ]
  },
  {
   "cell_type": "code",
   "execution_count": 7,
   "metadata": {
    "slideshow": {
     "slide_type": "slide"
    }
   },
   "outputs": [
    {
     "name": "stderr",
     "output_type": "stream",
     "text": [
      "C:\\Users\\91911\\Anaconda3\\lib\\site-packages\\pymysql\\cursors.py:170: Warning: (1051, \"Unknown table 'student.employee'\")\n",
      "  result = self._query(query)\n"
     ]
    }
   ],
   "source": [
    "# Open database connection\n",
    "conn = pymysql.connect( \n",
    "    host='localhost', \n",
    "    user='root',  \n",
    "    password = \"123\", \n",
    "    db='student',     ## You need to create student table\n",
    "    ) \n",
    "# prepare a cursor object using cursor() method\n",
    "db = conn.cursor()\n",
    "\n",
    "# Drop table if it already exist using execute() method.\n",
    "db.execute(\"DROP TABLE IF EXISTS EMPLOYEE\")\n",
    "\n",
    "# Create table as per requirement\n",
    "sql = \"\"\"CREATE TABLE EMPLOYEE (\n",
    "   FIRST_NAME  CHAR(20) NOT NULL,\n",
    "   LAST_NAME  CHAR(20),\n",
    "   AGE INT,  \n",
    "   SEX CHAR(1),\n",
    "   INCOME FLOAT )\"\"\"\n",
    "\n",
    "# Select query \n",
    "db.execute(sql)\n",
    "\n",
    "# Prepare SQL query to INSERT a record into the database.\n",
    "sql = \"\"\"INSERT INTO EMPLOYEE(FIRST_NAME,\n",
    "   LAST_NAME, AGE, SEX, INCOME)\n",
    "   VALUES ('Mac', 'Mohan', 20, 'M', 2000)\"\"\"\n",
    "\n",
    "try:\n",
    "   # Execute the SQL command\n",
    "   db.execute(sql)\n",
    "   # Commit your changes in the database\n",
    "   conn.commit()\n",
    "except:\n",
    "   # Rollback in case there is any error\n",
    "   conn.rollback()  \n",
    "\n",
    "# disconnect from server\n",
    "conn.close()\n",
    "\n",
    "\n",
    "# Output:  # you can check in shell. \n",
    "\"\"\"\n",
    "MariaDB [student]> desc employee;\n",
    "+------------+----------+------+-----+---------+-------+\n",
    "| Field      | Type     | Null | Key | Default | Extra |\n",
    "+------------+----------+------+-----+---------+-------+\n",
    "| FIRST_NAME | char(20) | NO   |     | NULL    |       |\n",
    "| LAST_NAME  | char(20) | YES  |     | NULL    |       |\n",
    "| AGE        | int(11)  | YES  |     | NULL    |       |\n",
    "| SEX        | char(1)  | YES  |     | NULL    |       |\n",
    "| INCOME     | float    | YES  |     | NULL    |       |\n",
    "+------------+----------+------+-----+---------+-------+\n",
    "5 rows in set (0.00 sec)\n",
    "\n",
    "MariaDB [student]> select * from employee;\n",
    "+------------+-----------+------+------+--------+\n",
    "| FIRST_NAME | LAST_NAME | AGE  | SEX  | INCOME |\n",
    "+------------+-----------+------+------+--------+\n",
    "| Mac        | Mohan     |   20 | M    |   2000 |\n",
    "+------------+-----------+------+------+--------+\n",
    "1 row in set (0.00 sec)\n",
    "\"\"\""
   ]
  },
  {
   "cell_type": "markdown",
   "metadata": {
    "slideshow": {
     "slide_type": "slide"
    }
   },
   "source": [
    "### READ Operation"
   ]
  },
  {
   "cell_type": "markdown",
   "metadata": {
    "slideshow": {
     "slide_type": "fragment"
    }
   },
   "source": [
    "- READ Operation on any database means to fetch some useful information from the database."
   ]
  },
  {
   "cell_type": "markdown",
   "metadata": {
    "slideshow": {
     "slide_type": "fragment"
    }
   },
   "source": [
    "- Once the database connection is established, you are ready to make a query into this database. You can use either fetchone() method to fetch a single record or fetchall() method to fetch multiple values from a database table."
   ]
  },
  {
   "cell_type": "markdown",
   "metadata": {
    "slideshow": {
     "slide_type": "subslide"
    }
   },
   "source": [
    "1. fetchone() − It fetches the next row of a query result set. A result set is an object that is returned when a cursor object is used to query a table.\n",
    "\n",
    "2. fetchall() − It fetches all the rows in a result set. If some rows have already been extracted from the result set, then it retrieves the remaining rows from the result set.\n",
    "\n",
    "**rowcount − This is a read-only attribute and returns the number of rows that were affected by an execute() method.**"
   ]
  },
  {
   "cell_type": "markdown",
   "metadata": {
    "slideshow": {
     "slide_type": "slide"
    }
   },
   "source": [
    "### Update Operation"
   ]
  },
  {
   "cell_type": "markdown",
   "metadata": {
    "slideshow": {
     "slide_type": "fragment"
    }
   },
   "source": [
    "- UPDATE Operation on any database means to update one or more records, which are already available in the database.\n",
    "- The following procedure updates all the records having SEX as 'M'. Here, we increase the AGE of all the males by one year."
   ]
  },
  {
   "cell_type": "code",
   "execution_count": 9,
   "metadata": {
    "slideshow": {
     "slide_type": "slide"
    }
   },
   "outputs": [
    {
     "name": "stdout",
     "output_type": "stream",
     "text": [
      "Before Updation :\n",
      "('Mac', 'Mohan', 20, 'M', 2000.0)\n",
      "After Updation :\n",
      "('Mac', 'Mohan', 21, 'M', 2000.0)\n"
     ]
    }
   ],
   "source": [
    "# Open database connection\n",
    "conn = pymysql.connect( \n",
    "    host='localhost', \n",
    "    user='root',  \n",
    "    password = \"123\", \n",
    "    db='student',     ## You need to create student table\n",
    "    ) \n",
    "# prepare a cursor object using cursor() method\n",
    "db = conn.cursor()\n",
    "\n",
    "print(\"Before Updation :\")\n",
    "# Select query \n",
    "db.execute(\"select * from EMPLOYEE\") \n",
    "\n",
    "## Fetch all the code from cur\n",
    "output = db.fetchall() \n",
    "      \n",
    "for i in output: \n",
    "    print(i)\n",
    "\n",
    "# Prepare SQL query to UPDATE required records\n",
    "sql = \"UPDATE EMPLOYEE SET AGE = AGE + 1 WHERE SEX = '%c'\" % ('M')\n",
    "    \n",
    "print(\"After Updation :\")\n",
    "try:\n",
    "   # Execute the SQL command\n",
    "   db.execute(sql)\n",
    "   # Commit your changes in the database\n",
    "   conn.commit()\n",
    "except:\n",
    "   # Rollback in case there is any error\n",
    "   conn.rollback()\n",
    "     \n",
    "# Select query \n",
    "db.execute(\"select * from EMPLOYEE\") \n",
    "\n",
    "## Fetch all the code from cur\n",
    "output = db.fetchall() \n",
    "      \n",
    "for i in output: \n",
    "    print(i) \n",
    "    \n",
    "# disconnect from server\n",
    "conn.close()"
   ]
  },
  {
   "cell_type": "markdown",
   "metadata": {
    "slideshow": {
     "slide_type": "slide"
    }
   },
   "source": [
    "## SQLite in Python"
   ]
  },
  {
   "cell_type": "markdown",
   "metadata": {
    "slideshow": {
     "slide_type": "fragment"
    }
   },
   "source": [
    "- To use SQLite, we must import sqlite3."
   ]
  },
  {
   "cell_type": "markdown",
   "metadata": {
    "slideshow": {
     "slide_type": "fragment"
    }
   },
   "source": [
    "- Then create a connection using connect() method and pass the name of the database you want to access if there is a file with that name, it will open that file. Otherwise, Python will create a file with the given name."
   ]
  },
  {
   "cell_type": "markdown",
   "metadata": {
    "slideshow": {
     "slide_type": "fragment"
    }
   },
   "source": [
    "- After this, a cursor object is called to be capable to send commands to the SQL. Cursor is a control structure used to traverse and fetch the records of the database. Cursor has a major role in working with Python. All the commands will be executed using cursor object only."
   ]
  },
  {
   "cell_type": "markdown",
   "metadata": {
    "slideshow": {
     "slide_type": "slide"
    }
   },
   "source": [
    "- To create a table in the database, create an object and write the SQL command in it with being commented. Example:- sql_comm = ”SQL statement”"
   ]
  },
  {
   "cell_type": "markdown",
   "metadata": {
    "slideshow": {
     "slide_type": "fragment"
    }
   },
   "source": [
    "- And executing the command is very easy. Call the cursor method execute and pass the name of the sql command as a parameter in it. Save a number of commands as the sql_comm and execute them. After you perform all your activities, save the changes in the file by committing those changes and then lose the connection."
   ]
  },
  {
   "cell_type": "code",
   "execution_count": 14,
   "metadata": {
    "slideshow": {
     "slide_type": "slide"
    }
   },
   "outputs": [
    {
     "name": "stdout",
     "output_type": "stream",
     "text": [
      "[(1, 'Bill', 'Gates', 'M', '1980-10-28'), (23, 'Rishabh', 'Bansal', 'M', '2014-03-28')]\n"
     ]
    }
   ],
   "source": [
    "# Python code to demonstrate table creation and \n",
    "# insertions with SQL \n",
    "\n",
    "# importing module \n",
    "import sqlite3 \n",
    "\n",
    "# connecting to the database \n",
    "connection = sqlite3.connect(\"student.db\") \n",
    "\n",
    "# cursor \n",
    "crsr = connection.cursor() \n",
    "\n",
    "# SQL command to create a table in the database \n",
    "sql_command = \"\"\"CREATE TABLE emp( \n",
    "staff_number INTEGER PRIMARY KEY, \n",
    "fname VARCHAR(20), \n",
    "lname VARCHAR(30), \n",
    "gender CHAR(1), \n",
    "joining DATE);\"\"\"\n",
    "\n",
    "# execute the statement \n",
    "crsr.execute(sql_command) \n",
    "\n",
    "# SQL command to insert the data in the table \n",
    "sql_command = \"\"\"INSERT INTO emp VALUES (23, \"Rishabh\", \"Bansal\", \"M\", \"2014-03-28\");\"\"\"\n",
    "crsr.execute(sql_command) \n",
    "\n",
    "# another SQL command to insert the data in the table \n",
    "sql_command = \"\"\"INSERT INTO emp VALUES (1, \"Bill\", \"Gates\", \"M\", \"1980-10-28\");\"\"\"\n",
    "crsr.execute(sql_command) \n",
    "\n",
    "# execute the command to fetch all the data from the table emp \n",
    "crsr.execute(\"SELECT * FROM emp\")\n",
    "\n",
    "## Fetch all the code from cur\n",
    "output = crsr.fetchall() \n",
    "print(output)\n",
    "\n",
    "# To save the changes in the files. Never skip this. \n",
    "# If we skip this, nothing will be saved in the database. \n",
    "connection.commit() \n",
    "\n",
    "# close the connection \n",
    "connection.close() \n",
    "\n",
    "# Note: All updation, deletion is same like PyMySQL."
   ]
  },
  {
   "cell_type": "code",
   "execution_count": null,
   "metadata": {
    "slideshow": {
     "slide_type": "slide"
    }
   },
   "outputs": [],
   "source": [
    "### Do it YourSelf       ## for this task you can use any database like sqllite, pymysql..\n",
    "\n",
    "# Ques:\n",
    "    Your task is to create these tables using the python notebook. You have 4 tables is given which is connected from \n",
    "    each other.\n",
    "    Primary keys: sid, fid, ph_no, addr_id\n",
    "    Foreign keys: sid in fees table, sid in address.\n",
    "        \n",
    "Output:\n",
    "    Print all the table.\n",
    "    \n",
    "Student Table:\n",
    "+------+--------+------------+-------------------------+\n",
    "| sid  | name   | ph_no      | email                   |\n",
    "+------+--------+------------+-------------------------+\n",
    "| 1001 | sachin | 9782131159 | sachin@grras.com        |\n",
    "| 1002 | kushal | 1234323456 | kushal.samota@grras.com |\n",
    "| 1003 | rajat  | 8923342334 | rajat.goyal@gmail.com   |\n",
    "| 1004 | ravi   | 9782123432 | ravi.sarswat@gmail.com  |\n",
    "| 1005 | gaurav | 992334561  | gaurav.saluja@gmai.com  |\n",
    "| 1006 | nidhi  | 9912345678 | nidhi.sharma@yahoo.com  |\n",
    "| 1007 | aman   | 9748654899 | aman@grras.com          |\n",
    "+------+--------+------------+-------------------------+\n",
    "\n",
    "Fees Table:\n",
    "+-----+------+------+-------+----------+\n",
    "| fid | sid  | due  | fees  | discount |\n",
    "+-----+------+------+-------+----------+\n",
    "|   1 | 1001 | 3500 | 15000 |     2000 |\n",
    "|   2 | 1002 | 5000 | 20000 |        0 |\n",
    "|   3 | 1003 | 4300 | 15000 |     2000 |\n",
    "|   4 | 1004 | 2700 | 18000 |     1000 |\n",
    "|   5 | 1005 | 3500 | 16000 |     3000 |\n",
    "|   6 | 1006 | 4000 | 25000 |     3500 |\n",
    "+-----+------+------+-------+----------+\n",
    "\n",
    "\n",
    "Fees Status:\n",
    "+--------+------------+------+-------+\n",
    "| name   | ph_no      | due  | fees  |\n",
    "+--------+------------+------+-------+\n",
    "| kushal | 1234323456 | 5000 | 20000 |\n",
    "| rajat  | 8923342334 | 4300 | 15000 |\n",
    "| nidhi  | 9912345678 | 4000 | 25000 |\n",
    "+--------+------------+------+-------+\n",
    "\n",
    "\n",
    "Address:\n",
    "+---------+------+----------+-----------------+--------------------+------------------+---------+-----------+---------+---------+\n",
    "| addr_id | sid  | house_no | street          | area               | land_marks       | city    | state     | country | pincode |\n",
    "+---------+------+----------+-----------------+--------------------+------------------+---------+-----------+---------+---------+\n",
    "|       1 | 1001 | c-54     | kana vihar      | ayodhya nagar      | behid ram mandir | jaipur  | rajasthan | india   |  302021 |\n",
    "|       2 | 1002 | 112/23   |                 | near main market   |                  | udaipur | rajasthan | india   |  313001 |\n",
    "|       3 | 1003 | d-112    | near om garden  | jayanti road       |                  | jaipur  | rajasthan | india   |  302026 |\n",
    "|       4 | 1004 | k-12     | gyan vihar      | near gt road       |                  | jaipur  | rajasthan | india   |  302024 |\n",
    "|       5 | 1005 | k-12     |                 | behid kiran sweets | himmat nagar     | jaipur  | rajasthan | india   |  302026 |\n",
    "|       6 | 1006 | c-56     | mansorvar plaza |                    |                  | kaipur  | rajasthan | india   |  313001 |\n",
    "+---------+------+----------+-----------------+--------------------+------------------+---------+-----------+---------+---------+\n"
   ]
  },
  {
   "cell_type": "code",
   "execution_count": null,
   "metadata": {
    "slideshow": {
     "slide_type": "slide"
    }
   },
   "outputs": [],
   "source": [
    "### Questions: \n",
    "    All the queries perform using the python notbook and print the answer as output.\n",
    "    \n",
    "    Ques1. Perfrom left join between student table and address using the common key(foreign keys).\n",
    "    Ques2. Write a query to fetch the stu_Name from the Student table in upper case and use the ALIAS name as stu_Name.\n",
    "    Ques3. Write a query to fetch the number of student whose fees is greater then 15000 in the Fees Table.\n",
    "    Ques4. Write a query to find all the student name,email_id whose city name is Jaipur.\n",
    "    Ques5. Write a query to fetch the Student Names by due fees table sorted by in ascending order."
   ]
  }
 ],
 "metadata": {
  "celltoolbar": "Slideshow",
  "kernelspec": {
   "display_name": "Python 3",
   "language": "python",
   "name": "python3"
  },
  "language_info": {
   "codemirror_mode": {
    "name": "ipython",
    "version": 3
   },
   "file_extension": ".py",
   "mimetype": "text/x-python",
   "name": "python",
   "nbconvert_exporter": "python",
   "pygments_lexer": "ipython3",
   "version": "3.7.3"
  }
 },
 "nbformat": 4,
 "nbformat_minor": 2
}
