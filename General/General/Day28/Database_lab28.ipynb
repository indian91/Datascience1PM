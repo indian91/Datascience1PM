{
 "cells": [
  {
   "cell_type": "markdown",
   "metadata": {
    "slideshow": {
     "slide_type": "slide"
    }
   },
   "source": [
    "### What is Data?"
   ]
  },
  {
   "cell_type": "markdown",
   "metadata": {
    "slideshow": {
     "slide_type": "fragment"
    }
   },
   "source": [
    "- Data is nothing but facts and statistics stored or free flowing over a network, generally it's raw and unprocessed."
   ]
  },
  {
   "cell_type": "markdown",
   "metadata": {
    "slideshow": {
     "slide_type": "fragment"
    }
   },
   "source": [
    "- For example: When you visit any website, they might store you IP address, that is data, in return they might add a cookie in your browser, marking you that you visited the website, that is data."
   ]
  },
  {
   "cell_type": "markdown",
   "metadata": {
    "slideshow": {
     "slide_type": "slide"
    }
   },
   "source": [
    "### What is Informations?"
   ]
  },
  {
   "cell_type": "markdown",
   "metadata": {
    "slideshow": {
     "slide_type": "fragment"
    }
   },
   "source": [
    "- Data becomes information when it is processed, turning it into something meaningful. Like, based on the cookie data saved on user's browser"
   ]
  },
  {
   "cell_type": "markdown",
   "metadata": {
    "slideshow": {
     "slide_type": "slide"
    }
   },
   "source": [
    "### What is a Database?"
   ]
  },
  {
   "cell_type": "markdown",
   "metadata": {
    "slideshow": {
     "slide_type": "fragment"
    }
   },
   "source": [
    "- A Database is a collection of related data organised in a way that data can be easily accessed, managed and updated. "
   ]
  },
  {
   "cell_type": "markdown",
   "metadata": {
    "slideshow": {
     "slide_type": "fragment"
    }
   },
   "source": [
    "- Database can be software based or hardware based, with one sole purpose, storing data."
   ]
  },
  {
   "cell_type": "markdown",
   "metadata": {
    "slideshow": {
     "slide_type": "fragment"
    }
   },
   "source": [
    "- Larry Ellison, the co-founder of Oracle was amongst the first few, who realised the need for a software based Database Management System."
   ]
  },
  {
   "cell_type": "markdown",
   "metadata": {
    "slideshow": {
     "slide_type": "slide"
    }
   },
   "source": [
    "### What is DBMS(Database Management System)?"
   ]
  },
  {
   "cell_type": "markdown",
   "metadata": {
    "slideshow": {
     "slide_type": "fragment"
    }
   },
   "source": [
    "- A DBMS is a software that allows creation, definition and manipulation of database, allowing users to store, process and analyse data easily."
   ]
  },
  {
   "cell_type": "markdown",
   "metadata": {
    "slideshow": {
     "slide_type": "fragment"
    }
   },
   "source": [
    "- DBMS provides us with an interface or a tool, to perform various operations like creating database, storing data in it, updating data, creating tables in the database and a lot more."
   ]
  },
  {
   "cell_type": "markdown",
   "metadata": {
    "slideshow": {
     "slide_type": "fragment"
    }
   },
   "source": [
    "- DBMS also provides protection and security to the databases. "
   ]
  },
  {
   "cell_type": "markdown",
   "metadata": {
    "slideshow": {
     "slide_type": "fragment"
    }
   },
   "source": [
    "- It also maintains data consistency in case of multiple users."
   ]
  },
  {
   "cell_type": "markdown",
   "metadata": {
    "slideshow": {
     "slide_type": "slide"
    }
   },
   "source": [
    "- Here are some examples of popular DBMS used these days:\n",
    "    1. MySql\n",
    "    2. Oracle\n",
    "    3. SQL Server\n",
    "    4. IBM DB2\n",
    "    5. PostgreSQL\n",
    "    6. Amazon SimpleDB (cloud based) etc."
   ]
  },
  {
   "cell_type": "markdown",
   "metadata": {
    "slideshow": {
     "slide_type": "slide"
    }
   },
   "source": [
    "### File Handling vs Database"
   ]
  },
  {
   "cell_type": "markdown",
   "metadata": {
    "slideshow": {
     "slide_type": "fragment"
    }
   },
   "source": [
    "<img src='https://drive.google.com/uc?id=1IDaTg9ac8Ge0IpLMFyGnjuPp4N5j-LLB' height=500 width=800> "
   ]
  },
  {
   "cell_type": "markdown",
   "metadata": {
    "slideshow": {
     "slide_type": "slide"
    }
   },
   "source": [
    "### Characteristics of Database Management System"
   ]
  },
  {
   "cell_type": "markdown",
   "metadata": {
    "slideshow": {
     "slide_type": "fragment"
    }
   },
   "source": [
    "- A database management system has following characteristics:"
   ]
  },
  {
   "cell_type": "markdown",
   "metadata": {
    "slideshow": {
     "slide_type": "slide"
    }
   },
   "source": [
    "- Data stored into Tables:\n",
    "    - Data is never directly stored into the database. Data is stored into tables, created inside the database. DBMS also allows to have relationships between tables which makes the data more meaningful and connected. You can easily understand what type of data is stored where by looking at all the tables created in a database.\n"
   ]
  },
  {
   "cell_type": "markdown",
   "metadata": {
    "slideshow": {
     "slide_type": "slide"
    }
   },
   "source": [
    "- Reduced Redundancy: \n",
    "    - In the modern world hard drives are very cheap, but earlier when hard drives were too expensive, unnecessary repetition of data in database was a big problem. But DBMS follows Normalisation which divides the data in such a way that repetition is minimum."
   ]
  },
  {
   "cell_type": "markdown",
   "metadata": {
    "slideshow": {
     "slide_type": "slide"
    }
   },
   "source": [
    "- Data Consistency: \n",
    "    - On Live data, i.e. data that is being continuosly updated and added, maintaining the consistency of data can become a challenge. But DBMS handles it all by itself."
   ]
  },
  {
   "cell_type": "markdown",
   "metadata": {
    "slideshow": {
     "slide_type": "slide"
    }
   },
   "source": [
    "- Support Multiple user and Concurrent Access: \n",
    "    - DBMS allows multiple users to work on it(update, insert, delete data) at the same time and still manages to maintain the data consistency."
   ]
  },
  {
   "cell_type": "markdown",
   "metadata": {
    "slideshow": {
     "slide_type": "slide"
    }
   },
   "source": [
    "- Query Language: \n",
    "    - DBMS provides users with a simple Query language, using which data can be easily fetched, inserted, deleted and updated in a database."
   ]
  },
  {
   "cell_type": "markdown",
   "metadata": {
    "slideshow": {
     "slide_type": "slide"
    }
   },
   "source": [
    "- Security:\n",
    "    - The DBMS also takes care of the security of data, protecting the data from un-authorised access. In a typical DBMS, we can create user accounts with different access permissions, using which we can easily secure our data by restricting user access.\n",
    "\n",
    "    - DBMS supports transactions, which allows us to better handle and manage data integrity in real world applications where multi-threading is extensively used."
   ]
  },
  {
   "cell_type": "markdown",
   "metadata": {
    "slideshow": {
     "slide_type": "slide"
    }
   },
   "source": [
    "### ACID Transaction Properties"
   ]
  },
  {
   "cell_type": "markdown",
   "metadata": {
    "slideshow": {
     "slide_type": "fragment"
    }
   },
   "source": [
    "    A --> Atomicity --> Either complete or nothing\n",
    "    C --> Consistency --> Changes remains same after the successfull transaction.\n",
    "    I --> Isolation --> Transactions are independent\n",
    "    D --> Durability --> if data is store permanetly then it should not change even after the failure"
   ]
  },
  {
   "cell_type": "markdown",
   "metadata": {
    "slideshow": {
     "slide_type": "slide"
    }
   },
   "source": [
    "<img src='https://drive.google.com/uc?id=1qTtrUdyWKDo87s-C8A1AdNn3b14eVoq2' height=500 width=700> "
   ]
  },
  {
   "cell_type": "markdown",
   "metadata": {
    "slideshow": {
     "slide_type": "slide"
    }
   },
   "source": [
    "### Advantages of DBMS"
   ]
  },
  {
   "cell_type": "markdown",
   "metadata": {
    "slideshow": {
     "slide_type": "fragment"
    }
   },
   "source": [
    "- Segregation of applicaion program."
   ]
  },
  {
   "cell_type": "markdown",
   "metadata": {
    "slideshow": {
     "slide_type": "fragment"
    }
   },
   "source": [
    "- Minimal data duplicacy or data redundancy."
   ]
  },
  {
   "cell_type": "markdown",
   "metadata": {
    "slideshow": {
     "slide_type": "fragment"
    }
   },
   "source": [
    "- Easy retrieval of data using the Query Language."
   ]
  },
  {
   "cell_type": "markdown",
   "metadata": {
    "slideshow": {
     "slide_type": "fragment"
    }
   },
   "source": [
    "- Reduced development time and maintainance need."
   ]
  },
  {
   "cell_type": "markdown",
   "metadata": {
    "slideshow": {
     "slide_type": "fragment"
    }
   },
   "source": [
    "- With Cloud Datacenters, we now have Database Management Systems capable of storing almost infinite data."
   ]
  },
  {
   "cell_type": "markdown",
   "metadata": {
    "slideshow": {
     "slide_type": "fragment"
    }
   },
   "source": [
    "- Seamless integration into the application programming languages which makes it very easier to add a database to almost any application or website."
   ]
  },
  {
   "cell_type": "markdown",
   "metadata": {
    "slideshow": {
     "slide_type": "slide"
    }
   },
   "source": [
    "### Disadvantages of DBMS"
   ]
  },
  {
   "cell_type": "markdown",
   "metadata": {
    "slideshow": {
     "slide_type": "fragment"
    }
   },
   "source": [
    "- It's Complexity"
   ]
  },
  {
   "cell_type": "markdown",
   "metadata": {
    "slideshow": {
     "slide_type": "fragment"
    }
   },
   "source": [
    "- Except MySQL, which is open source, licensed DBMSs are generally costly."
   ]
  },
  {
   "cell_type": "markdown",
   "metadata": {
    "slideshow": {
     "slide_type": "fragment"
    }
   },
   "source": [
    "- They are large in size."
   ]
  },
  {
   "cell_type": "markdown",
   "metadata": {
    "slideshow": {
     "slide_type": "slide"
    }
   },
   "source": [
    "### Employee Table DataBase Example"
   ]
  },
  {
   "cell_type": "markdown",
   "metadata": {
    "slideshow": {
     "slide_type": "fragment"
    }
   },
   "source": [
    "    Emp_Name      Emp_id      Emp_course           Emp_address            Phno\n",
    "    Simran          1            Python            Malviya Nagar         1234567890\n",
    "    Rajat           2            Linux             Malviya Nagar         1122334455\n",
    "    Nidhi           3            Aws               Jagatpura             1987654321\n",
    "    Manish          4            Ethical Hacking   Gopal Pura mod        8765456789\n",
    "    Shivam          5            Null              Raja Park             3458754323 "
   ]
  },
  {
   "cell_type": "markdown",
   "metadata": {
    "slideshow": {
     "slide_type": "slide"
    }
   },
   "source": [
    "### Types Of database"
   ]
  },
  {
   "cell_type": "markdown",
   "metadata": {
    "slideshow": {
     "slide_type": "fragment"
    }
   },
   "source": [
    "- Centralised database.\n",
    "- Distributed database.\n",
    "- Personal database.\n",
    "- End-user database.\n",
    "- Commercial database.\n",
    "- NoSQL database.\n",
    "- Operational database.\n",
    "- Relational database.\n",
    "- Cloud database.\n",
    "- Object-oriented database.\n",
    "- Graph database."
   ]
  },
  {
   "cell_type": "markdown",
   "metadata": {
    "slideshow": {
     "slide_type": "slide"
    }
   },
   "source": [
    "<img src='https://drive.google.com/uc?id=1UBds6d4o4zhcFQkUYp-kAQJWKA4ZtK9P' height=500 width=800> "
   ]
  },
  {
   "cell_type": "markdown",
   "metadata": {
    "slideshow": {
     "slide_type": "slide"
    }
   },
   "source": [
    "### SQL vs NoSQL"
   ]
  },
  {
   "cell_type": "markdown",
   "metadata": {
    "slideshow": {
     "slide_type": "fragment"
    }
   },
   "source": [
    "<img src='https://drive.google.com/uc?id=10RrwQV6NZPXqu9FUMFpfSYAWvwPtfDhK' height=500 width=800> "
   ]
  },
  {
   "cell_type": "markdown",
   "metadata": {
    "slideshow": {
     "slide_type": "slide"
    }
   },
   "source": [
    "1. SQL:\n",
    "    - Structured Query Language\n",
    "    - Structured --> Table format --> rows and columns\n",
    "    - Query --> Queries Put\n",
    "    - Language --> Rules, syntax\n",
    "    - RDBMS --> Relational Database Management System\n",
    "    - Eg --> MySQL, Oracle, Postgresql, mariadb, sqlite etc\n",
    "    \n",
    "    \n",
    "2. No-SQL:\n",
    "    - Non Structural Query Language\n",
    "        1.  {\n",
    "        \"id\" : 1\n",
    "        }\n",
    "        {\n",
    "        \"id\" : 2,\n",
    "        \"name\" : \"simran\"\n",
    "        }\n",
    "\n",
    "    - No Relational DBMS\n",
    "    - Eg --> MongoDB\n"
   ]
  },
  {
   "cell_type": "markdown",
   "metadata": {
    "slideshow": {
     "slide_type": "fragment"
    }
   },
   "source": [
    "<img src='https://drive.google.com/uc?id=1X45118FAYN70xLr8aio_Ou3XQloGFAIO' height=500 width=800> "
   ]
  },
  {
   "cell_type": "code",
   "execution_count": null,
   "metadata": {
    "slideshow": {
     "slide_type": "slide"
    }
   },
   "outputs": [],
   "source": [
    "### Do it YourSelf\n",
    "# Ques:\n",
    "    With regards to transaction processing, any DBMS should be capable of:\n",
    "        \n",
    "# Options\n",
    "    a. Ensuring that transactions are free from interference from other users.\n",
    "    b. Parts of a transaction are not lost due to a failure.\n",
    "    c. Transactions do not make the database inconsistent.\n",
    "    d. All of the above."
   ]
  },
  {
   "cell_type": "code",
   "execution_count": null,
   "metadata": {
    "slideshow": {
     "slide_type": "slide"
    }
   },
   "outputs": [],
   "source": [
    "# Ques:\n",
    "    Which of the following is NOT a property of database transactions?\n",
    "\n",
    "# Options\n",
    "    a. Consistency\n",
    "    b. Insulation\n",
    "    c. Atomicity\n",
    "    d. Durability"
   ]
  },
  {
   "cell_type": "code",
   "execution_count": null,
   "metadata": {
    "slideshow": {
     "slide_type": "slide"
    }
   },
   "outputs": [],
   "source": [
    "# Ques:\n",
    "    A database is an organized collection of _______ related data.\n",
    "    \n",
    "# Options\n",
    "    A). Physically\n",
    "    B). Logically\n",
    "    C). Loosely\n",
    "    D). Badly"
   ]
  },
  {
   "cell_type": "code",
   "execution_count": null,
   "metadata": {
    "slideshow": {
     "slide_type": "slide"
    }
   },
   "outputs": [],
   "source": [
    "# Ques:\n",
    "    The objectives of database management systems include:\n",
    "        \n",
    "# Options\n",
    "    A). Database Integrity\n",
    "    B). Data Integration\n",
    "    C). Availability\n",
    "    D). All"
   ]
  },
  {
   "cell_type": "code",
   "execution_count": null,
   "metadata": {
    "slideshow": {
     "slide_type": "slide"
    }
   },
   "outputs": [],
   "source": [
    "# Ques:\n",
    "    Information sharing means that:\n",
    "        \n",
    "# Options\n",
    "    A). The same information can be shared by different applications.\n",
    "    B). Information can be stored once and retrieved any number of times.\n",
    "    C). a and b\n",
    "    D). Neither a nor b"
   ]
  },
  {
   "cell_type": "code",
   "execution_count": null,
   "metadata": {
    "slideshow": {
     "slide_type": "slide"
    }
   },
   "outputs": [],
   "source": [
    "# Ques:\n",
    "    The database system is composed of four major parts:\n",
    "        \n",
    "# Options\n",
    "    A). Software, You, Me, DBA, Client\n",
    "    B). Hardware, Hard drive, Monitor, Data, User\n",
    "    C). Hardware, Software, People and Data\n",
    "    D). DBMS, Hardware, User, Programmer, Engineer"
   ]
  },
  {
   "cell_type": "code",
   "execution_count": null,
   "metadata": {
    "slideshow": {
     "slide_type": "slide"
    }
   },
   "outputs": [],
   "source": [
    "# Ques:\n",
    "    Which one of the following is an advantage of database management system approach?\n",
    "    \n",
    "# Options\n",
    "    A). Reduced security and control of the data\n",
    "    B). Increased duplication Of data.\n",
    "    C). Programs are independent of the data format\n",
    "    D). All"
   ]
  },
  {
   "cell_type": "code",
   "execution_count": null,
   "metadata": {
    "slideshow": {
     "slide_type": "slide"
    }
   },
   "outputs": [],
   "source": [
    "### All Quesion Ans: ## Line by line\n",
    "d, b, b, d, c, c, c"
   ]
  }
 ],
 "metadata": {
  "celltoolbar": "Slideshow",
  "kernelspec": {
   "display_name": "Python 3",
   "language": "python",
   "name": "python3"
  },
  "language_info": {
   "codemirror_mode": {
    "name": "ipython",
    "version": 3
   },
   "file_extension": ".py",
   "mimetype": "text/x-python",
   "name": "python",
   "nbconvert_exporter": "python",
   "pygments_lexer": "ipython3",
   "version": "3.7.3"
  }
 },
 "nbformat": 4,
 "nbformat_minor": 2
}
