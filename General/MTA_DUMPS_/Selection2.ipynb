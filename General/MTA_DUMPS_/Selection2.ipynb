{
 "cells": [
  {
   "cell_type": "code",
   "execution_count": null,
   "metadata": {
    "slideshow": {
     "slide_type": "slide"
    }
   },
   "outputs": [],
   "source": [
    "Ques: Northwind electric cars needs help updating their file system using Python code. You must create a simple file mean a manipulation program that performs the following actions.\n",
    "        \n",
    "        - Check to see if a file exists.\n",
    "        - If the file exit display its contents\n",
    "        - If the file does not exist creates a file using the specific name.\n",
    "        - Append the phase \"End of listing\" to the file\n",
    "    \n",
    "    You need to complete the code to meet the requirements.\n",
    "    \n",
    "    How should you complete the code? To the answer, search the appropriate code segment in the answer area\n",
    "    \n",
    "    NOTE: each correct section is worth 1 point\n",
    "    \n",
    "    import os \n",
    "    if # fill in the blanks:\n",
    "        file = open('myFile.txt')\n",
    "        # fill in the blanks\n",
    "        file.close()\n",
    "    file = # fill in the blanks\n",
    "    # fill in the blanks using (\"End of listing\")\n",
    "    file.close()\n",
    "        \n",
    "        \n",
    "# Ans:\n",
    "        import os \n",
    "        if os.path.isfile(\"myFile.txt\"):\n",
    "            file = open('myFile.txt')\n",
    "            print(file.read())\n",
    "            file.close()\n",
    "        file = open('myFile.txt','W')\n",
    "        file.write(\"End of listing\")\n",
    "        file.close()\n",
    "       \n",
    "        \n",
    "        \n"
   ]
  },
  {
   "cell_type": "code",
   "execution_count": null,
   "metadata": {
    "slideshow": {
     "slide_type": "slide"
    }
   },
   "outputs": [],
   "source": [
    "Ques: Tailspin Toys is building a basketball court for its employees to improve company morale.     \n",
    "      \n",
    "    You are creating a Python program that employees can use to keep track of their average score.\n",
    "        \n",
    "    The program must allow users to enter their name and current scores.The program will output the username and the user's average score.The output must meet the following requirements.\n",
    "            - The user name must be left-aligned.\n",
    "            - If the username has fewer than 20 characters, addition is space must be added to the right.\n",
    "            - The average score must have three places to the left on the decimal point and one place to the right of decimal.(XXXX)\n",
    "    How should you complete the code to answer select the appropriate code segment in the answer area.\n",
    "    \n",
    "    Note: Each correct selection is wroth one point.\n",
    "    \n",
    "    name = input('What is your name?')\n",
    "    score = 0\n",
    "    count = 0\n",
    "    sum = 0\n",
    "    while(score!=-1):\n",
    "        score = int(input(\"Enter your score: (-1 to end)\"))\n",
    "        if score==-1:\n",
    "            break\n",
    "        sum+=score\n",
    "        count+=1\n",
    "    average = sum/count\n",
    "    point(\"# fill in the blanks, your average score is: # fill in the blanks\"%(name,average))\n",
    "        \n",
    "        \n",
    "# Ans: \n",
    "    name = input('What is your name?')\n",
    "    score = 0\n",
    "    count = 0\n",
    "    sum = 0\n",
    "    while(score!=-1):\n",
    "        score = int(input(\"Enter your score: (-1 to end)\"))\n",
    "        if score==-1:\n",
    "            break\n",
    "        sum+=score\n",
    "        count+=1\n",
    "    average = sum/count\n",
    "    point(\"%-20s, your average score is: %.5f\"%(name,average))\n",
    "        \n",
    "        \n"
   ]
  },
  {
   "cell_type": "code",
   "execution_count": null,
   "metadata": {
    "slideshow": {
     "slide_type": "slide"
    }
   },
   "outputs": [],
   "source": [
    "Ques: You develop a Python application for your company.\n",
    "    You have the following code. Line numbers are included for reference only.\n",
    "    \n",
    "    01. def main(a,b,c,d):\n",
    "    02.     value = a+b*c-d\n",
    "    03.     return value\n",
    "    \n",
    "    Use the drop-down menus to select the answer choice that answers each question based on the information presented in the code segment.\n",
    "    \n",
    "    Which part of the expression will be evaluated first?              # fill in the blanks\n",
    "    Which operation will be evaluated second?                          # fill in the blanks\n",
    "    Which expression is equivalent to the expression in the function?  # fill in the blanks  \n",
    "        \n",
    "        \n",
    "# Ans:\n",
    "    Which part of the expression will be evaluated first?              b*c\n",
    "    Which operation will be evaluated second?                          addition\n",
    "    Which expression is equivalent to the expression in the function?  (a+(b*c))-d\n",
    " \n",
    "        \n",
    "        \n"
   ]
  },
  {
   "cell_type": "code",
   "execution_count": null,
   "metadata": {
    "slideshow": {
     "slide_type": "slide"
    }
   },
   "outputs": [],
   "source": [
    "Ques: You create the following program to locate a conference room and display the room name line numbers are included for the for reference only.\n",
    "        \n",
    "        01. rooms = {1:'Foyer', 2:'Conference Room'}\n",
    "        02. room = input(\"Enter the room number: \")\n",
    "        03. if not room in rooms:\n",
    "        04.     print('Rooms does not exist')\n",
    "        05. else:\n",
    "        06.     print('The room name is '+rooms[room])\n",
    "        \n",
    "        \n",
    "        Colleagues report that the program sometimes produces incorrect results.\n",
    "        You need to troubleshoot the program use our drop-down menus to select the answer choices that answer that question based on the information presented in the code segment.\n",
    "        \n",
    "        Which two data types are stored in the rooms list at LINE 01?      # fill in the blanks\n",
    "        What is the data type of room at line 2?                           # fill in the blanks\n",
    "        Why does line 3 failed to find the rooms?                          # fill in the blanks\n",
    "        \n",
    "# Ans:\n",
    "    Which two data types are stored in the rooms list at LINE 01?      bool and string\n",
    "    What is the data type of room at line 2?                           float\n",
    "    Why does line 3 failed to find the rooms?                          Mismatched data types\n",
    "  \n",
    "        \n",
    "        \n"
   ]
  },
  {
   "cell_type": "code",
   "execution_count": null,
   "metadata": {
    "slideshow": {
     "slide_type": "slide"
    }
   },
   "outputs": [],
   "source": [
    "Ques: You are an intern or Northwind Electric Cars. You must create a function that calculates the average velocity of their vehicles on a 1320 foot (1/4 mile) track. The output must be as process\n",
    "        as possible.\n",
    "        \n",
    "    How should you complete the code? To answer select the appropriate code segment in the answer area.\n",
    "    \n",
    "    # speed calculator \n",
    "    distance = # fill in the blanks (input(\"Enter the distance traveled in feet\"))\n",
    "    distance_miles = distance/5200 # convert to miles\n",
    "    time = # fill in the blanks (input(\"Enter the time elapsed in seconds\"))\n",
    "    time_hours = time/3600 #convert to hours\n",
    "    velocity = distance_miles/time_hours\n",
    "    print('The average velocity is: ', velocity, \" miles/hour\")\n",
    "        \n",
    "# Ans: \n",
    "    # speed calculator \n",
    "    distance = float(input(\"Enter the distance traveled in feet\"))\n",
    "    distance_miles = distance/5200 # convert to miles\n",
    "    time = int(input(\"Enter the time elapsed in seconds\"))\n",
    "    time_hours = time/3600 #convert to hours\n",
    "    velocity = distance_miles/time_hours\n",
    "    print('The average velocity is: ', velocity, \" miles/hour\")\n",
    "      \n",
    "        \n",
    "        \n"
   ]
  },
  {
   "cell_type": "code",
   "execution_count": null,
   "metadata": {
    "slideshow": {
     "slide_type": "slide"
    }
   },
   "outputs": [],
   "source": [
    "Ques: Tailspin Toys is building a basketball court for its employees to improve company morale.\n",
    "        \n",
    "      You are creating a Python program that employees can use to keep track of their average score.\n",
    "\n",
    "      The program must allow users to enter their name and current scores.The program will output the username and the user's average score.The output must meet the following requirements.\n",
    "            - The user name must be left-aligned.\n",
    "            - If the username has fewer than 20 characters, addition is space must be added to the right.\n",
    "            - The average score must have three places to the left on the decimal point and one place to the right of decimal.(XXXX)\n",
    "     How should you complete the code to answer select the appropriate code segment in the answer area.\n",
    "    \n",
    "    Note: Each correct selection is wroth one point.\n",
    "    \n",
    "    name = input('What is your name?')\n",
    "    score = 0\n",
    "    count = 0\n",
    "    sum = 0\n",
    "    while(score!=-1):\n",
    "        score = int(input(\"Enter your score: (-1 to end)\"))\n",
    "        if score==-1:\n",
    "            break\n",
    "        sum+=score\n",
    "        count+=1\n",
    "    average = sum/count\n",
    "    point(\"# fill in the blanks, your average score is: # fill in the blanks\"%(name,average))\n",
    "        \n",
    "        \n",
    "# Ans: \n",
    "    name = input('What is your name?')\n",
    "    score = 0\n",
    "    count = 0\n",
    "    sum = 0\n",
    "    while(score!=-1):\n",
    "        score = int(input(\"Enter your score: (-1 to end)\"))\n",
    "        if score==-1:\n",
    "            break\n",
    "        sum+=score\n",
    "        count+=1\n",
    "    average = sum/count\n",
    "    point(\"%-20s, your average score is: %.5f\"%(name,average))\n",
    "\n",
    "        \n"
   ]
  },
  {
   "cell_type": "code",
   "execution_count": null,
   "metadata": {
    "slideshow": {
     "slide_type": "slide"
    }
   },
   "outputs": [],
   "source": [
    "Ques: Best For You Organics Company need a simple program that their call center will center will use in enter survey data for a new coffee variaty.\n",
    "    The program must accept input and return the average rating based on a five star scale. The output must be round to two decimal places.\n",
    "    You need to complete the code to meet the requirements.\n",
    "    How sould you complete to code? To answer, select the appropriate code segments in the answer area.\n",
    "    \n",
    "    Note : Each correct section is worth one point.\n",
    "    \n",
    "    sum = count = done = 0\n",
    "    average = 0.0\n",
    "    while(done!=-1):\n",
    "        rating = #fiil in the blanks\n",
    "        if rating ==-1:\n",
    "            break\n",
    "        sum += rating\n",
    "        count += 1\n",
    "    average = float(sum/count)\n",
    "    #fiil in the blanks\n",
    "     \n",
    "        \n",
    "# Ans: \n",
    "    sum = count = done = 0\n",
    "    average = 0.0\n",
    "    while(done!=-1):\n",
    "        rating = float(input('ENter next rating(1-5) int done'))\n",
    "        if rating ==-1:\n",
    "            break\n",
    "        sum += rating\n",
    "        count += 1\n",
    "    average = float(sum/count)\n",
    "    print('The average star rating for the new coffee is'.format(average,'.2f'))\n",
    "        \n",
    "        \n"
   ]
  },
  {
   "cell_type": "code",
   "execution_count": null,
   "metadata": {
    "slideshow": {
     "slide_type": "slide"
    }
   },
   "outputs": [],
   "source": [
    "Ques: You  are developing a Pyhton application for an online game.\n",
    "    You need to create a function that meets the following criteria.\n",
    "        - The function is named update_score\n",
    "        - The function receives the value to the current score.\n",
    "        - The function adds the value to the current score.\n",
    "        - The function return the new score.\n",
    "    \n",
    "    How should you complete the code? To answer, select the appropriate code segments in the answer area.\n",
    "    \n",
    "    ## Fill in the blanks:\n",
    "        current += value\n",
    "        ## Fill in the blanks\n",
    "        \n",
    "        \n",
    "# Ans: \n",
    "    def update_score(current, value):\n",
    "        current += value\n",
    "        return current\n",
    "        \n",
    "              \n"
   ]
  },
  {
   "cell_type": "code",
   "execution_count": null,
   "metadata": {
    "slideshow": {
     "slide_type": "slide"
    }
   },
   "outputs": [],
   "source": [
    "Ques: You are designing a decision stricture to convert a student numeric grade to letter grade. The program must assign a letter grade as specified in the following table.\n",
    "    Percentage Range          Letter grade\n",
    "    90 through 100                A\n",
    "    80 through 89                 B\n",
    "    70 through 79                 C\n",
    "    65 through 69                 D\n",
    "    0 through 64                  F\n",
    "\n",
    "    For example, if the user enters a 90, the output should be. \"youy letter grade is A\" Likewisse, if a user enters an 89, the output should be \"your letter grade is B.\"\n",
    "\n",
    "    How should you complete the code? To answer, select the appropriate code segments in the answer area.\n",
    "    \n",
    "    ## Letter Grade Converter\n",
    "    grade = int(input(\"Enter a numeric grade\"))\n",
    "    if grade>=90:\n",
    "        letter_grade = 'A'\n",
    "    elif grade >= 80:\n",
    "        letter_grade = 'B'\n",
    "    elif grade >= 70:\n",
    "        letter_grade = 'C'\n",
    "    elif grade >= 65    \n",
    "        \n",
    "# Ans:\n",
    "    ## Letter Grade Converter\n",
    "    grade = int(input(\"Enter a numeric grade\"))\n",
    "    # Fill in the blanks\n",
    "        letter_grade = 'A'\n",
    "    # Fill in the blanks\n",
    "        letter_grade = 'B'\n",
    "    # Fill in the blanks\n",
    "        letter_grade = 'C'\n",
    "    # Fill in the blanks\n",
    "        \n",
    "        \n"
   ]
  },
  {
   "cell_type": "code",
   "execution_count": null,
   "metadata": {
    "slideshow": {
     "slide_type": "slide"
    }
   },
   "outputs": [],
   "source": [
    "Ques: You are writing a Python program to vaildate employees numbers.\n",
    "    The employee number must have the format ddd-dd-dddd and consist only of numbers and dashes. The program must print True if the format is correct and print False.\n",
    "    incorrect.\n",
    "    \n",
    "    How should you complete the code? To answer, select the appropriate code segments in the answer area.\n",
    "    \n",
    "    # Fill in the blanks\n",
    "    parts=''\n",
    "    # Fill in the blanks\n",
    "        # Fill in the blanks\n",
    "        employee_number = input(\"Enter employee number (ddd-dd-dddd):\")\n",
    "        parts = employee_number.split('-')\n",
    "        if len(parts)==3:\n",
    "            if len(parts[0])==3 and len(parts[1])==2 and len(parts[2])==4:\n",
    "                if parts[0].isdigit() and parts[1].isdigit() and parts[2].isdigit():\n",
    "                    # Fill in the blanks\n",
    "        print(valid)\n",
    "        \n",
    "        \n",
    "# Ans:\n",
    "    employee_number='123'\n",
    "    parts=''\n",
    "    while employee_number!='':\n",
    "        valid = False\n",
    "        employee_number = input(\"Enter employee number (ddd-dd-dddd):\")\n",
    "        parts = employee_number.split('-')\n",
    "        if len(parts)==3:\n",
    "            if len(parts[0])==3 and len(parts[1])==2 and len(parts[2])==4:\n",
    "                if parts[0].isdigit() and parts[1].isdigit() and parts[2].isdigit():\n",
    "                    valid=True\n",
    "        print(valid)\n",
    "        \n",
    "        \n"
   ]
  },
  {
   "cell_type": "code",
   "execution_count": null,
   "metadata": {
    "slideshow": {
     "slide_type": "slide"
    }
   },
   "outputs": [],
   "source": [
    "Ques: You work for a company that distributes media for all ages.\n",
    "    You are writing a function that assigns a rating based on user age. The function must meet the following requirements.\n",
    "        - Anyone 18 years old or older receives a rating of 'A'.\n",
    "        - Anyone 13 of older, but younger than 18, receives a rating of 'T'.\n",
    "        - Anyone 12 years old or younger receives a rating of 'C'.\n",
    "        - If the age is unknown, the rating is set to 'C'.\n",
    "    You need to complete the code to meet the requirements.\n",
    "        \n",
    "    How should you complete the code? To answer, select the appropriate code segments in the answer area.\n",
    "    \n",
    "    def get_rating(age) :\n",
    "        rating = ''\n",
    "        if # Fill in the blanks\n",
    "        elif # Fill in the blanks\n",
    "        elif # Fill in the blanks\n",
    "        else: rating = 'A'\n",
    "        return rating\n",
    "        \n",
    "        \n",
    "# Ans:        \n",
    "    def get_rating(age) :\n",
    "        rating = ''\n",
    "        if age<13: rating='C'\n",
    "        elif age<18: rating='I'\n",
    "        elif age==None: rating='C'\n",
    "        else: rating = 'A'\n",
    "        return rating    \n",
    "        \n",
    "\n",
    "        \n",
    "        \n"
   ]
  },
  {
   "cell_type": "code",
   "execution_count": null,
   "metadata": {
    "slideshow": {
     "slide_type": "slide"
    }
   },
   "outputs": [],
   "source": [
    "Ques: You are developing a python application for an online product distribution company.\n",
    "    You need the program to iterate through a list of products and escape when a target product ID is found.\n",
    "    \n",
    "    How should you complete the code? To answer, select the appropriate code segments in the answer area.\n",
    "\n",
    "    Note: Each correct selection is worth one point.    \n",
    "    \n",
    "    productIdList = [0,1,2,3,4,5,6,7,8,9]\n",
    "    index = 0\n",
    "    # Fill in the blanks index(<10):\n",
    "        print(productIdList[index])\n",
    "        if productIdList[index] ==6:\n",
    "            # Fill in the blanks\n",
    "        else:\n",
    "            # Fill in the blanks\n",
    "        \n",
    "# Ans:\n",
    "    productIdList = [0,1,2,3,4,5,6,7,8,9]\n",
    "    index = 0\n",
    "    while index(<10):\n",
    "        print(productIdList[index])\n",
    "        if productIdList[index] ==6:\n",
    "            break\n",
    "        else:\n",
    "            index += 1\n",
    "            \n",
    "\n"
   ]
  },
  {
   "cell_type": "code",
   "execution_count": null,
   "metadata": {
    "slideshow": {
     "slide_type": "slide"
    }
   },
   "outputs": [],
   "source": [
    "Ques: You find error while evaluating the following code Line numbers are included for reference only        .\n",
    "    01. numbers = [0,1,2,3,4,5,6,7,8,9]\n",
    "    02. index = 0\n",
    "    03. while(index<10):\n",
    "    04.     print(numbers[index])\n",
    "    05.     ## file in the blanks\n",
    "    06.     if numbers(index) = 6:\n",
    "    07.         break\n",
    "    08.     else:\n",
    "    09.         index += 1\n",
    "    \n",
    "    You need to correct the code at line 3 and line 6.\n",
    "    \n",
    "    How should you complete the code? To answer, select the appropriate code segments in the answer area.\n",
    "    \n",
    "    Which code segment should you use at line 3.  ## file in the blanks\n",
    "    Which code segment should you use at line 6.  ## file in the blanks\n",
    "        \n",
    "        \n",
    "# Ans:\n",
    "    Which code segment should you use at line 3.  While(index<10):\n",
    "    Which code segment should you use at line 6.  if numbers[index]==6:\n",
    "        \n"
   ]
  },
  {
   "cell_type": "code",
   "execution_count": null,
   "metadata": {
    "slideshow": {
     "slide_type": "slide"
    }
   },
   "outputs": [],
   "source": [
    "Ques:\n",
    "    You are coding a math utility by using Python.\n",
    "    You are writing a function to compute roots.\n",
    "    The function must meet the following requirements:\n",
    "        \n",
    "    If a is non-negative, return a**(a/b)    \n",
    "    If a is negative and even, return 'Result is an imaginary number'\n",
    "    If a is negative and odd, return -(-a)**(1/b)\n",
    "        \n",
    "    How should you complete the code? To answer, select the appropriate code segments in the answer area.\n",
    "\n",
    "    def safe_root(a,b):\n",
    "        ## file in the blanks\n",
    "            answer=a**(1/b)\n",
    "        ## file in the blanks\n",
    "            ## file in the blanks\n",
    "                answer = \"Result is an imaginary number\"\n",
    "            ## file in the blanks\n",
    "                answer = -(-a)**(1/b)\n",
    "        return answer\n",
    "        \n",
    "# Ans:\n",
    "    def safe_root(a,b):\n",
    "        if a>=0:\n",
    "            answer=a**(1/b)\n",
    "        else:\n",
    "            if a%2==0:\n",
    "                answer = \"Result is an imaginary number\"\n",
    "            else:\n",
    "                answer = -(-a)**(1/b)\n",
    "        return answer\n",
    "        "
   ]
  }
 ],
 "metadata": {
  "celltoolbar": "Slideshow",
  "kernelspec": {
   "display_name": "Python 3",
   "language": "python",
   "name": "python3"
  },
  "language_info": {
   "codemirror_mode": {
    "name": "ipython",
    "version": 3
   },
   "file_extension": ".py",
   "mimetype": "text/x-python",
   "name": "python",
   "nbconvert_exporter": "python",
   "pygments_lexer": "ipython3",
   "version": "3.7.3"
  }
 },
 "nbformat": 4,
 "nbformat_minor": 2
}
