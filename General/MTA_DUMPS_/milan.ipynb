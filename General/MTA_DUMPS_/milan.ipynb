{
 "cells": [
  {
   "cell_type": "code",
   "execution_count": null,
   "metadata": {
    "slideshow": {
     "slide_type": "slide"
    }
   },
   "outputs": [],
   "source": [
    "Ques: You are creating a Python program that will let a user guess a number from 1 to 10. The user is allowed up to three quesses.\n",
    "    \n",
    "    01. from random import randint\n",
    "    02. target = randint(1,10)\n",
    "    03. chance = 1\n",
    "    04. print(\"Guess an integer from 1 to 10, you will have 3 chance.\")\n",
    "    05.  #fill the blanks   \n",
    "    06.     guess = int(input(\"Guess an integer: \"))\n",
    "    07.     if guess > target:\n",
    "    08.         print(\"Guess is too high\")\n",
    "    09.     elif guess < target:\n",
    "    10.         print(\"Guess is too low\")\n",
    "    11.     else:\n",
    "    12.         print(\"Guess is just right\")\n",
    "        \n",
    "    code segment:\n",
    "        while chance<=3:\n",
    "        while chance <3:\n",
    "        break\n",
    "        pass\n",
    "        chane+= 2\n",
    "        while chance>3\n",
    "        chance = 2\n",
    "    \n",
    "    Which code segment should you use at line 05?     # give answer   \n",
    "    Which code segment should you use at line 13?     # give answer   \n",
    "    Which code segment should you use at line 14?     # give answer  \n",
    "        \n",
    "        \n",
    "# Ans: \n",
    "    Which code segment should you use at line 05?     While chance <= 3:\n",
    "    Which code segment should you use at line 13?     chance += 1\n",
    "    Which code segment should you use at line 14?     pass\n",
    "        \n",
    "        \n"
   ]
  },
  {
   "cell_type": "code",
   "execution_count": null,
   "metadata": {
    "slideshow": {
     "slide_type": "slide"
    }
   },
   "outputs": [],
   "source": [
    "Ques: You have the following sequence structure\n",
    "        alpha = \"abcdefghijklmnopqrstuvwxyz\"\n",
    "    You need to evaluate the result of performing various slicing operations.\n",
    "    Match the result to the slicing operation, To answer drag the appropriate result the column on the its slicing operation on the right. Each result may be used once more then.\n",
    "    \n",
    "    Result: \n",
    "        'zwtqnkheb' , 'pmjg', 'defghijklmno','porunlkjhgft', 'defghgdirunop', 'dgjm'\n",
    "    \n",
    "    alpha[3:15]           # give answer \n",
    "    alpha[3:15:3]         # give answer \n",
    "    alpha[15:3:-3]        # give answer \n",
    "    alpha[::-3]           # give answer \n",
    "        \n",
    "# Ans:\n",
    "    alpha[3:15]           'defghijklmno' \n",
    "    alpha[3:15:3]         'dgjm' \n",
    "    alpha[15:3:-3]        'pmjg' \n",
    "    alpha[::-3]           'zwtqnkheb'\n",
    "        \n",
    "        \n"
   ]
  },
  {
   "cell_type": "code",
   "execution_count": null,
   "metadata": {
    "slideshow": {
     "slide_type": "slide"
    }
   },
   "outputs": [],
   "source": [
    "Ques: You are writing a Python program. The program collects customer data and store it in a database.\n",
    "    The program handle a wide variety of data.\n",
    "    You need to ensure that the program handle the data correctly so that it can be stored in the database correctly.\n",
    "    Match the data types in the code segment. To answer, drag the appropriate data type from the column on the left to its code segment on the right. Each data type may be used once\n",
    "    more than one or not at all.\n",
    "        \n",
    "    Data Types:\n",
    "        bool , float, int, str\n",
    "        \n",
    "    age=2\n",
    "    minor = False\n",
    "    name = 'Contosa'\n",
    "    weight = 123.5\n",
    "    zip = '81000'\n",
    "        \n",
    "# Ans:\n",
    "    int age=2\n",
    "    bool minor = False\n",
    "    str name = 'Contosa'\n",
    "    float weight = 123.5\n",
    "    str zip = '81000'\n",
    "        \n"
   ]
  },
  {
   "cell_type": "code",
   "execution_count": null,
   "metadata": {
    "slideshow": {
     "slide_type": "slide"
    }
   },
   "outputs": [],
   "source": [
    "Ques: You are writing a Python program that evaluate an arithmetic formula.\n",
    "        The formula is described as a equals a multiplied by negative one, then raised to the second power where a is the value that will be input and b is the result.\n",
    "        You create the following code segment line numbers are included for reference only.\n",
    "        \n",
    "        01. a = eval(input('Enter a number for the equation: '))\n",
    "        02. b = \n",
    "        You need to ennsure that the result is correct.\n",
    "        How should you complete the code on the split bar between panes or scroll to view contect.\n",
    "        NOTE: Each coorect selection is worth one point.\n",
    "        \n",
    "        code Segement:\n",
    "            '-', '(', ')', '**', '**2', '2', '0'\n",
    "        B = ???\n",
    "        \n",
    "# Ans: \n",
    "        B = -(*)**2\n",
    "        \n",
    "        \n"
   ]
  },
  {
   "cell_type": "code",
   "execution_count": null,
   "metadata": {
    "slideshow": {
     "slide_type": "slide"
    }
   },
   "outputs": [],
   "source": [
    "Ques: You are writing a Pyhton program to perfrom arithmetic operation.\n",
    "        You create the following code.\n",
    "        \n",
    "        a=11\n",
    "        b=4\n",
    "        \n",
    "        What is the result of each arithmetic expression? To answer, drag the appropriate expression from the column on the left to its result on the right. Each expression may be used once more\n",
    "        that once, or not at all.\n",
    "    \n",
    "        Result:\n",
    "            print(a/b)\n",
    "            print(a//b)\n",
    "            print(a%b)\n",
    "        \n",
    "        2    -  ?\n",
    "        3    -  ?\n",
    "        2.75 -  ?\n",
    "Ans: \n",
    "      2    -  print(a//b)\n",
    "      3    -  print(a%b)\n",
    "      2.75 -  print(a/b) \n",
    "\n",
    "\n"
   ]
  },
  {
   "cell_type": "code",
   "execution_count": null,
   "metadata": {
    "slideshow": {
     "slide_type": "slide"
    }
   },
   "outputs": [],
   "source": [
    "Ques: You are writing a function in pyhton that must the following requirements:\n",
    "        - The function accepts a list and a string as parameters.\n",
    "        - The function must search for the string in the list.\n",
    "        - If the string is found in the list, the function must a message indicting that the string was found and then stopm ietating through the list.\n",
    "        - If the string is not found the function must print a message indicating that the string was not found in the list.\n",
    "        \n",
    "        In which order should you arrange the code segments to develop the solution? To answer, move all code segment from the list of code segments to the answer area and range them in\n",
    "        the correct order.\n",
    "        \n",
    "# Ans:\n",
    "    def search(items, term):\n",
    "        for i in range(len(items)):\n",
    "            if items[i]==term:\n",
    "                print('{0} was found in the list.'.format(term))\n",
    "                break\n",
    "            else:\n",
    "                print({0} was not found in the list.'.format(term))\n",
    "                      \n",
    "                      \n"
   ]
  },
  {
   "cell_type": "code",
   "execution_count": null,
   "metadata": {
    "slideshow": {
     "slide_type": "slide"
    }
   },
   "outputs": [],
   "source": [
    "Ques: You are creating a Pyhton script to evaluate input and check for upper and lower case.\n",
    "    Which four code segments sould you use to develop the solution? TO To answer, move all code segment from the list of code segments to the answer area and range them in\n",
    "    the correct order.\n",
    "                      \n",
    "    Code Segement:\n",
    "            else: \n",
    "                print(name, 'is lower case.')\n",
    "            else:\n",
    "                print(name, 'is mixed case.')\n",
    "                      \n",
    "# Ans: \n",
    "    name = input(\"Enter your name: \")\n",
    "    if name.lower()==name:\n",
    "        print(name,'is all lower case.')\n",
    "    elif name.upper() == name:\n",
    "        print(name, 'is all upper cases')\n",
    "    else: \n",
    "        print(name, \"is upper case.\")\n",
    "                \n",
    "        \n"
   ]
  },
  {
   "cell_type": "code",
   "execution_count": null,
   "metadata": {
    "slideshow": {
     "slide_type": "slide"
    }
   },
   "outputs": [],
   "source": [
    "Ques: Match the data type to the type operations.\n",
    "    To answer, drag the appropriate data type to the correct type operation.Each data type may be used once, more than  once or not at all.\n",
    "    Data Types:\n",
    "        int, float, str, bool\n",
    "                      \n",
    "    type(1223)    ???\n",
    "    type(5.0)     ???\n",
    "    type(\"True\")  ???\n",
    "    type(False)   ???\n",
    "\n",
    "    \n",
    "# Ans: \n",
    "    type(1223)    int\n",
    "    type(5.0)     float\n",
    "    type(\"True\")  str\n",
    "    type(False)   bool\n",
    "        \n"
   ]
  }
 ],
 "metadata": {
  "celltoolbar": "Slideshow",
  "kernelspec": {
   "display_name": "Python 3",
   "language": "python",
   "name": "python3"
  },
  "language_info": {
   "codemirror_mode": {
    "name": "ipython",
    "version": 3
   },
   "file_extension": ".py",
   "mimetype": "text/x-python",
   "name": "python",
   "nbconvert_exporter": "python",
   "pygments_lexer": "ipython3",
   "version": "3.7.3"
  }
 },
 "nbformat": 4,
 "nbformat_minor": 2
}
