{
 "cells": [
  {
   "cell_type": "code",
   "execution_count": null,
   "metadata": {
    "slideshow": {
     "slide_type": "slide"
    }
   },
   "outputs": [],
   "source": [
    "Ques: Tailspin Toyes uses Python to control its new toy Happy Clown. The Program has errors that cause the clown to run around in an infinite circle.\n",
    "    You have been hired to help debug the following Happy Clown code line numbers are included for referance only.\n",
    "    \n",
    "    01. import math\n",
    "    02. # default motion for happy clown\n",
    "    03. power = True \n",
    "    04. move = 0\n",
    "    05. while(power):\n",
    "    06.    if move==0:\n",
    "    07.        trunValue = math.pi / move\n",
    "    08.        move+=5\n",
    "    09.    else:\n",
    "    10.        trunValue= 0\n",
    "    11.        move=0\n",
    "\n",
    "    Which error exists in the code?\n",
    "    \n",
    "    A. Line 05 causes a runtime error because the expression is incomplete.\n",
    "    B. Line 07 causes a runtime errors due to division by zero\n",
    "    C. Line 05 has a syntax error because it should read(power==True)\n",
    "    D. Line 08 has a syntax error because += is an invalid statement\n",
    "    \n",
    "# Ans: B"
   ]
  },
  {
   "cell_type": "code",
   "execution_count": null,
   "metadata": {
    "slideshow": {
     "slide_type": "slide"
    }
   },
   "outputs": [],
   "source": [
    "Ques: This Question requires that you evaluate the underlined text to determine if it is correct.\n",
    "    You write the following code.\n",
    "    \n",
    "    import sys\n",
    "    try:\n",
    "        file_in=open('in.txt','r')\n",
    "        file_out=open('out.txt','w+')\n",
    "    except IOError:\n",
    "        print(\"cannot open\",file_name)\n",
    "    else:\n",
    "        i=1\n",
    "        for line in file_in:\n",
    "            print(line.rstrip())\n",
    "            file_out.write(\"line\"+str(i)+': '+line)\n",
    "            i+= 1\n",
    "        file_in.close()                \n",
    "        file_out.close()\n",
    "    \n",
    "    A. No Change in needed.\n",
    "    B. The code runs but generates a logic error\n",
    "    C. The code will generate a runtime error\n",
    "    D. The code will generate a syntax error\n",
    "\n",
    "# Ans: A"
   ]
  },
  {
   "cell_type": "code",
   "execution_count": null,
   "metadata": {
    "slideshow": {
     "slide_type": "slide"
    }
   },
   "outputs": [],
   "source": [
    "Ques: You evaluate the following code.\n",
    "numList = [0,1,2,3,4]\n",
    "print(5 in numList)\n",
    "\n",
    "What is the output of the print statement.\n",
    "\n",
    "A. 5\n",
    "B. False\n",
    "C. 4 \n",
    "D. True\n",
    "\n",
    "# Ans: B"
   ]
  },
  {
   "cell_type": "code",
   "execution_count": null,
   "metadata": {
    "slideshow": {
     "slide_type": "slide"
    }
   },
   "outputs": [],
   "source": [
    "Ques: Woodgrove Bank is migrating their legacy bank transaction code to python.\n",
    "    You have been hired to document the migrated code.\n",
    "    Which documentation syntax is correct?\n",
    "\n",
    "    A. Returns the current balance of the bank account\n",
    "        def get_balance():\n",
    "            return balance\n",
    "        \n",
    "    B. // Returns the current balance of the bank account\n",
    "        def get_balance():\n",
    "            return balance\n",
    "        \n",
    "    C. def get_balance():\n",
    "            # Returns the current balance of the bank account\n",
    "            return balance\n",
    "        \n",
    "    D. def get_balance():\n",
    "            /* Returns the current balance of the bank account */\n",
    "            return balance\n",
    "\n",
    "# Ans: C"
   ]
  },
  {
   "cell_type": "code",
   "execution_count": null,
   "metadata": {
    "slideshow": {
     "slide_type": "slide"
    }
   },
   "outputs": [],
   "source": [
    "Ques: You develop a Python application for your school.\n",
    "    A list named colors cantains 200 colors. You need to slice the list to display every other color starting with the second color.\n",
    "    Which code should you use?\n",
    "    \n",
    "    A. colors[1:2]\n",
    "    B. colors[2:2]\n",
    "    C. colors[1::2]\n",
    "    D. colors[::2]\n",
    "    \n",
    "# Ans: D"
   ]
  },
  {
   "cell_type": "code",
   "execution_count": null,
   "metadata": {
    "slideshow": {
     "slide_type": "slide"
    }
   },
   "outputs": [],
   "source": [
    "Ques: You are writing a Python application for a dance studio.\n",
    "    The studio wants to encourage youth and seniors to sign up. Minors and seniors must receive a 10% discount.\n",
    "    You write the following code line numbers are included for reference only.\n",
    "    \n",
    "    1. def get_discount(minor, senior):\n",
    "    2.     discount = 0.1\n",
    "    3.     \n",
    "    4.         discount=0\n",
    "    5.     return discount\n",
    "\n",
    "    You need to complete the code.\n",
    "    Which code should you add on line 3.\n",
    "    \n",
    "    A. if(not minor) or senior:\n",
    "    B. if(not minor) and (not senior):\n",
    "    C. if not (minor and senior):\n",
    "    D. if(not minor) and senior:\n",
    "        \n",
    "# Ans: B"
   ]
  },
  {
   "cell_type": "code",
   "execution_count": null,
   "metadata": {
    "slideshow": {
     "slide_type": "slide"
    }
   },
   "outputs": [],
   "source": [
    "Ques: You write the following code:\n",
    "    list_1 = [1,2]\n",
    "    list_2 = [3,4]\n",
    "    list_3 = list_1 + list_2\n",
    "    list_4 = list_3 * 3\n",
    "    print(list_4)\n",
    "    \n",
    "    You run the code. \n",
    "    What is the output value.\n",
    "    \n",
    "    A. [[1,2,3,4],[1,2,3,4],[1,2,3,4]]\n",
    "    B. [1,2,3,4,1,2,3,4,1,2,3,4]\n",
    "    C. [[1,2],[3,4],[1,2],[3,4],[1,2],[3,4]]\n",
    "    D. [3,6,9,12]\n",
    "    \n",
    "# Ans: B"
   ]
  },
  {
   "cell_type": "code",
   "execution_count": null,
   "metadata": {
    "slideshow": {
     "slide_type": "slide"
    }
   },
   "outputs": [],
   "source": [
    "Ques: You write the following code.  ### Not complete\n",
    "    import datetime \n",
    "    \n",
    "    d=datetime.datetime(2014, 4, 7)\n",
    "    print('{:%B.%d.%y}'.format(d))\n",
    "    num=1234567.898\n",
    "    print('{:,.4f}'.format(num))\n",
    "    \n",
    "    You run the program.\n",
    "    What is the output.\n",
    "    \n",
    "    A. 04-07-17\n",
    "       1234567.89\n",
    "        \n",
    "    B. 04-07-17\n",
    "       1,234,567.8900\n",
    "    \n",
    "    C. 2017-April-07\n",
    "       1.234.567.898\n",
    "    \n",
    "    D. 2017-April-07\n",
    "       1,234,567.8900\n",
    "        \n",
    "# Ans: D"
   ]
  },
  {
   "cell_type": "code",
   "execution_count": null,
   "metadata": {
    "slideshow": {
     "slide_type": "slide"
    }
   },
   "outputs": [],
   "source": [
    "Ques: You are writing a Python Program to automate inventory. Your first task is to read a file of inventory transaction. The file contains sales from the previous day, including the item id, price and \n",
    "quality.\n",
    "The following shows a sample of the data from the file.\n",
    "\n",
    "10, 200, 5\n",
    "20, 100, 1\n",
    "    \n",
    "The code must meet the following requirements:\n",
    "    - Each line of the file must be read and printed\n",
    "    - If a blank line is encountered, it must be ignored\n",
    "    - When all lines have been read, the file must be closed\n",
    "    \n",
    "You create the following code line numbers are included for reference only.\n",
    "\n",
    "01.  inventory = open('inventory.txt','r')\n",
    "\n",
    "  \n",
    "    A. 05. if line != '':\n",
    "       06.  if line != \"\":\n",
    "    \n",
    "    B. 05. if line != '\\n':\n",
    "       06.  if line != \"\":\n",
    "    \n",
    "    C. 05. if line != '\\n':\n",
    "       06.  if line != None:\n",
    "    \n",
    "    D. 05. if line != '':\n",
    "       06.  if line != '\\n':\n",
    "        \n",
    "# Ans: B"
   ]
  },
  {
   "cell_type": "code",
   "execution_count": null,
   "metadata": {
    "slideshow": {
     "slide_type": "slide"
    }
   },
   "outputs": [],
   "source": [
    "Ques:  A classmate has asked you to debug the following code.\n",
    "    x=4\n",
    "    while x>=1:\n",
    "        if x%4==0:\n",
    "            print('party')\n",
    "        elif x-2<0:\n",
    "            print('cake')\n",
    "        elif x/3==0:\n",
    "            print('greeting')\n",
    "        else:\n",
    "            print('birthday')\n",
    "        x -= 1\n",
    "    \n",
    "    What is the output that is printed to the screen?\n",
    "    \n",
    "    A. party\n",
    "       birthday\n",
    "       birthday\n",
    "       cake\n",
    "    \n",
    "    B. party\n",
    "       greeting\n",
    "       birthday\n",
    "       cake\n",
    "    \n",
    "    C. birthday\n",
    "       party\n",
    "       greeting\n",
    "       cake\n",
    "        \n",
    "    D. birthday\n",
    "       birthday\n",
    "       party\n",
    "    \n",
    "# Ans: B"
   ]
  },
  {
   "cell_type": "code",
   "execution_count": null,
   "metadata": {
    "slideshow": {
     "slide_type": "slide"
    }
   },
   "outputs": [],
   "source": [
    "Ques: You to write code that generates a random float with a minimum value of 0.0 and a maximum value of 1.0\n",
    "    Which statement should you use?\n",
    "    \n",
    "    A. random.random()\n",
    "    B. random.randrange(0.0,1.0)\n",
    "    C. random.randrange()\n",
    "    D. random.randint(0,1)\n",
    "    \n",
    "# Ans: A"
   ]
  },
  {
   "cell_type": "code",
   "execution_count": null,
   "metadata": {
    "slideshow": {
     "slide_type": "slide"
    }
   },
   "outputs": [],
   "source": [
    "Ques: You write a function that reads a data file and prints each line of the file.\n",
    "    You write the following code Line number are included for reference only.\n",
    "    \n",
    "    01. def read_file(file):\n",
    "    02.     line = None\n",
    "    03.     if os.path.isfile(file):\n",
    "    04.         data = open(file,'r')\n",
    "    05.         for line in data:\n",
    "    06.             print(line)\n",
    "                    \n",
    "    When you run the program. you receive an error on line 03.\n",
    "    What is causing the error?\n",
    "    \n",
    "    A. You need to import the os library\n",
    "    B. The isfile method does not accept one parameter.\n",
    "    C. The path method does not exist in the os object\n",
    "    D. The isfile method does not exist in the path object\n",
    "\n",
    "# Ans: A"
   ]
  },
  {
   "cell_type": "code",
   "execution_count": null,
   "metadata": {
    "slideshow": {
     "slide_type": "slide"
    }
   },
   "outputs": [],
   "source": [
    "Ques: You are creating eCommerce script that accept input from the user and output the data in a comma delimited format.\n",
    "    You write the following lines of the code to accept input.\n",
    "    item = input('Enter the item name: ')\n",
    "    sales=  input('Enter the Quantity: ')\n",
    "    \n",
    "    The  output must meet the following requirements.\n",
    "        - String must be enclosed inside of double quotes.\n",
    "        - Numbers must not be enclosed is quotes or other characters\n",
    "        - Each item must be seperated with comma.\n",
    "    \n",
    "    You need to complete the code to meet the requirements.\n",
    "    Which three code segment should you use? Each correct answer presents a complete solution Choose three.\n",
    "    \n",
    "    A. print ('{0},{i}'.format(item, sales))\n",
    "    B. print(item+','+sales)\n",
    "    C. print('\"' + item + '\",'+sales)\n",
    "    D. print('\"%s\",%s'%(item, sales))\n",
    "    E. print('\"{0}\",{1}'.format(item , sales))\n",
    "\n",
    "# Ans : C, D, E"
   ]
  },
  {
   "cell_type": "code",
   "execution_count": null,
   "metadata": {
    "slideshow": {
     "slide_type": "slide"
    }
   },
   "outputs": [],
   "source": [
    "Ques: Woodgrove Bank must generate a report that shows the average balance for all customers each day. The report must tracate the decimal of the balance.\n",
    "    Which two code segment should you use? Each correct answer presents a complete solution. Choose two.\n",
    "    \n",
    "    A. average_balance = total_depostis**number_of_customers\n",
    "    B. average_balance = total_depostis//number_of_customers\n",
    "    C. average_balance = int(total_depostis*number_of_customers)\n",
    "    D. average_balance = float(total_depostis//number_of_customers)\n",
    "\n",
    "# Ans: B, C"
   ]
  }
 ],
 "metadata": {
  "celltoolbar": "Slideshow",
  "kernelspec": {
   "display_name": "Python 3",
   "language": "python",
   "name": "python3"
  },
  "language_info": {
   "codemirror_mode": {
    "name": "ipython",
    "version": 3
   },
   "file_extension": ".py",
   "mimetype": "text/x-python",
   "name": "python",
   "nbconvert_exporter": "python",
   "pygments_lexer": "ipython3",
   "version": "3.7.3"
  }
 },
 "nbformat": 4,
 "nbformat_minor": 2
}
