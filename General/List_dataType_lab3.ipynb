{
 "cells": [
  {
   "cell_type": "markdown",
   "metadata": {
    "slideshow": {
     "slide_type": "slide"
    }
   },
   "source": [
    "## List DataType"
   ]
  },
  {
   "cell_type": "markdown",
   "metadata": {
    "slideshow": {
     "slide_type": "fragment"
    }
   },
   "source": [
    "- Lists are just like dynamic sized arrays, declared in other languages (vector in C++ and ArrayList in Java)."
   ]
  },
  {
   "cell_type": "markdown",
   "metadata": {
    "slideshow": {
     "slide_type": "fragment"
    }
   },
   "source": [
    "- Lists need not be homogeneous always which makes it a most powerful tool in Python."
   ]
  },
  {
   "cell_type": "markdown",
   "metadata": {
    "slideshow": {
     "slide_type": "fragment"
    }
   },
   "source": [
    "- A single list may contain DataTypes like Integers, Strings, as well as Objects."
   ]
  },
  {
   "cell_type": "markdown",
   "metadata": {
    "slideshow": {
     "slide_type": "slide"
    }
   },
   "source": [
    "- Lists are mutable, and hence, they can be altered even after their creation."
   ]
  },
  {
   "cell_type": "markdown",
   "metadata": {
    "slideshow": {
     "slide_type": "fragment"
    }
   },
   "source": [
    "- List in Python are ordered and have a definite count."
   ]
  },
  {
   "cell_type": "markdown",
   "metadata": {
    "slideshow": {
     "slide_type": "fragment"
    }
   },
   "source": [
    "- The elements in a list are indexed according to a definite sequence and the indexing of a list is done with 0 being the first index."
   ]
  },
  {
   "cell_type": "markdown",
   "metadata": {
    "slideshow": {
     "slide_type": "slide"
    }
   },
   "source": [
    "- The elements in a list are indexed according to a definite sequence and the indexing of a list is done with 0 being the first index."
   ]
  },
  {
   "cell_type": "markdown",
   "metadata": {
    "slideshow": {
     "slide_type": "fragment"
    }
   },
   "source": [
    "- Lists in Python can be created by just placing the sequence inside the square brackets []."
   ]
  },
  {
   "cell_type": "code",
   "execution_count": 4,
   "metadata": {
    "slideshow": {
     "slide_type": "slide"
    }
   },
   "outputs": [
    {
     "name": "stdout",
     "output_type": "stream",
     "text": [
      "All method :  ['__add__', '__class__', '__contains__', '__delattr__', '__delitem__', '__dir__', '__doc__', '__eq__', '__format__', '__ge__', '__getattribute__', '__getitem__', '__gt__', '__hash__', '__iadd__', '__imul__', '__init__', '__init_subclass__', '__iter__', '__le__', '__len__', '__lt__', '__mul__', '__ne__', '__new__', '__reduce__', '__reduce_ex__', '__repr__', '__reversed__', '__rmul__', '__setattr__', '__setitem__', '__sizeof__', '__str__', '__subclasshook__', 'append', 'clear', 'copy', 'count', 'extend', 'index', 'insert', 'pop', 'remove', 'reverse', 'sort']\n"
     ]
    }
   ],
   "source": [
    "### List All methods\n",
    "lst = list()\n",
    "print(\"All method : \",dir(lst))  "
   ]
  },
  {
   "cell_type": "markdown",
   "metadata": {
    "slideshow": {
     "slide_type": "slide"
    }
   },
   "source": [
    "### LAB Questions "
   ]
  },
  {
   "cell_type": "code",
   "execution_count": 1,
   "metadata": {
    "slideshow": {
     "slide_type": "fragment"
    }
   },
   "outputs": [
    {
     "name": "stdout",
     "output_type": "stream",
     "text": [
      "Ascending Order:  [1, 3, 12, 23, 34, 46, 56, 56, 67, 89, 98]\n",
      "Descending order: [98, 89, 67, 56, 56, 46, 34, 23, 12, 3, 1]\n"
     ]
    }
   ],
   "source": [
    "# Ques 1: Sort the integers values in ascending and descending order and also mention the time complexity?\n",
    "lst = [34,1,3,46,23,56,12,98,89,67,56]\n",
    "# Ans :\n",
    "lst.sort()\n",
    "print('Ascending Order: ',lst)\n",
    "lst.sort(reverse=True)\n",
    "print('Descending order:',lst)\n",
    "## Time Complexity : O(nlogn)"
   ]
  },
  {
   "cell_type": "code",
   "execution_count": 2,
   "metadata": {
    "slideshow": {
     "slide_type": "slide"
    }
   },
   "outputs": [
    {
     "data": {
      "text/plain": [
       "3"
      ]
     },
     "execution_count": 2,
     "metadata": {},
     "output_type": "execute_result"
    }
   ],
   "source": [
    "# Ques 2: Find the index of 46?\n",
    "lst = [34,1,3,46,23,56,12,98,89,67,56]\n",
    "# Ans :\n",
    "lst.index(46)"
   ]
  },
  {
   "cell_type": "code",
   "execution_count": 3,
   "metadata": {
    "slideshow": {
     "slide_type": "fragment"
    }
   },
   "outputs": [
    {
     "name": "stdout",
     "output_type": "stream",
     "text": [
      "[5, 1, 2, 3, 4]\n"
     ]
    }
   ],
   "source": [
    "# Ques 3: Right circulation rotation on one element in list.\n",
    "lst = [1,2,3,4,5] \n",
    "# Ans :\n",
    "print(lst[-1:]+lst[:-1])"
   ]
  },
  {
   "cell_type": "code",
   "execution_count": 4,
   "metadata": {
    "slideshow": {
     "slide_type": "fragment"
    }
   },
   "outputs": [
    {
     "name": "stdout",
     "output_type": "stream",
     "text": [
      "[1, 46, 56, 98, 67, 34, 32, 99]\n"
     ]
    }
   ],
   "source": [
    "# Ques 4: Using slicing print odd index elements.\n",
    "lst = [34,1,3,46,23,56,12,98,89,67,56,34,12,32,68,99]\n",
    "# Ans :\n",
    "print(lst[1::2])"
   ]
  },
  {
   "cell_type": "code",
   "execution_count": null,
   "metadata": {
    "slideshow": {
     "slide_type": "slide"
    }
   },
   "outputs": [],
   "source": [
    "## Do it Yourself\n",
    "Ques 5: What is different between 'shallow copy' and 'deep copy' ?"
   ]
  },
  {
   "cell_type": "code",
   "execution_count": null,
   "metadata": {
    "slideshow": {
     "slide_type": "fragment"
    }
   },
   "outputs": [],
   "source": [
    "Ques 6: Use insert, pop, clear, remove, count, index methods and write the outputs.\n",
    "lst = [34,1,3,46,23,56,12,98,89,67]\n",
    "op1: pop --> 2 times\n",
    "op2: inset --> 44\n",
    "op3: remove --> 34\n",
    "op4: clear\n",
    "op5: insert --> 56,78,12,23\n",
    "op6: count\n",
    "op7: index --> 12"
   ]
  },
  {
   "cell_type": "code",
   "execution_count": null,
   "metadata": {
    "slideshow": {
     "slide_type": "fragment"
    }
   },
   "outputs": [],
   "source": [
    "Ques 7: Using slicing print lst 3 even index elements.\n",
    "lst = [34,1,3,46,23,56,12,98,89,67,56,34,12,32,68,99]"
   ]
  },
  {
   "cell_type": "code",
   "execution_count": null,
   "metadata": {
    "slideshow": {
     "slide_type": "fragment"
    }
   },
   "outputs": [],
   "source": [
    "Ques 8: Do right circulation rotation on two element in list.\n",
    "lst = [1,2,3,4,5,6,7,8]\n",
    "output : [7,8,1,2,3,4,5,6]"
   ]
  }
 ],
 "metadata": {
  "celltoolbar": "Slideshow",
  "kernelspec": {
   "display_name": "Python 3",
   "language": "python",
   "name": "python3"
  },
  "language_info": {
   "codemirror_mode": {
    "name": "ipython",
    "version": 3
   },
   "file_extension": ".py",
   "mimetype": "text/x-python",
   "name": "python",
   "nbconvert_exporter": "python",
   "pygments_lexer": "ipython3",
   "version": "3.7.3"
  }
 },
 "nbformat": 4,
 "nbformat_minor": 4
}
